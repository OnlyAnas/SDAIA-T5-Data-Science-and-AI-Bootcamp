{
  "cells": [
    {
      "cell_type": "markdown",
      "metadata": {
        "id": "KqkBvEZqrZ1Q"
      },
      "source": [
        "\n",
        "\n",
        "---\n",
        "\n",
        "\n",
        "\n",
        "---\n",
        "\n",
        "\n",
        "#Linear Reggression\n",
        "\n",
        "\n",
        "---\n",
        "\n",
        "\n",
        "\n",
        "---\n",
        "*Linear regression* models the relationship between independent variable(s) x and dependent variable y using a linear equation:\n",
        "\n",
        "$$\n",
        "y = β₀ + β₁x + ε\n",
        "$$\n",
        "\n",
        "where:\n",
        "- β₀ is the y-intercept,\n",
        "- β₁ is the slope,\n",
        "- x is the independent variable,\n",
        "- y is the dependent variable, and\n",
        "- ε is the error term.\n",
        "\n",
        "\n",
        "In this notebook, we will explore linear regression by generating synthetic data using `NumPy`. We will create the dataset with the following relationship:\n",
        "`y = 4 + 3 * x + ε`, where `x` is generated from a uniform distribution and `ε` is added noise.\n"
      ]
    },
    {
      "cell_type": "markdown",
      "metadata": {
        "id": "jy_VYK4q9LHU"
      },
      "source": [
        "#Setup"
      ]
    },
    {
      "cell_type": "code",
      "execution_count": 1,
      "metadata": {
        "id": "RZwoOcXmrKlu"
      },
      "outputs": [],
      "source": [
        "# Common imports\n",
        "import sklearn\n",
        "import numpy as np\n",
        "import os\n",
        "import matplotlib as mpl\n",
        "import matplotlib.pyplot as plt\n",
        "mpl.rc('axes', labelsize=14)\n",
        "mpl.rc('xtick', labelsize=12)\n",
        "mpl.rc('ytick', labelsize=12)\n",
        "\n",
        "\n",
        "# Establish a fixed random seed for consistent reproducibility in random processes\n",
        "np.random.seed(42)\n"
      ]
    },
    {
      "cell_type": "markdown",
      "metadata": {
        "id": "v4ZQtM1BmJFf"
      },
      "source": [
        "# Generate the dataset"
      ]
    },
    {
      "cell_type": "code",
      "execution_count": 2,
      "metadata": {
        "id": "-WubAwTrrUaP"
      },
      "outputs": [],
      "source": [
        "# Generating a synthetic dataset for regression analysis\n",
        "\n",
        "# Step 1: Generating feature matrix X\n",
        "# X contains 100 samples with 1 feature each\n",
        "# Values are randomly sampled from a uniform distribution between 0 and 2\n",
        "X = 2 * np.random.rand(100, 1)\n",
        "\n",
        "# Step 2: Generating target variable y\n",
        "# y is generated based on the equation y = 4 + 3*X + noise\n",
        "# np.random.randn(100, 1) adds random noise sampled from a standard normal distribution (mean 0, std deviation 1)\n",
        "# The noise introduces variability and makes the relationship between X and y more realistic\n",
        "y = 4 + 3 * X + np.random.randn(100, 1)\n"
      ]
    },
    {
      "cell_type": "code",
      "execution_count": 3,
      "metadata": {
        "colab": {
          "base_uri": "https://localhost:8080/",
          "height": 463
        },
        "id": "66ukFTx3ru4U",
        "outputId": "c510a089-0e70-44fc-9859-bff6c8e13995"
      },
      "outputs": [
        {
          "data": {
            "image/png": "[encoded data removed]",
            "text/plain": [
              "<Figure size 432x288 with 1 Axes>"
            ]
          },
          "metadata": {
            "needs_background": "light"
          },
          "output_type": "display_data"
        }
      ],
      "source": [
        "plt.plot(X, y, \"g.\")             # Plotting X versus y with blue dots\n",
        "plt.xlabel(\"$x_1$\", fontsize=18)  # Labeling the x-axis with LaTeX notation\n",
        "plt.ylabel(\"$y$\", rotation=0, fontsize=18)  # Labeling the y-axis with LaTeX notation\n",
        "plt.axis([0, 2, 0, 15])           # Setting the axis limits: [xmin, xmax, ymin, ymax]\n",
        "plt.show()                       # Displaying the plot\n"
      ]
    },
    {
      "cell_type": "code",
      "execution_count": 4,
      "metadata": {
        "colab": {
          "base_uri": "https://localhost:8080/"
        },
        "id": "7RE4YIXEsF4S",
        "outputId": "83a4718b-4b6f-4df5-e2a7-964de1a88490"
      },
      "outputs": [],
      "source": [
        "# New input data for prediction\n",
        "X_new = np.array([[0], [2]])\n",
        "\n",
        "# Augmenting the new input data by adding a column of ones to represent x0 = 1 for each instance\n",
        "# X_new_b = np.c_[np.ones((2, 1)), X_new]\n"
      ]
    },
    {
      "cell_type": "markdown",
      "metadata": {},
      "source": [
        "#Split the data into train_test "
      ]
    },
    {
      "cell_type": "code",
      "execution_count": 5,
      "metadata": {},
      "outputs": [],
      "source": [
        "from sklearn.model_selection import train_test_split\n",
        "\n",
        "X_train, X_test, y_train, y_test = train_test_split(X, y, test_size=0.3)"
      ]
    },
    {
      "cell_type": "markdown",
      "metadata": {
        "id": "qyzqPDTcmzQI"
      },
      "source": [
        "#Importing and training linear regression model"
      ]
    },
    {
      "cell_type": "code",
      "execution_count": 6,
      "metadata": {},
      "outputs": [],
      "source": [
        "from sklearn.linear_model import LinearRegression  # Import LinearRegression model from scikit-learn\n",
        "lin_reg = LinearRegression()  # Instantiate a LinearRegression model"
      ]
    },
    {
      "cell_type": "code",
      "execution_count": 7,
      "metadata": {
        "colab": {
          "base_uri": "https://localhost:8080/"
        },
        "id": "xVUpYNbQsxtd",
        "outputId": "999f99e5-3769-44d8-d196-5e70e64cd3fd"
      },
      "outputs": [
        {
          "name": "stdout",
          "output_type": "stream",
          "text": [
            "Linear Regression Model intercept is [4.08033778]\n",
            "Linear Regression Model Co-efficient is [[2.78523366]]\n"
          ]
        }
      ],
      "source": [
        "# .fit() method in scikit-learn is used to train a machine learning model on the provided training data.\n",
        "# Train the LinearRegression model on X_train and y_train\n",
        "lin_reg.fit(X_train,y_train )\n",
        "\n",
        "# Intercept (bias) term of the linear regression model\n",
        "print('Linear Regression Model intercept is', lin_reg.intercept_)\n",
        "\n",
        "# Coefficients of the features in the linear regression model\n",
        "print('Linear Regression Model Co-efficient is', lin_reg.coef_)\n",
        "\n"
      ]
    },
    {
      "cell_type": "markdown",
      "metadata": {},
      "source": [
        "#Measure Model performance\n",
        "\n"
      ]
    },
    {
      "cell_type": "markdown",
      "metadata": {},
      "source": [
        "Mean square error (MSE) is probably the most commonly used error metric. It penalizes larger errors because squaring larger numbers has a greater impact than squaring smaller numbers.  The MSE is the sum of the squared errors divided by the number of observations.\n",
        "\n",
        "<img src = 'https://miro.medium.com/v2/resize:fit:532/format:webp/1*1TV6T6hNP-iwJrtvfsvCRQ.png'>\n",
        "\n",
        "The Root Mean Square Error (RMSE) is the square root of the MSE. RMSE is used to convert MSE back into the same units as the actual data.\n",
        "\n",
        "\n",
        "<img src = 'https://miro.medium.com/v2/resize:fit:640/format:webp/1*usaMSyi6jUT3f2bOMyiYdA.png'>\n",
        "\n",
        "\n",
        "Mean absolute error represents the average of the absolute difference between the actual and predicted values in the dataset. It measures the average of the residuals in the dataset.\n",
        "\n",
        "\n",
        "<img src = 'https://miro.medium.com/v2/resize:fit:578/format:webp/1*_mx6zD6Qw_1sYEvWszK5Nw.png'>"
      ]
    },
    {
      "cell_type": "code",
      "execution_count": 8,
      "metadata": {},
      "outputs": [
        {
          "name": "stdout",
          "output_type": "stream",
          "text": [
            "Mean Squared Error: 0.7072360669081514\n",
            "Mean Absolute Error: 0.6712316594459017\n",
            "Root Mean Squared Error: 0.8409732854901821\n"
          ]
        }
      ],
      "source": [
        "# Measure Model performance on Train Dataset\n",
        "from sklearn.metrics import mean_absolute_error, mean_squared_error\n",
        "\n",
        "y_pred = lin_reg.predict(X_train)\n",
        "\n",
        "\n",
        "# Measure model performance\n",
        "mse = mean_squared_error(y_train, y_pred)\n",
        "print(\"Mean Squared Error:\", mse)\n",
        "\n",
        "# Measure model performance\n",
        "mae = mean_absolute_error(y_train, y_pred)\n",
        "print(\"Mean Absolute Error:\", mae)\n",
        "\n",
        "# Measure model performance\n",
        "rmse = np.sqrt(mean_squared_error(y_train, y_pred))\n",
        "print(\"Root Mean Squared Error:\", rmse)"
      ]
    },
    {
      "cell_type": "code",
      "execution_count": 9,
      "metadata": {},
      "outputs": [
        {
          "name": "stdout",
          "output_type": "stream",
          "text": [
            "Mean Squared Error: 1.0870976499013618\n",
            "Mean Absolute Error: 0.8157319092351295\n",
            "Root Mean Squared Error: 1.0426397507774974\n"
          ]
        }
      ],
      "source": [
        "# Measure Model performance on Test Dataset\n",
        "y_pred = lin_reg.predict(X_test)\n",
        "\n",
        "\n",
        "# Measure model performance\n",
        "mse = mean_squared_error(y_test, y_pred)\n",
        "print(\"Mean Squared Error:\", mse)\n",
        "\n",
        "# Measure model performance\n",
        "mae = mean_absolute_error(y_test, y_pred)\n",
        "print(\"Mean Absolute Error:\", mae)\n",
        "\n",
        "# Measure model performance\n",
        "rmse = np.sqrt(mean_squared_error(y_test, y_pred))\n",
        "print(\"Root Mean Squared Error:\", rmse)"
      ]
    },
    {
      "cell_type": "code",
      "execution_count": 10,
      "metadata": {
        "colab": {
          "base_uri": "https://localhost:8080/"
        },
        "id": "m9UOS5RtkBjg",
        "outputId": "479ef23f-51d2-427d-f246-34379050fe9a"
      },
      "outputs": [
        {
          "data": {
            "text/plain": [
              "array([[4.08033778],\n",
              "       [9.65080511]])"
            ]
          },
          "execution_count": 10,
          "metadata": {},
          "output_type": "execute_result"
        }
      ],
      "source": [
        "# Apply model to predict the new test point\n",
        "lin_reg.predict(X_new)"
      ]
    },
    {
      "cell_type": "code",
      "execution_count": null,
      "metadata": {},
      "outputs": [],
      "source": []
    }
  ],
  "metadata": {
    "colab": {
      "provenance": []
    },
    "kernelspec": {
      "display_name": "Python 3",
      "name": "python3"
    },
    "language_info": {
      "codemirror_mode": {
        "name": "ipython",
        "version": 3
      },
      "file_extension": ".py",
      "mimetype": "text/x-python",
      "name": "python",
      "nbconvert_exporter": "python",
      "pygments_lexer": "ipython3",
      "version": "3.9.9"
    }
  },
  "nbformat": 4,
  "nbformat_minor": 0
}
