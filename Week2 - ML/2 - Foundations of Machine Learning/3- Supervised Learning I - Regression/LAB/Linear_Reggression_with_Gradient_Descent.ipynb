{
  "cells": [
    {
      "cell_type": "markdown",
      "metadata": {
        "id": "Gwz28jYstT4v"
      },
      "source": [
        "\n",
        "\n",
        "---\n",
        "\n",
        "\n",
        "\n",
        "---\n",
        "\n",
        "\n",
        "\n",
        "#Gradient Descent\n",
        "\n",
        "\n",
        "\n",
        "---\n",
        "\n",
        "\n",
        "\n",
        "---\n",
        "\n",
        "\n",
        "\n",
        "Gradient descent is an optimization algorithm used to minimize a cost function by iteratively adjusting the parameters of a model in the direction of the steepest descent of the cost. It involves computing the gradient of the cost function with respect to the parameters and updating the parameters iteratively until convergence to a minimum is achieved.\n",
        "\n",
        "\n",
        "In this notebook, we will implement linear regression and compare the performance of three different types of gradient descent algorithms: batch gradient descent, stochastic gradient descent, and mini-batch gradient descent.\n",
        "\n",
        "Generally, The Gradient Descent Equation is\n",
        "\n",
        "$$θ := θ - α * ∇J(θ)$$"
      ]
    },
    {
      "cell_type": "markdown",
      "metadata": {
        "id": "dLIsj14Fxz_u"
      },
      "source": [
        "#Setup"
      ]
    },
    {
      "cell_type": "code",
      "execution_count": 1,
      "metadata": {
        "id": "RZwoOcXmrKlu"
      },
      "outputs": [],
      "source": [
        "# Common imports\n",
        "import numpy as np\n",
        "import sklearn\n",
        "import os\n",
        "import matplotlib as mpl\n",
        "import matplotlib.pyplot as plt\n",
        "mpl.rc('axes', labelsize=14)\n",
        "mpl.rc('xtick', labelsize=12)\n",
        "mpl.rc('ytick', labelsize=12)\n",
        "\n",
        "# Establish a fixed random seed for consistent reproducibility in random processes\n",
        "np.random.seed(42)\n"
      ]
    },
    {
      "cell_type": "markdown",
      "metadata": {
        "id": "6gLHSQ84osl8"
      },
      "source": [
        "##Generating the dataset"
      ]
    },
    {
      "cell_type": "code",
      "execution_count": 2,
      "metadata": {
        "id": "-WubAwTrrUaP"
      },
      "outputs": [],
      "source": [
        "import numpy as np\n",
        "\n",
        "# Generating a synthetic dataset for regression analysis\n",
        "\n",
        "# Step 1: Generating feature matrix X\n",
        "# X contains 100 samples with 1 feature each\n",
        "# Values are randomly sampled from a uniform distribution between 0 and 2\n",
        "X = 2 * np.random.rand(100, 1)\n",
        "\n",
        "# Step 2: Generating target variable y\n",
        "# y is generated based on the equation y = 4 + 3*X + noise\n",
        "# np.random.randn(100, 1) adds random noise sampled from a standard normal distribution (mean 0, std deviation 1)\n",
        "# The noise introduces variability and makes the relationship between X and y more realistic\n",
        "y = 4 + 3 * X + np.random.randn(100, 1)\n"
      ]
    },
    {
      "cell_type": "code",
      "execution_count": 5,
      "metadata": {
        "id": "u0Xm_P31r3eC"
      },
      "outputs": [],
      "source": [
        "X_b = np.c_[np.ones((100, 1)), X]  # Adding x0 = 1 to each instance to include the bias term\n",
        "theta_best = np.linalg.inv(X_b.T.dot(X_b)).dot(X_b.T).dot(y)  # Calculating the optimal theta values using the normal equation\n"
      ]
    },
    {
      "cell_type": "code",
      "execution_count": 6,
      "metadata": {
        "colab": {
          "base_uri": "https://localhost:8080/"
        },
        "id": "DLtwitScr-Uu",
        "outputId": "17fa03e3-46dc-4bcc-ce1d-568974ffb8f9"
      },
      "outputs": [
        {
          "data": {
            "text/plain": [
              "array([[4.21509616],\n",
              "       [2.77011339]])"
            ]
          },
          "execution_count": 6,
          "metadata": {},
          "output_type": "execute_result"
        }
      ],
      "source": [
        "theta_best"
      ]
    },
    {
      "cell_type": "code",
      "execution_count": 7,
      "metadata": {
        "colab": {
          "base_uri": "https://localhost:8080/"
        },
        "id": "7RE4YIXEsF4S",
        "outputId": "ee37683f-d4cf-4d77-ce1a-1a4359ea447e"
      },
      "outputs": [
        {
          "data": {
            "text/plain": [
              "array([[4.21509616],\n",
              "       [9.75532293]])"
            ]
          },
          "execution_count": 7,
          "metadata": {},
          "output_type": "execute_result"
        }
      ],
      "source": [
        "# New input data for prediction\n",
        "X_new = np.array([[0], [2]])\n",
        "\n",
        "# Augmenting the new input data by adding a column of ones to represent x0 = 1 for each instance\n",
        "X_new_b = np.c_[np.ones((2, 1)), X_new]\n",
        "\n",
        "# Predicting the target variable y for the new input data using the linear regression model\n",
        "y_predict = X_new_b.dot(theta_best)\n",
        "\n",
        "# Displaying the predicted values of y for the new input data\n",
        "y_predict\n"
      ]
    },
    {
      "cell_type": "markdown",
      "metadata": {
        "id": "nhT9MmZ_ozjS"
      },
      "source": [
        "##Setup LinearRegression model"
      ]
    },
    {
      "cell_type": "code",
      "execution_count": 8,
      "metadata": {
        "colab": {
          "base_uri": "https://localhost:8080/"
        },
        "id": "xVUpYNbQsxtd",
        "outputId": "0b47fe3a-44f9-4f3c-b5ea-240cdb6791ba"
      },
      "outputs": [
        {
          "data": {
            "text/plain": [
              "array([[2.77011339]])"
            ]
          },
          "execution_count": 8,
          "metadata": {},
          "output_type": "execute_result"
        }
      ],
      "source": [
        "from sklearn.linear_model import LinearRegression  # Import LinearRegression model from scikit-learn\n",
        "lin_reg = LinearRegression()  # Instantiate a LinearRegression model\n",
        "lin_reg.fit(X, y)  # Train the LinearRegression model on X and y\n",
        "lin_reg.intercept_  # Intercept (bias) term of the linear regression model\n",
        "lin_reg.coef_       # Coefficients of the features in the linear regression model\n"
      ]
    },
    {
      "cell_type": "code",
      "execution_count": 10,
      "metadata": {
        "id": "1C7aGgEzsbau"
      },
      "outputs": [
        {
          "data": {
            "text/plain": [
              "array([[4.21509616],\n",
              "       [9.75532293]])"
            ]
          },
          "execution_count": 10,
          "metadata": {},
          "output_type": "execute_result"
        }
      ],
      "source": [
        "# Assuming lin_reg is a trained LinearRegression model\n",
        "y_predict = lin_reg.predict(X_new)\n",
        "y_predict"
      ]
    },
    {
      "cell_type": "markdown",
      "metadata": {
        "id": "2A3Xt6FJr9Nb"
      },
      "source": [
        "\n",
        "\n",
        "---\n",
        "\n",
        "\n",
        "\n",
        "---\n",
        "\n",
        "\n",
        "\n",
        "##Type1: Batch Gradient Descent\n",
        "\n",
        "\n",
        "\n",
        "\n",
        "---\n",
        "\n",
        "\n",
        "---\n",
        "This method computes the gradient of the cost function with respect to the parameters for the entire training dataset. It involves updating the parameters in the direction opposite to the gradient of the cost function with a fixed learning rate.\n"
      ]
    },
    {
      "cell_type": "code",
      "execution_count": 11,
      "metadata": {
        "id": "q436z145tVRn"
      },
      "outputs": [],
      "source": [
        "# Learning rate\n",
        "eta = 0.1\n",
        "\n",
        "# Number of iterations\n",
        "n_iterations = 1000\n",
        "\n",
        "# Number of samples\n",
        "m = 100\n",
        "\n",
        "# Random initialization of parameters\n",
        "theta = np.random.randn(2,1)\n",
        "\n",
        "# Gradient Descent loop\n",
        "for iteration in range(n_iterations):\n",
        "    # Compute gradients\n",
        "    gradients = 2/m * X_b.T.dot(X_b.dot(theta) - y)\n",
        "\n",
        "    # Update parameters\n",
        "    theta = theta - eta * gradients\n"
      ]
    },
    {
      "cell_type": "code",
      "execution_count": 12,
      "metadata": {
        "colab": {
          "base_uri": "https://localhost:8080/"
        },
        "id": "HBDISmB4sKA8",
        "outputId": "967ddef7-2e3b-4537-e5c9-5c395ce1d1e9"
      },
      "outputs": [
        {
          "data": {
            "text/plain": [
              "array([[4.21509616],\n",
              "       [2.77011339]])"
            ]
          },
          "execution_count": 12,
          "metadata": {},
          "output_type": "execute_result"
        }
      ],
      "source": [
        "# Parameters after running Gradient Descent\n",
        "theta\n"
      ]
    },
    {
      "cell_type": "code",
      "execution_count": 13,
      "metadata": {
        "id": "IzP9HsAysqf4"
      },
      "outputs": [],
      "source": [
        "# Calculate predictions using the trained linear regression model and new data\n",
        "predictions = X_new_b.dot(theta)\n"
      ]
    },
    {
      "cell_type": "markdown",
      "metadata": {},
      "source": [
        "\n",
        "\n",
        "- **Visualization**:\n",
        "  - The function plots the original data points (`X`, `y`) as cyan dots on the plot.\n",
        "  - It iterates through a predefined number of iterations (`n_iterations`) to perform gradient descent.\n",
        "  - During the first few iterations (`iteration < 10`), it plots the predictions made by the current parameter values as dashed lines.\n",
        "  - The solid line represents the final prediction line after all iterations.\n",
        "\n",
        "- **Gradient Descent**:\n",
        "  - At each iteration, gradients are computed using the formula: `gradients = 2/m * X_b.T.dot(X_b.dot(theta) - y)`.\n",
        "  - The parameter vector `theta` is updated using the computed gradients and the learning rate: `theta = theta - eta * gradients`.\n",
        "\n",
        "- **Customization**:\n",
        "  - The function allows customization of the X-axis label, axis limits, and title to reflect the learning rate (`eta`).\n",
        "\n",
        "By visualizing the gradient descent process, this function helps in understanding how the model parameters are updated iteratively to minimize the cost function and improve the fit of the linear regression model.\n"
      ]
    },
    {
      "cell_type": "code",
      "execution_count": 14,
      "metadata": {
        "id": "H7IraigrszwV"
      },
      "outputs": [],
      "source": [
        "\"\"\"\n",
        "The func `plot_gradient_descent` is used to visualize the process of gradient descent for linear regression,\n",
        "where;\n",
        "  - `theta`: The parameter vector representing the coefficients of the linear regression model.\n",
        "  - `eta`: The learning rate, controlling the step size in each iteration of gradient descent.\n",
        "  - `theta_path`: (Optional) A list to store the values of theta during the gradient descent process.\n",
        "\"\"\"\n",
        "# List to store the values of theta during gradient descent\n",
        "theta_path_bgd = []\n",
        "\n",
        "# Function to plot the gradient descent process\n",
        "def plot_gradient_descent(theta, eta, theta_path=None):\n",
        "    m = len(X_b)  # Number of samples\n",
        "    plt.plot(X, y, \"c.\")  # Plot the data points\n",
        "    n_iterations = 1000  # Number of iterations for gradient descent\n",
        "    for iteration in range(n_iterations):\n",
        "        if iteration < 10:\n",
        "            y_predict = X_new_b.dot(theta)  # Calculate predictions for visualization\n",
        "            style = \"p-\" if iteration > 0 else \"m--\"  # Style for plotting\n",
        "            plt.plot(X_new, y_predict, style)  # Plot the predictions\n",
        "        gradients = 2/m * X_b.T.dot(X_b.dot(theta) - y)  # Compute gradients\n",
        "        theta = theta - eta * gradients  # Update theta using gradients and learning rate\n",
        "        if theta_path is not None:\n",
        "            theta_path.append(theta)  # Store the values of theta during gradient descent\n",
        "    plt.xlabel(\"$x_1$\", fontsize=18)  # X-axis label\n",
        "    plt.axis([0, 2, 0, 15])  # Axis limits\n",
        "    plt.title(r\"$\\eta = {}$\".format(eta), fontsize=16)  # Title with learning rate\n"
      ]
    },
    {
      "cell_type": "code",
      "execution_count": 15,
      "metadata": {
        "colab": {
          "base_uri": "https://localhost:8080/",
          "height": 428
        },
        "id": "jXfoN91Xs-0v",
        "outputId": "9cb7ed50-a842-443d-b1bf-5535c24d8333"
      },
      "outputs": [
        {
          "data": {
            "image/png": "[encoded data removed]",
            "text/plain": [
              "<Figure size 720x288 with 3 Axes>"
            ]
          },
          "metadata": {
            "needs_background": "light"
          },
          "output_type": "display_data"
        }
      ],
      "source": [
        "# Set the random seed for reproducibility\n",
        "np.random.seed(42)\n",
        "\n",
        "# Random initialization of theta\n",
        "theta = np.random.randn(2,1)\n",
        "\n",
        "# Create a figure with subplots to visualize gradient descent with different learning rates\n",
        "plt.figure(figsize=(10,4))\n",
        "\n",
        "# First subplot: learning rate eta=0.02\n",
        "plt.subplot(131)\n",
        "plot_gradient_descent(theta, eta=0.02)\n",
        "plt.ylabel(\"$y$\", rotation=0, fontsize=18)\n",
        "\n",
        "# Second subplot: learning rate eta=0.1\n",
        "plt.subplot(132)\n",
        "plot_gradient_descent(theta,eta=0.1, theta_path=theta_path_bgd)\n",
        "\n",
        "\n",
        "# Third subplot: learning rate eta=0.5\n",
        "plt.subplot(133)\n",
        "plot_gradient_descent(theta, eta=0.5)\n",
        "\n",
        "# Display the figure\n",
        "plt.show()\n"
      ]
    },
    {
      "cell_type": "markdown",
      "metadata": {},
      "source": [
        "- **Based on the above Visualization**:\n",
        "  -  The function plots the original data points (`X`, `y`) as cyan dots on the plot.\n",
        "  - It iterates through a predefined number of iterations (`n_iterations`) to perform gradient descent.\n",
        "  - During the first few iterations (`iteration < 10`), it plots the predictions made by the current parameter values as dashed lines.\n",
        "  - The solid line represents the final prediction line after all iterations."
      ]
    },
    {
      "cell_type": "markdown",
      "metadata": {
        "id": "dicJ5QL2tPCk"
      },
      "source": [
        "\n",
        "\n",
        "---\n",
        "\n",
        "\n",
        "\n",
        "---\n",
        "\n",
        "\n",
        "##Type2 : Stochastic Gradient Descent\n",
        "\n",
        "---\n",
        "\n",
        "\n",
        "\n",
        "---\n",
        "\n",
        "SGD updates the parameters using the gradient of the cost function with respect to the parameters for each training instance individually. It involves updating the parameters in the direction opposite to the gradient of the cost function for each training instance with a fixed learning rate."
      ]
    },
    {
      "cell_type": "code",
      "execution_count": 16,
      "metadata": {
        "id": "8fe2RGOutGZQ"
      },
      "outputs": [],
      "source": [
        "# List to store the values of theta during stochastic gradient descent\n",
        "theta_path_sgd = []\n",
        "\n",
        "# Number of samples\n",
        "m = len(X_b)\n",
        "\n",
        "# Set the random seed for reproducibility\n",
        "np.random.seed(42)\n"
      ]
    },
    {
      "cell_type": "code",
      "execution_count": 17,
      "metadata": {
        "colab": {
          "base_uri": "https://localhost:8080/",
          "height": 463
        },
        "id": "e9iI7Z0EuCxP",
        "outputId": "683886cb-6664-4186-f24b-64eb96d336b2"
      },
      "outputs": [
        {
          "data": {
            "image/png": "[encoded data removed]",
            "text/plain": [
              "<Figure size 432x288 with 1 Axes>"
            ]
          },
          "metadata": {
            "needs_background": "light"
          },
          "output_type": "display_data"
        }
      ],
      "source": [
        "# Number of epochs\n",
        "n_epochs = 50\n",
        "\n",
        "# Learning schedule hyperparameters\n",
        "t0, t1 = 5, 50\n",
        "\n",
        "# Learning schedule function\n",
        "def learning_schedule(t):\n",
        "    return t0 / (t + t1)\n",
        "\n",
        "# Random initialization of parameters\n",
        "theta = np.random.randn(2,1)\n",
        "\n",
        "# Stochastic Gradient Descent loop\n",
        "for epoch in range(n_epochs):\n",
        "    for i in range(m):\n",
        "        # Plot initial predictions for the first epoch\n",
        "        if epoch == 0 and i < 20:\n",
        "            y_predict = X_new_b.dot(theta)\n",
        "            style = \"c-\" if i > 0 else \"m--\"\n",
        "            plt.plot(X_new, y_predict, style)\n",
        "        # Randomly select an instance\n",
        "        random_index = np.random.randint(m)\n",
        "        xi = X_b[random_index:random_index+1]\n",
        "        yi = y[random_index:random_index+1]\n",
        "        # Compute gradients\n",
        "        gradients = 2 * xi.T.dot(xi.dot(theta) - yi)\n",
        "        # Adjust learning rate using learning schedule\n",
        "        eta = learning_schedule(epoch * m + i)\n",
        "        # Update parameters\n",
        "        theta = theta - eta * gradients\n",
        "        # Append theta to the path\n",
        "        theta_path_sgd.append(theta)\n",
        "\n",
        "# Plot the data\n",
        "plt.plot(X, y, \"b.\")\n",
        "plt.xlabel(\"$x_1$\", fontsize=18)\n",
        "plt.ylabel(\"$y$\", rotation=0, fontsize=18)\n",
        "plt.axis([0, 2, 0, 15])\n",
        "plt.show()\n"
      ]
    },
    {
      "cell_type": "markdown",
      "metadata": {},
      "source": [
        "  - The initial predictions for the first epoch is represented by the purple -- line, showing the model's progression.\n",
        "  - Original data points (`X`, `y`) are plotted as blue dots, with the x-axis representing the feature (`x_1`) and the y-axis representing the target variable (`y`).\n",
        "  - The plot provides insights into how the algorithm learns and adapts its parameters over time to fit the data."
      ]
    },
    {
      "cell_type": "code",
      "execution_count": 18,
      "metadata": {
        "colab": {
          "base_uri": "https://localhost:8080/"
        },
        "id": "nTn2mc2juZfk",
        "outputId": "f2d2de4e-2d50-4687-cfc5-1894ccaf2b58"
      },
      "outputs": [
        {
          "data": {
            "text/plain": [
              "array([[4.21076011],\n",
              "       [2.74856079]])"
            ]
          },
          "execution_count": 18,
          "metadata": {},
          "output_type": "execute_result"
        }
      ],
      "source": [
        "# Parameters after running Gradient Descent\n",
        "theta"
      ]
    },
    {
      "cell_type": "code",
      "execution_count": 19,
      "metadata": {
        "colab": {
          "base_uri": "https://localhost:8080/",
          "height": 75
        },
        "id": "xR3f0xTDwkKq",
        "outputId": "8a66b752-a5c3-423a-b1a6-8633a55fb299"
      },
      "outputs": [
        {
          "data": {
            "text/html": [
              "<style>#sk-container-id-1 {\n",
              "  /* Definition of color scheme common for light and dark mode */\n",
              "  --sklearn-color-text: black;\n",
              "  --sklearn-color-line: gray;\n",
              "  /* Definition of color scheme for unfitted estimators */\n",
              "  --sklearn-color-unfitted-level-0: #fff5e6;\n",
              "  --sklearn-color-unfitted-level-1: #f6e4d2;\n",
              "  --sklearn-color-unfitted-level-2: #ffe0b3;\n",
              "  --sklearn-color-unfitted-level-3: chocolate;\n",
              "  /* Definition of color scheme for fitted estimators */\n",
              "  --sklearn-color-fitted-level-0: #f0f8ff;\n",
              "  --sklearn-color-fitted-level-1: #d4ebff;\n",
              "  --sklearn-color-fitted-level-2: #b3dbfd;\n",
              "  --sklearn-color-fitted-level-3: cornflowerblue;\n",
              "\n",
              "  /* Specific color for light theme */\n",
              "  --sklearn-color-text-on-default-background: var(--sg-text-color, var(--theme-code-foreground, var(--jp-content-font-color1, black)));\n",
              "  --sklearn-color-background: var(--sg-background-color, var(--theme-background, var(--jp-layout-color0, white)));\n",
              "  --sklearn-color-border-box: var(--sg-text-color, var(--theme-code-foreground, var(--jp-content-font-color1, black)));\n",
              "  --sklearn-color-icon: #696969;\n",
              "\n",
              "  @media (prefers-color-scheme: dark) {\n",
              "    /* Redefinition of color scheme for dark theme */\n",
              "    --sklearn-color-text-on-default-background: var(--sg-text-color, var(--theme-code-foreground, var(--jp-content-font-color1, white)));\n",
              "    --sklearn-color-background: var(--sg-background-color, var(--theme-background, var(--jp-layout-color0, #111)));\n",
              "    --sklearn-color-border-box: var(--sg-text-color, var(--theme-code-foreground, var(--jp-content-font-color1, white)));\n",
              "    --sklearn-color-icon: #878787;\n",
              "  }\n",
              "}\n",
              "\n",
              "#sk-container-id-1 {\n",
              "  color: var(--sklearn-color-text);\n",
              "}\n",
              "\n",
              "#sk-container-id-1 pre {\n",
              "  padding: 0;\n",
              "}\n",
              "\n",
              "#sk-container-id-1 input.sk-hidden--visually {\n",
              "  border: 0;\n",
              "  clip: rect(1px 1px 1px 1px);\n",
              "  clip: rect(1px, 1px, 1px, 1px);\n",
              "  height: 1px;\n",
              "  margin: -1px;\n",
              "  overflow: hidden;\n",
              "  padding: 0;\n",
              "  position: absolute;\n",
              "  width: 1px;\n",
              "}\n",
              "\n",
              "#sk-container-id-1 div.sk-dashed-wrapped {\n",
              "  border: 1px dashed var(--sklearn-color-line);\n",
              "  margin: 0 0.4em 0.5em 0.4em;\n",
              "  box-sizing: border-box;\n",
              "  padding-bottom: 0.4em;\n",
              "  background-color: var(--sklearn-color-background);\n",
              "}\n",
              "\n",
              "#sk-container-id-1 div.sk-container {\n",
              "  /* jupyter's `normalize.less` sets `[hidden] { display: none; }`\n",
              "     but bootstrap.min.css set `[hidden] { display: none !important; }`\n",
              "     so we also need the `!important` here to be able to override the\n",
              "     default hidden behavior on the sphinx rendered scikit-learn.org.\n",
              "     See: https://github.com/scikit-learn/scikit-learn/issues/21755 */\n",
              "  display: inline-block !important;\n",
              "  position: relative;\n",
              "}\n",
              "\n",
              "#sk-container-id-1 div.sk-text-repr-fallback {\n",
              "  display: none;\n",
              "}\n",
              "\n",
              "div.sk-parallel-item,\n",
              "div.sk-serial,\n",
              "div.sk-item {\n",
              "  /* draw centered vertical line to link estimators */\n",
              "  background-image: linear-gradient(var(--sklearn-color-text-on-default-background), var(--sklearn-color-text-on-default-background));\n",
              "  background-size: 2px 100%;\n",
              "  background-repeat: no-repeat;\n",
              "  background-position: center center;\n",
              "}\n",
              "\n",
              "/* Parallel-specific style estimator block */\n",
              "\n",
              "#sk-container-id-1 div.sk-parallel-item::after {\n",
              "  content: \"\";\n",
              "  width: 100%;\n",
              "  border-bottom: 2px solid var(--sklearn-color-text-on-default-background);\n",
              "  flex-grow: 1;\n",
              "}\n",
              "\n",
              "#sk-container-id-1 div.sk-parallel {\n",
              "  display: flex;\n",
              "  align-items: stretch;\n",
              "  justify-content: center;\n",
              "  background-color: var(--sklearn-color-background);\n",
              "  position: relative;\n",
              "}\n",
              "\n",
              "#sk-container-id-1 div.sk-parallel-item {\n",
              "  display: flex;\n",
              "  flex-direction: column;\n",
              "}\n",
              "\n",
              "#sk-container-id-1 div.sk-parallel-item:first-child::after {\n",
              "  align-self: flex-end;\n",
              "  width: 50%;\n",
              "}\n",
              "\n",
              "#sk-container-id-1 div.sk-parallel-item:last-child::after {\n",
              "  align-self: flex-start;\n",
              "  width: 50%;\n",
              "}\n",
              "\n",
              "#sk-container-id-1 div.sk-parallel-item:only-child::after {\n",
              "  width: 0;\n",
              "}\n",
              "\n",
              "/* Serial-specific style estimator block */\n",
              "\n",
              "#sk-container-id-1 div.sk-serial {\n",
              "  display: flex;\n",
              "  flex-direction: column;\n",
              "  align-items: center;\n",
              "  background-color: var(--sklearn-color-background);\n",
              "  padding-right: 1em;\n",
              "  padding-left: 1em;\n",
              "}\n",
              "\n",
              "\n",
              "/* Toggleable style: style used for estimator/Pipeline/ColumnTransformer box that is\n",
              "clickable and can be expanded/collapsed.\n",
              "- Pipeline and ColumnTransformer use this feature and define the default style\n",
              "- Estimators will overwrite some part of the style using the `sk-estimator` class\n",
              "*/\n",
              "\n",
              "/* Pipeline and ColumnTransformer style (default) */\n",
              "\n",
              "#sk-container-id-1 div.sk-toggleable {\n",
              "  /* Default theme specific background. It is overwritten whether we have a\n",
              "  specific estimator or a Pipeline/ColumnTransformer */\n",
              "  background-color: var(--sklearn-color-background);\n",
              "}\n",
              "\n",
              "/* Toggleable label */\n",
              "#sk-container-id-1 label.sk-toggleable__label {\n",
              "  cursor: pointer;\n",
              "  display: block;\n",
              "  width: 100%;\n",
              "  margin-bottom: 0;\n",
              "  padding: 0.5em;\n",
              "  box-sizing: border-box;\n",
              "  text-align: center;\n",
              "}\n",
              "\n",
              "#sk-container-id-1 label.sk-toggleable__label-arrow:before {\n",
              "  /* Arrow on the left of the label */\n",
              "  content: \"▸\";\n",
              "  float: left;\n",
              "  margin-right: 0.25em;\n",
              "  color: var(--sklearn-color-icon);\n",
              "}\n",
              "\n",
              "#sk-container-id-1 label.sk-toggleable__label-arrow:hover:before {\n",
              "  color: var(--sklearn-color-text);\n",
              "}\n",
              "\n",
              "/* Toggleable content - dropdown */\n",
              "\n",
              "#sk-container-id-1 div.sk-toggleable__content {\n",
              "  max-height: 0;\n",
              "  max-width: 0;\n",
              "  overflow: hidden;\n",
              "  text-align: left;\n",
              "  /* unfitted */\n",
              "  background-color: var(--sklearn-color-unfitted-level-0);\n",
              "}\n",
              "\n",
              "#sk-container-id-1 div.sk-toggleable__content.fitted {\n",
              "  /* fitted */\n",
              "  background-color: var(--sklearn-color-fitted-level-0);\n",
              "}\n",
              "\n",
              "#sk-container-id-1 div.sk-toggleable__content pre {\n",
              "  margin: 0.2em;\n",
              "  border-radius: 0.25em;\n",
              "  color: var(--sklearn-color-text);\n",
              "  /* unfitted */\n",
              "  background-color: var(--sklearn-color-unfitted-level-0);\n",
              "}\n",
              "\n",
              "#sk-container-id-1 div.sk-toggleable__content.fitted pre {\n",
              "  /* unfitted */\n",
              "  background-color: var(--sklearn-color-fitted-level-0);\n",
              "}\n",
              "\n",
              "#sk-container-id-1 input.sk-toggleable__control:checked~div.sk-toggleable__content {\n",
              "  /* Expand drop-down */\n",
              "  max-height: 200px;\n",
              "  max-width: 100%;\n",
              "  overflow: auto;\n",
              "}\n",
              "\n",
              "#sk-container-id-1 input.sk-toggleable__control:checked~label.sk-toggleable__label-arrow:before {\n",
              "  content: \"▾\";\n",
              "}\n",
              "\n",
              "/* Pipeline/ColumnTransformer-specific style */\n",
              "\n",
              "#sk-container-id-1 div.sk-label input.sk-toggleable__control:checked~label.sk-toggleable__label {\n",
              "  color: var(--sklearn-color-text);\n",
              "  background-color: var(--sklearn-color-unfitted-level-2);\n",
              "}\n",
              "\n",
              "#sk-container-id-1 div.sk-label.fitted input.sk-toggleable__control:checked~label.sk-toggleable__label {\n",
              "  background-color: var(--sklearn-color-fitted-level-2);\n",
              "}\n",
              "\n",
              "/* Estimator-specific style */\n",
              "\n",
              "/* Colorize estimator box */\n",
              "#sk-container-id-1 div.sk-estimator input.sk-toggleable__control:checked~label.sk-toggleable__label {\n",
              "  /* unfitted */\n",
              "  background-color: var(--sklearn-color-unfitted-level-2);\n",
              "}\n",
              "\n",
              "#sk-container-id-1 div.sk-estimator.fitted input.sk-toggleable__control:checked~label.sk-toggleable__label {\n",
              "  /* fitted */\n",
              "  background-color: var(--sklearn-color-fitted-level-2);\n",
              "}\n",
              "\n",
              "#sk-container-id-1 div.sk-label label.sk-toggleable__label,\n",
              "#sk-container-id-1 div.sk-label label {\n",
              "  /* The background is the default theme color */\n",
              "  color: var(--sklearn-color-text-on-default-background);\n",
              "}\n",
              "\n",
              "/* On hover, darken the color of the background */\n",
              "#sk-container-id-1 div.sk-label:hover label.sk-toggleable__label {\n",
              "  color: var(--sklearn-color-text);\n",
              "  background-color: var(--sklearn-color-unfitted-level-2);\n",
              "}\n",
              "\n",
              "/* Label box, darken color on hover, fitted */\n",
              "#sk-container-id-1 div.sk-label.fitted:hover label.sk-toggleable__label.fitted {\n",
              "  color: var(--sklearn-color-text);\n",
              "  background-color: var(--sklearn-color-fitted-level-2);\n",
              "}\n",
              "\n",
              "/* Estimator label */\n",
              "\n",
              "#sk-container-id-1 div.sk-label label {\n",
              "  font-family: monospace;\n",
              "  font-weight: bold;\n",
              "  display: inline-block;\n",
              "  line-height: 1.2em;\n",
              "}\n",
              "\n",
              "#sk-container-id-1 div.sk-label-container {\n",
              "  text-align: center;\n",
              "}\n",
              "\n",
              "/* Estimator-specific */\n",
              "#sk-container-id-1 div.sk-estimator {\n",
              "  font-family: monospace;\n",
              "  border: 1px dotted var(--sklearn-color-border-box);\n",
              "  border-radius: 0.25em;\n",
              "  box-sizing: border-box;\n",
              "  margin-bottom: 0.5em;\n",
              "  /* unfitted */\n",
              "  background-color: var(--sklearn-color-unfitted-level-0);\n",
              "}\n",
              "\n",
              "#sk-container-id-1 div.sk-estimator.fitted {\n",
              "  /* fitted */\n",
              "  background-color: var(--sklearn-color-fitted-level-0);\n",
              "}\n",
              "\n",
              "/* on hover */\n",
              "#sk-container-id-1 div.sk-estimator:hover {\n",
              "  /* unfitted */\n",
              "  background-color: var(--sklearn-color-unfitted-level-2);\n",
              "}\n",
              "\n",
              "#sk-container-id-1 div.sk-estimator.fitted:hover {\n",
              "  /* fitted */\n",
              "  background-color: var(--sklearn-color-fitted-level-2);\n",
              "}\n",
              "\n",
              "/* Specification for estimator info (e.g. \"i\" and \"?\") */\n",
              "\n",
              "/* Common style for \"i\" and \"?\" */\n",
              "\n",
              ".sk-estimator-doc-link,\n",
              "a:link.sk-estimator-doc-link,\n",
              "a:visited.sk-estimator-doc-link {\n",
              "  float: right;\n",
              "  font-size: smaller;\n",
              "  line-height: 1em;\n",
              "  font-family: monospace;\n",
              "  background-color: var(--sklearn-color-background);\n",
              "  border-radius: 1em;\n",
              "  height: 1em;\n",
              "  width: 1em;\n",
              "  text-decoration: none !important;\n",
              "  margin-left: 1ex;\n",
              "  /* unfitted */\n",
              "  border: var(--sklearn-color-unfitted-level-1) 1pt solid;\n",
              "  color: var(--sklearn-color-unfitted-level-1);\n",
              "}\n",
              "\n",
              ".sk-estimator-doc-link.fitted,\n",
              "a:link.sk-estimator-doc-link.fitted,\n",
              "a:visited.sk-estimator-doc-link.fitted {\n",
              "  /* fitted */\n",
              "  border: var(--sklearn-color-fitted-level-1) 1pt solid;\n",
              "  color: var(--sklearn-color-fitted-level-1);\n",
              "}\n",
              "\n",
              "/* On hover */\n",
              "div.sk-estimator:hover .sk-estimator-doc-link:hover,\n",
              ".sk-estimator-doc-link:hover,\n",
              "div.sk-label-container:hover .sk-estimator-doc-link:hover,\n",
              ".sk-estimator-doc-link:hover {\n",
              "  /* unfitted */\n",
              "  background-color: var(--sklearn-color-unfitted-level-3);\n",
              "  color: var(--sklearn-color-background);\n",
              "  text-decoration: none;\n",
              "}\n",
              "\n",
              "div.sk-estimator.fitted:hover .sk-estimator-doc-link.fitted:hover,\n",
              ".sk-estimator-doc-link.fitted:hover,\n",
              "div.sk-label-container:hover .sk-estimator-doc-link.fitted:hover,\n",
              ".sk-estimator-doc-link.fitted:hover {\n",
              "  /* fitted */\n",
              "  background-color: var(--sklearn-color-fitted-level-3);\n",
              "  color: var(--sklearn-color-background);\n",
              "  text-decoration: none;\n",
              "}\n",
              "\n",
              "/* Span, style for the box shown on hovering the info icon */\n",
              ".sk-estimator-doc-link span {\n",
              "  display: none;\n",
              "  z-index: 9999;\n",
              "  position: relative;\n",
              "  font-weight: normal;\n",
              "  right: .2ex;\n",
              "  padding: .5ex;\n",
              "  margin: .5ex;\n",
              "  width: min-content;\n",
              "  min-width: 20ex;\n",
              "  max-width: 50ex;\n",
              "  color: var(--sklearn-color-text);\n",
              "  box-shadow: 2pt 2pt 4pt #999;\n",
              "  /* unfitted */\n",
              "  background: var(--sklearn-color-unfitted-level-0);\n",
              "  border: .5pt solid var(--sklearn-color-unfitted-level-3);\n",
              "}\n",
              "\n",
              ".sk-estimator-doc-link.fitted span {\n",
              "  /* fitted */\n",
              "  background: var(--sklearn-color-fitted-level-0);\n",
              "  border: var(--sklearn-color-fitted-level-3);\n",
              "}\n",
              "\n",
              ".sk-estimator-doc-link:hover span {\n",
              "  display: block;\n",
              "}\n",
              "\n",
              "/* \"?\"-specific style due to the `<a>` HTML tag */\n",
              "\n",
              "#sk-container-id-1 a.estimator_doc_link {\n",
              "  float: right;\n",
              "  font-size: 1rem;\n",
              "  line-height: 1em;\n",
              "  font-family: monospace;\n",
              "  background-color: var(--sklearn-color-background);\n",
              "  border-radius: 1rem;\n",
              "  height: 1rem;\n",
              "  width: 1rem;\n",
              "  text-decoration: none;\n",
              "  /* unfitted */\n",
              "  color: var(--sklearn-color-unfitted-level-1);\n",
              "  border: var(--sklearn-color-unfitted-level-1) 1pt solid;\n",
              "}\n",
              "\n",
              "#sk-container-id-1 a.estimator_doc_link.fitted {\n",
              "  /* fitted */\n",
              "  border: var(--sklearn-color-fitted-level-1) 1pt solid;\n",
              "  color: var(--sklearn-color-fitted-level-1);\n",
              "}\n",
              "\n",
              "/* On hover */\n",
              "#sk-container-id-1 a.estimator_doc_link:hover {\n",
              "  /* unfitted */\n",
              "  background-color: var(--sklearn-color-unfitted-level-3);\n",
              "  color: var(--sklearn-color-background);\n",
              "  text-decoration: none;\n",
              "}\n",
              "\n",
              "#sk-container-id-1 a.estimator_doc_link.fitted:hover {\n",
              "  /* fitted */\n",
              "  background-color: var(--sklearn-color-fitted-level-3);\n",
              "}\n",
              "</style><div id=\"sk-container-id-1\" class=\"sk-top-container\"><div class=\"sk-text-repr-fallback\"><pre>SGDRegressor(eta0=0.1, penalty=None, random_state=42)</pre><b>In a Jupyter environment, please rerun this cell to show the HTML representation or trust the notebook. <br />On GitHub, the HTML representation is unable to render, please try loading this page with nbviewer.org.</b></div><div class=\"sk-container\" hidden><div class=\"sk-item\"><div class=\"sk-estimator fitted sk-toggleable\"><input class=\"sk-toggleable__control sk-hidden--visually\" id=\"sk-estimator-id-1\" type=\"checkbox\" checked><label for=\"sk-estimator-id-1\" class=\"sk-toggleable__label fitted sk-toggleable__label-arrow fitted\">&nbsp;&nbsp;SGDRegressor<a class=\"sk-estimator-doc-link fitted\" rel=\"noreferrer\" target=\"_blank\" href=\"https://scikit-learn.org/1.5/modules/generated/sklearn.linear_model.SGDRegressor.html\">?<span>Documentation for SGDRegressor</span></a><span class=\"sk-estimator-doc-link fitted\">i<span>Fitted</span></span></label><div class=\"sk-toggleable__content fitted\"><pre>SGDRegressor(eta0=0.1, penalty=None, random_state=42)</pre></div> </div></div></div></div>"
            ],
            "text/plain": [
              "SGDRegressor(eta0=0.1, penalty=None, random_state=42)"
            ]
          },
          "execution_count": 19,
          "metadata": {},
          "output_type": "execute_result"
        }
      ],
      "source": [
        "from sklearn.linear_model import SGDRegressor\n",
        "\n",
        "# Instantiate the SGDRegressor model with specified parameters\n",
        "sgd_reg = SGDRegressor(max_iter=1000, tol=1e-3, penalty=None, eta0=0.1, random_state=42)\n",
        "\n",
        "# Train the model on the input data X and target values y.ravel()\n",
        "sgd_reg.fit(X, y.ravel())\n"
      ]
    },
    {
      "cell_type": "code",
      "execution_count": 20,
      "metadata": {
        "colab": {
          "base_uri": "https://localhost:8080/"
        },
        "id": "A_upmRunwm43",
        "outputId": "bdc0abe6-0266-42a6-bbc7-3310cd222d19"
      },
      "outputs": [
        {
          "data": {
            "text/plain": [
              "(array([4.24365286]), array([2.8250878]))"
            ]
          },
          "execution_count": 20,
          "metadata": {},
          "output_type": "execute_result"
        }
      ],
      "source": [
        "# Retrieve the intercept and coefficients of the trained SGDRegressor model\n",
        "sgd_reg.intercept_ , sgd_reg.coef_\n"
      ]
    },
    {
      "cell_type": "markdown",
      "metadata": {
        "id": "vvzDpGbGw38E"
      },
      "source": [
        "\n",
        "\n",
        "---\n",
        "\n",
        "\n",
        "\n",
        "---\n",
        "\n",
        "\n",
        "##Type3 : Mini-batch gradient descent\n",
        "\n",
        "\n",
        "\n",
        "\n",
        "---\n",
        "\n",
        "\n",
        "---\n",
        "This method is a compromise between BGD and SGD. It computes the gradient of the cost function with respect to the parameters for a small random subset of the training dataset. It involves updating the parameters in the direction opposite to the gradient of the cost function for each mini-batch with a fixed learning rate.\n"
      ]
    },
    {
      "cell_type": "code",
      "execution_count": 21,
      "metadata": {
        "id": "RJUnRtVIwumE"
      },
      "outputs": [],
      "source": [
        "# List to store the values of theta during Mini-batch Gradient Descent\n",
        "theta_path_mgd = []\n",
        "\n",
        "# Number of iterations\n",
        "n_iterations = 50\n",
        "\n",
        "# Size of mini-batches\n",
        "minibatch_size = 20\n",
        "\n",
        "# Set the random seed for reproducibility\n",
        "np.random.seed(42)\n",
        "\n",
        "# Random initialization of parameters\n",
        "theta = np.random.randn(2,1)\n",
        "\n",
        "# Learning schedule hyperparameters\n",
        "t0, t1 = 200, 1000\n",
        "\n",
        "# Learning schedule function\n",
        "def learning_schedule(t):\n",
        "    return t0 / (t + t1)\n",
        "\n",
        "# Initialize t for learning schedule\n",
        "t = 0\n",
        "\n",
        "# Mini-batch Gradient Descent loop\n",
        "for epoch in range(n_iterations):\n",
        "    # Shuffle the indices\n",
        "    shuffled_indices = np.random.permutation(m)\n",
        "    # Shuffle the training data\n",
        "    X_b_shuffled = X_b[shuffled_indices]\n",
        "    y_shuffled = y[shuffled_indices]\n",
        "    # Iterate over mini-batches\n",
        "    for i in range(0, m, minibatch_size):\n",
        "        t += 1\n",
        "        xi = X_b_shuffled[i:i+minibatch_size]\n",
        "        yi = y_shuffled[i:i+minibatch_size]\n",
        "        # Compute gradients\n",
        "        gradients = 2/minibatch_size * xi.T.dot(xi.dot(theta) - yi)\n",
        "        # Adjust learning rate using learning schedule\n",
        "        eta = learning_schedule(t)\n",
        "        # Update parameters\n",
        "        theta = theta - eta * gradients\n",
        "        # Append theta to the path\n",
        "        theta_path_mgd.append(theta)\n"
      ]
    },
    {
      "cell_type": "code",
      "execution_count": 22,
      "metadata": {
        "colab": {
          "base_uri": "https://localhost:8080/"
        },
        "id": "DO0nbgc7xjU-",
        "outputId": "d6595898-6e68-4ead-e480-286449a83fee"
      },
      "outputs": [
        {
          "data": {
            "text/plain": [
              "array([[4.25214635],\n",
              "       [2.7896408 ]])"
            ]
          },
          "execution_count": 22,
          "metadata": {},
          "output_type": "execute_result"
        }
      ],
      "source": [
        "# Parameters after running Gradient Descent\n",
        "theta"
      ]
    },
    {
      "cell_type": "markdown",
      "metadata": {
        "id": "fyKVS6S9oOnm"
      },
      "source": [
        "##Conversion of Theta Values to Numpy Arrays"
      ]
    },
    {
      "cell_type": "code",
      "execution_count": 23,
      "metadata": {
        "id": "FXZ2mnUuxMkb"
      },
      "outputs": [],
      "source": [
        "# Convert lists of theta values to numpy arrays\n",
        "theta_path_bgd = np.array(theta_path_bgd)\n",
        "theta_path_sgd = np.array(theta_path_sgd)\n",
        "theta_path_mgd = np.array(theta_path_mgd)\n"
      ]
    },
    {
      "cell_type": "markdown",
      "metadata": {
        "id": "dqhfF4dioWWJ"
      },
      "source": [
        "##Comparing Paths of Theta Values for Different Gradient Descent Algorithms"
      ]
    },
    {
      "cell_type": "code",
      "execution_count": null,
      "metadata": {
        "colab": {
          "base_uri": "https://localhost:8080/",
          "height": 409
        },
        "id": "hFLUFY8lxVqH",
        "outputId": "cd4e59f0-862a-476e-f9b6-4905bb617d6a"
      },
      "outputs": [
        {
          "data": {
            "image/png": "[encoded data removed]",
            "text/plain": [
              "<Figure size 700x400 with 1 Axes>"
            ]
          },
          "metadata": {},
          "output_type": "display_data"
        }
      ],
      "source": [
        "plt.figure(figsize=(7,4))\n",
        "\n",
        "# Plot the paths of theta values for different gradient descent algorithms\n",
        "plt.plot(theta_path_sgd[:, 0], theta_path_sgd[:, 1], \"m-s\", linewidth=1, label=\"Stochastic\")\n",
        "plt.plot(theta_path_mgd[:, 0], theta_path_mgd[:, 1], \"c-+\", linewidth=2, label=\"Mini-batch\")\n",
        "plt.plot(theta_path_bgd[:, 0], theta_path_bgd[:, 1], \"g-o\", linewidth=3, label=\"Batch\")\n",
        "\n",
        "# Add legend and axis labels\n",
        "plt.legend(loc=\"upper left\", fontsize=16)\n",
        "plt.xlabel(r\"$\\theta_0$\", fontsize=20)\n",
        "plt.ylabel(r\"$\\theta_1$   \", fontsize=20, rotation=0)\n",
        "\n",
        "# Set axis limits\n",
        "plt.axis([2.5, 4.5, 2.3, 3.9])\n",
        "plt.show()\n"
      ]
    },
    {
      "cell_type": "markdown",
      "metadata": {},
      "source": [
        "#### Conclusion"
      ]
    },
    {
      "cell_type": "markdown",
      "metadata": {},
      "source": [
        "The provided plot illustrates the paths of theta values for different gradient descent algorithms:\n",
        "\n",
        "- **Stochastic Gradient Descent (SGD)**:\n",
        "  - Marked with magenta squares, represents the path of theta values for stochastic gradient descent.\n",
        "  \n",
        "- **Mini-batch Gradient Descent**:\n",
        "  - Depicted by cyan crosses with a thicker line, indicates the path of theta values for mini-batch gradient descent.\n",
        "  \n",
        "- **Batch Gradient Descent (BGD)**:\n",
        "  - Shown with green circles and a thicker line, displays the path of theta values for batch gradient descent.\n",
        "\n",
        "The plot visualizes how each algorithm updates the parameter values (theta) during optimization, providing insights into their convergence behaviors and efficiency. \n",
        "\n",
        "#### The choice of gradient descent algorithm depends on the specific requirements of the optimization task.\n",
        "\n",
        "- SGD is preferred for large datasets and real-time learning scenarios where computational efficiency is crucial.\n",
        "- BGD may be preferred when stability and precise convergence are the target, but it will cost of longer training times.\n",
        "- Mini-batch GD offers a compromise between SGD and BGD, suitable for a wide range of optimization tasks.\n"
      ]
    },
    {
      "cell_type": "code",
      "execution_count": null,
      "metadata": {
        "id": "O1jaUiPYknuT"
      },
      "outputs": [],
      "source": []
    }
  ],
  "metadata": {
    "colab": {
      "provenance": []
    },
    "kernelspec": {
      "display_name": "Python 3",
      "name": "python3"
    },
    "language_info": {
      "codemirror_mode": {
        "name": "ipython",
        "version": 3
      },
      "file_extension": ".py",
      "mimetype": "text/x-python",
      "name": "python",
      "nbconvert_exporter": "python",
      "pygments_lexer": "ipython3",
      "version": "3.9.9"
    }
  },
  "nbformat": 4,
  "nbformat_minor": 0
}
