{
 "cells": [
  {
   "cell_type": "markdown",
   "metadata": {},
   "source": [
    "# Our tasks today is to:\n",
    "### 1. Explore the data.\n",
    "### 2. Preprocess the data\n",
    "* Clean the data.\n",
    "* Fill missing values.\n",
    "### 3. Visualize the data.\n",
    "### 4. Save the dataframe."
   ]
  },
  {
   "cell_type": "markdown",
   "metadata": {},
   "source": [
    "# Import libraries & Load the data"
   ]
  },
  {
   "cell_type": "code",
   "execution_count": 2,
   "metadata": {},
   "outputs": [],
   "source": [
    "import pandas as pd\n",
    "import numpy as np\n",
    "import matplotlib.pyplot as plt\n",
    "import seaborn as sns\n",
    "from sklearn.preprocessing import OneHotEncoder, LabelEncoder"
   ]
  },
  {
   "cell_type": "code",
   "execution_count": 3,
   "execution_count": 27,
   "metadata": {},
   "outputs": [
    {
     "data": {
      "text/html": [
       "<div>\n",
       "<style scoped>\n",
       "    .dataframe tbody tr th:only-of-type {\n",
       "        vertical-align: middle;\n",
       "    }\n",
       "\n",
       "    .dataframe tbody tr th {\n",
       "        vertical-align: top;\n",
       "    }\n",
       "\n",
       "    .dataframe thead th {\n",
       "        text-align: right;\n",
       "    }\n",
       "</style>\n",
       "<table border=\"1\" class=\"dataframe\">\n",
       "  <thead>\n",
       "    <tr style=\"text-align: right;\">\n",
       "      <th></th>\n",
       "      <th>Unnamed: 0</th>\n",
       "      <th>Name</th>\n",
       "      <th>Location</th>\n",
       "      <th>Year</th>\n",
       "      <th>Kilometers_Driven</th>\n",
       "      <th>Fuel_Type</th>\n",
       "      <th>Transmission</th>\n",
       "      <th>Owner_Type</th>\n",
       "      <th>Mileage</th>\n",
       "      <th>Engine</th>\n",
       "      <th>Power</th>\n",
       "      <th>Seats</th>\n",
       "      <th>New_Price</th>\n",
       "      <th>Price</th>\n",
       "    </tr>\n",
       "  </thead>\n",
       "  <tbody>\n",
       "    <tr>\n",
       "      <th>0</th>\n",
       "      <td>0</td>\n",
       "      <td>Maruti Wagon R LXI CNG</td>\n",
       "      <td>Mumbai</td>\n",
       "      <td>2010</td>\n",
       "      <td>72000</td>\n",
       "      <td>CNG</td>\n",
       "      <td>Manual</td>\n",
       "      <td>First</td>\n",
       "      <td>26.6 km/kg</td>\n",
       "      <td>998 CC</td>\n",
       "      <td>58.16 bhp</td>\n",
       "      <td>5.0</td>\n",
       "      <td>NaN</td>\n",
       "      <td>1.75</td>\n",
       "    </tr>\n",
       "    <tr>\n",
       "      <th>1</th>\n",
       "      <td>1</td>\n",
       "      <td>Hyundai Creta 1.6 CRDi SX Option</td>\n",
       "      <td>Pune</td>\n",
       "      <td>2015</td>\n",
       "      <td>41000</td>\n",
       "      <td>Diesel</td>\n",
       "      <td>Manual</td>\n",
       "      <td>First</td>\n",
       "      <td>19.67 kmpl</td>\n",
       "      <td>1582 CC</td>\n",
       "      <td>126.2 bhp</td>\n",
       "      <td>5.0</td>\n",
       "      <td>NaN</td>\n",
       "      <td>12.50</td>\n",
       "    </tr>\n",
       "    <tr>\n",
       "      <th>2</th>\n",
       "      <td>2</td>\n",
       "      <td>Honda Jazz V</td>\n",
       "      <td>Chennai</td>\n",
       "      <td>2011</td>\n",
       "      <td>46000</td>\n",
       "      <td>Petrol</td>\n",
       "      <td>Manual</td>\n",
       "      <td>First</td>\n",
       "      <td>18.2 kmpl</td>\n",
       "      <td>1199 CC</td>\n",
       "      <td>88.7 bhp</td>\n",
       "      <td>5.0</td>\n",
       "      <td>8.61 Lakh</td>\n",
       "      <td>4.50</td>\n",
       "    </tr>\n",
       "    <tr>\n",
       "      <th>3</th>\n",
       "      <td>3</td>\n",
       "      <td>Maruti Ertiga VDI</td>\n",
       "      <td>Chennai</td>\n",
       "      <td>2012</td>\n",
       "      <td>87000</td>\n",
       "      <td>Diesel</td>\n",
       "      <td>Manual</td>\n",
       "      <td>First</td>\n",
       "      <td>20.77 kmpl</td>\n",
       "      <td>1248 CC</td>\n",
       "      <td>88.76 bhp</td>\n",
       "      <td>7.0</td>\n",
       "      <td>NaN</td>\n",
       "      <td>6.00</td>\n",
       "    </tr>\n",
       "    <tr>\n",
       "      <th>4</th>\n",
       "      <td>4</td>\n",
       "      <td>Audi A4 New 2.0 TDI Multitronic</td>\n",
       "      <td>Coimbatore</td>\n",
       "      <td>2013</td>\n",
       "      <td>40670</td>\n",
       "      <td>Diesel</td>\n",
       "      <td>Automatic</td>\n",
       "      <td>Second</td>\n",
       "      <td>15.2 kmpl</td>\n",
       "      <td>1968 CC</td>\n",
       "      <td>140.8 bhp</td>\n",
       "      <td>5.0</td>\n",
       "      <td>NaN</td>\n",
       "      <td>17.74</td>\n",
       "    </tr>\n",
       "  </tbody>\n",
       "</table>\n",
       "</div>"
      ],
      "text/plain": [
       "   Unnamed: 0                              Name    Location  Year  \\\n",
       "0           0            Maruti Wagon R LXI CNG      Mumbai  2010   \n",
       "1           1  Hyundai Creta 1.6 CRDi SX Option        Pune  2015   \n",
       "2           2                      Honda Jazz V     Chennai  2011   \n",
       "3           3                 Maruti Ertiga VDI     Chennai  2012   \n",
       "4           4   Audi A4 New 2.0 TDI Multitronic  Coimbatore  2013   \n",
       "\n",
       "   Kilometers_Driven Fuel_Type Transmission Owner_Type     Mileage   Engine  \\\n",
       "0              72000       CNG       Manual      First  26.6 km/kg   998 CC   \n",
       "1              41000    Diesel       Manual      First  19.67 kmpl  1582 CC   \n",
       "2              46000    Petrol       Manual      First   18.2 kmpl  1199 CC   \n",
       "3              87000    Diesel       Manual      First  20.77 kmpl  1248 CC   \n",
       "4              40670    Diesel    Automatic     Second   15.2 kmpl  1968 CC   \n",
       "\n",
       "       Power  Seats  New_Price  Price  \n",
       "0  58.16 bhp    5.0        NaN   1.75  \n",
       "1  126.2 bhp    5.0        NaN  12.50  \n",
       "2   88.7 bhp    5.0  8.61 Lakh   4.50  \n",
       "3  88.76 bhp    7.0        NaN   6.00  \n",
       "4  140.8 bhp    5.0        NaN  17.74  "
      ]
     },
<<<<<<< HEAD
     "execution_count": 3,
=======
     "execution_count": 27,
>>>>>>> 68ff2a08099986a13bf78c95853902c225b65205
     "metadata": {},
     "output_type": "execute_result"
    }
   ],
   "source": [
    "df = pd.read_csv('Dataset/Used_Cars.csv')\n",
    "df.head()"
   ]
  },
  {
   "cell_type": "markdown",
   "metadata": {},
   "source": [
    "# 1- EDA"
   ]
  },
  {
   "cell_type": "markdown",
   "metadata": {},
   "source": [
    "## Lets first get to know the dataset, how many columns, rows, number of null values, and what are the data types"
   ]
  },
  {
   "cell_type": "code",
<<<<<<< HEAD
   "execution_count": 4,
=======
   "execution_count": 28,
>>>>>>> 68ff2a08099986a13bf78c95853902c225b65205
   "metadata": {},
   "outputs": [
    {
     "name": "stdout",
     "output_type": "stream",
     "text": [
      "<class 'pandas.core.frame.DataFrame'>\n",
      "RangeIndex: 6019 entries, 0 to 6018\n",
      "Data columns (total 14 columns):\n",
      " #   Column             Non-Null Count  Dtype  \n",
      "---  ------             --------------  -----  \n",
      " 0   Unnamed: 0         6019 non-null   int64  \n",
      " 1   Name               6019 non-null   object \n",
      " 2   Location           6019 non-null   object \n",
      " 3   Year               6019 non-null   int64  \n",
      " 4   Kilometers_Driven  6019 non-null   int64  \n",
      " 5   Fuel_Type          6019 non-null   object \n",
      " 6   Transmission       6019 non-null   object \n",
      " 7   Owner_Type         6019 non-null   object \n",
      " 8   Mileage            6017 non-null   object \n",
      " 9   Engine             5983 non-null   object \n",
      " 10  Power              5983 non-null   object \n",
      " 11  Seats              5977 non-null   float64\n",
      " 12  New_Price          824 non-null    object \n",
      " 13  Price              6019 non-null   float64\n",
      "dtypes: float64(2), int64(3), object(9)\n",
      "memory usage: 658.5+ KB\n"
     ]
    }
   ],
   "source": [
    "df.info()"
   ]
  },
  {
   "cell_type": "markdown",
   "metadata": {},
   "source": [
    "#### The DataFrame contains 6,019 entries and 14 columns. Here's what we can get out of it:\n",
    "\n",
    "0. `Unnamed`: 0: Integer, no missing values.\n",
    "1. `Name`: Object, no missing values.\n",
    "2. `Location`: Object, no missing values.\n",
    "3. `Year`: Integer, no missing values.\n",
    "4. `Kilometers_Driven`: Integer, no missing values.\n",
    "5. `Fuel_Type`: Object, no missing values.\n",
    "6. `Transmission`: Object, no missing values.\n",
    "7. `Owner_Type`: Object, no missing values.\n",
    "8. `Mileage`: Object, 2 missing values.\n",
    "9. `Engine`: Object, 36 missing values.\n",
    "10. `Power`: Object, 36 missing values.\n",
    "11. `Seats`: Float, 42 missing values.\n",
    "12. `New_Price`: Object, many missing values (only 824 non-null).\n",
    "13. `Price`: Float, no missing values.\n",
    "Some columns have missing values, and some object columns might need conversion to numeric types for analysis."
   ]
  },
  {
   "cell_type": "markdown",
   "metadata": {},
   "source": [
    "## Now Lets have a look at the dataset."
   ]
  },
  {
   "cell_type": "markdown",
   "metadata": {},
   "source": [
    "### First lets take a look at the first 5 rows in the dataframe!"
   ]
  },
  {
   "cell_type": "code",
<<<<<<< HEAD
   "execution_count": 5,
=======
   "execution_count": 29,
>>>>>>> 68ff2a08099986a13bf78c95853902c225b65205
   "metadata": {},
   "outputs": [
    {
     "data": {
      "text/html": [
       "<div>\n",
       "<style scoped>\n",
       "    .dataframe tbody tr th:only-of-type {\n",
       "        vertical-align: middle;\n",
       "    }\n",
       "\n",
       "    .dataframe tbody tr th {\n",
       "        vertical-align: top;\n",
       "    }\n",
       "\n",
       "    .dataframe thead th {\n",
       "        text-align: right;\n",
       "    }\n",
       "</style>\n",
       "<table border=\"1\" class=\"dataframe\">\n",
       "  <thead>\n",
       "    <tr style=\"text-align: right;\">\n",
       "      <th></th>\n",
       "      <th>Unnamed: 0</th>\n",
       "      <th>Name</th>\n",
       "      <th>Location</th>\n",
       "      <th>Year</th>\n",
       "      <th>Kilometers_Driven</th>\n",
       "      <th>Fuel_Type</th>\n",
       "      <th>Transmission</th>\n",
       "      <th>Owner_Type</th>\n",
       "      <th>Mileage</th>\n",
       "      <th>Engine</th>\n",
       "      <th>Power</th>\n",
       "      <th>Seats</th>\n",
       "      <th>New_Price</th>\n",
       "      <th>Price</th>\n",
       "    </tr>\n",
       "  </thead>\n",
       "  <tbody>\n",
       "    <tr>\n",
       "      <th>0</th>\n",
       "      <td>0</td>\n",
       "      <td>Maruti Wagon R LXI CNG</td>\n",
       "      <td>Mumbai</td>\n",
       "      <td>2010</td>\n",
       "      <td>72000</td>\n",
       "      <td>CNG</td>\n",
       "      <td>Manual</td>\n",
       "      <td>First</td>\n",
       "      <td>26.6 km/kg</td>\n",
       "      <td>998 CC</td>\n",
       "      <td>58.16 bhp</td>\n",
       "      <td>5.0</td>\n",
       "      <td>NaN</td>\n",
       "      <td>1.75</td>\n",
       "    </tr>\n",
       "    <tr>\n",
       "      <th>1</th>\n",
       "      <td>1</td>\n",
       "      <td>Hyundai Creta 1.6 CRDi SX Option</td>\n",
       "      <td>Pune</td>\n",
       "      <td>2015</td>\n",
       "      <td>41000</td>\n",
       "      <td>Diesel</td>\n",
       "      <td>Manual</td>\n",
       "      <td>First</td>\n",
       "      <td>19.67 kmpl</td>\n",
       "      <td>1582 CC</td>\n",
       "      <td>126.2 bhp</td>\n",
       "      <td>5.0</td>\n",
       "      <td>NaN</td>\n",
       "      <td>12.50</td>\n",
       "    </tr>\n",
       "    <tr>\n",
       "      <th>2</th>\n",
       "      <td>2</td>\n",
       "      <td>Honda Jazz V</td>\n",
       "      <td>Chennai</td>\n",
       "      <td>2011</td>\n",
       "      <td>46000</td>\n",
       "      <td>Petrol</td>\n",
       "      <td>Manual</td>\n",
       "      <td>First</td>\n",
       "      <td>18.2 kmpl</td>\n",
       "      <td>1199 CC</td>\n",
       "      <td>88.7 bhp</td>\n",
       "      <td>5.0</td>\n",
       "      <td>8.61 Lakh</td>\n",
       "      <td>4.50</td>\n",
       "    </tr>\n",
       "    <tr>\n",
       "      <th>3</th>\n",
       "      <td>3</td>\n",
       "      <td>Maruti Ertiga VDI</td>\n",
       "      <td>Chennai</td>\n",
       "      <td>2012</td>\n",
       "      <td>87000</td>\n",
       "      <td>Diesel</td>\n",
       "      <td>Manual</td>\n",
       "      <td>First</td>\n",
       "      <td>20.77 kmpl</td>\n",
       "      <td>1248 CC</td>\n",
       "      <td>88.76 bhp</td>\n",
       "      <td>7.0</td>\n",
       "      <td>NaN</td>\n",
       "      <td>6.00</td>\n",
       "    </tr>\n",
       "    <tr>\n",
       "      <th>4</th>\n",
       "      <td>4</td>\n",
       "      <td>Audi A4 New 2.0 TDI Multitronic</td>\n",
       "      <td>Coimbatore</td>\n",
       "      <td>2013</td>\n",
       "      <td>40670</td>\n",
       "      <td>Diesel</td>\n",
       "      <td>Automatic</td>\n",
       "      <td>Second</td>\n",
       "      <td>15.2 kmpl</td>\n",
       "      <td>1968 CC</td>\n",
       "      <td>140.8 bhp</td>\n",
       "      <td>5.0</td>\n",
       "      <td>NaN</td>\n",
       "      <td>17.74</td>\n",
       "    </tr>\n",
       "  </tbody>\n",
       "</table>\n",
       "</div>"
      ],
      "text/plain": [
       "   Unnamed: 0                              Name    Location  Year  \\\n",
       "0           0            Maruti Wagon R LXI CNG      Mumbai  2010   \n",
       "1           1  Hyundai Creta 1.6 CRDi SX Option        Pune  2015   \n",
       "2           2                      Honda Jazz V     Chennai  2011   \n",
       "3           3                 Maruti Ertiga VDI     Chennai  2012   \n",
       "4           4   Audi A4 New 2.0 TDI Multitronic  Coimbatore  2013   \n",
       "\n",
       "   Kilometers_Driven Fuel_Type Transmission Owner_Type     Mileage   Engine  \\\n",
       "0              72000       CNG       Manual      First  26.6 km/kg   998 CC   \n",
       "1              41000    Diesel       Manual      First  19.67 kmpl  1582 CC   \n",
       "2              46000    Petrol       Manual      First   18.2 kmpl  1199 CC   \n",
       "3              87000    Diesel       Manual      First  20.77 kmpl  1248 CC   \n",
       "4              40670    Diesel    Automatic     Second   15.2 kmpl  1968 CC   \n",
       "\n",
       "       Power  Seats  New_Price  Price  \n",
       "0  58.16 bhp    5.0        NaN   1.75  \n",
       "1  126.2 bhp    5.0        NaN  12.50  \n",
       "2   88.7 bhp    5.0  8.61 Lakh   4.50  \n",
       "3  88.76 bhp    7.0        NaN   6.00  \n",
       "4  140.8 bhp    5.0        NaN  17.74  "
      ]
     },
<<<<<<< HEAD
     "execution_count": 5,
=======
     "execution_count": 29,
>>>>>>> 68ff2a08099986a13bf78c95853902c225b65205
     "metadata": {},
     "output_type": "execute_result"
    }
   ],
   "source": [
    "df.head()"
   ]
  },
  {
   "cell_type": "markdown",
   "metadata": {},
   "source": [
    "### Now lets have a look at the last 5 rows in the dataframe!"
   ]
  },
  {
   "cell_type": "code",
<<<<<<< HEAD
   "execution_count": 6,
=======
   "execution_count": 30,
>>>>>>> 68ff2a08099986a13bf78c95853902c225b65205
   "metadata": {},
   "outputs": [
    {
     "data": {
      "text/html": [
       "<div>\n",
       "<style scoped>\n",
       "    .dataframe tbody tr th:only-of-type {\n",
       "        vertical-align: middle;\n",
       "    }\n",
       "\n",
       "    .dataframe tbody tr th {\n",
       "        vertical-align: top;\n",
       "    }\n",
       "\n",
       "    .dataframe thead th {\n",
       "        text-align: right;\n",
       "    }\n",
       "</style>\n",
       "<table border=\"1\" class=\"dataframe\">\n",
       "  <thead>\n",
       "    <tr style=\"text-align: right;\">\n",
       "      <th></th>\n",
       "      <th>Unnamed: 0</th>\n",
       "      <th>Name</th>\n",
       "      <th>Location</th>\n",
       "      <th>Year</th>\n",
       "      <th>Kilometers_Driven</th>\n",
       "      <th>Fuel_Type</th>\n",
       "      <th>Transmission</th>\n",
       "      <th>Owner_Type</th>\n",
       "      <th>Mileage</th>\n",
       "      <th>Engine</th>\n",
       "      <th>Power</th>\n",
       "      <th>Seats</th>\n",
       "      <th>New_Price</th>\n",
       "      <th>Price</th>\n",
       "    </tr>\n",
       "  </thead>\n",
       "  <tbody>\n",
       "    <tr>\n",
       "      <th>6014</th>\n",
       "      <td>6014</td>\n",
       "      <td>Maruti Swift VDI</td>\n",
       "      <td>Delhi</td>\n",
       "      <td>2014</td>\n",
       "      <td>27365</td>\n",
       "      <td>Diesel</td>\n",
       "      <td>Manual</td>\n",
       "      <td>First</td>\n",
       "      <td>28.4 kmpl</td>\n",
       "      <td>1248 CC</td>\n",
       "      <td>74 bhp</td>\n",
       "      <td>5.0</td>\n",
       "      <td>7.88 Lakh</td>\n",
       "      <td>4.75</td>\n",
       "    </tr>\n",
       "    <tr>\n",
       "      <th>6015</th>\n",
       "      <td>6015</td>\n",
       "      <td>Hyundai Xcent 1.1 CRDi S</td>\n",
       "      <td>Jaipur</td>\n",
       "      <td>2015</td>\n",
       "      <td>100000</td>\n",
       "      <td>Diesel</td>\n",
       "      <td>Manual</td>\n",
       "      <td>First</td>\n",
       "      <td>24.4 kmpl</td>\n",
       "      <td>1120 CC</td>\n",
       "      <td>71 bhp</td>\n",
       "      <td>5.0</td>\n",
       "      <td>NaN</td>\n",
       "      <td>4.00</td>\n",
       "    </tr>\n",
       "    <tr>\n",
       "      <th>6016</th>\n",
       "      <td>6016</td>\n",
       "      <td>Mahindra Xylo D4 BSIV</td>\n",
       "      <td>Jaipur</td>\n",
       "      <td>2012</td>\n",
       "      <td>55000</td>\n",
       "      <td>Diesel</td>\n",
       "      <td>Manual</td>\n",
       "      <td>Second</td>\n",
       "      <td>14.0 kmpl</td>\n",
       "      <td>2498 CC</td>\n",
       "      <td>112 bhp</td>\n",
       "      <td>8.0</td>\n",
       "      <td>NaN</td>\n",
       "      <td>2.90</td>\n",
       "    </tr>\n",
       "    <tr>\n",
       "      <th>6017</th>\n",
       "      <td>6017</td>\n",
       "      <td>Maruti Wagon R VXI</td>\n",
       "      <td>Kolkata</td>\n",
       "      <td>2013</td>\n",
       "      <td>46000</td>\n",
       "      <td>Petrol</td>\n",
       "      <td>Manual</td>\n",
       "      <td>First</td>\n",
       "      <td>18.9 kmpl</td>\n",
       "      <td>998 CC</td>\n",
       "      <td>67.1 bhp</td>\n",
       "      <td>5.0</td>\n",
       "      <td>NaN</td>\n",
       "      <td>2.65</td>\n",
       "    </tr>\n",
       "    <tr>\n",
       "      <th>6018</th>\n",
       "      <td>6018</td>\n",
       "      <td>Chevrolet Beat Diesel</td>\n",
       "      <td>Hyderabad</td>\n",
       "      <td>2011</td>\n",
       "      <td>47000</td>\n",
       "      <td>Diesel</td>\n",
       "      <td>Manual</td>\n",
       "      <td>First</td>\n",
       "      <td>25.44 kmpl</td>\n",
       "      <td>936 CC</td>\n",
       "      <td>57.6 bhp</td>\n",
       "      <td>5.0</td>\n",
       "      <td>NaN</td>\n",
       "      <td>2.50</td>\n",
       "    </tr>\n",
       "  </tbody>\n",
       "</table>\n",
       "</div>"
      ],
      "text/plain": [
       "      Unnamed: 0                      Name   Location  Year  \\\n",
       "6014        6014          Maruti Swift VDI      Delhi  2014   \n",
       "6015        6015  Hyundai Xcent 1.1 CRDi S     Jaipur  2015   \n",
       "6016        6016     Mahindra Xylo D4 BSIV     Jaipur  2012   \n",
       "6017        6017        Maruti Wagon R VXI    Kolkata  2013   \n",
       "6018        6018     Chevrolet Beat Diesel  Hyderabad  2011   \n",
       "\n",
       "      Kilometers_Driven Fuel_Type Transmission Owner_Type     Mileage  \\\n",
       "6014              27365    Diesel       Manual      First   28.4 kmpl   \n",
       "6015             100000    Diesel       Manual      First   24.4 kmpl   \n",
       "6016              55000    Diesel       Manual     Second   14.0 kmpl   \n",
       "6017              46000    Petrol       Manual      First   18.9 kmpl   \n",
       "6018              47000    Diesel       Manual      First  25.44 kmpl   \n",
       "\n",
       "       Engine     Power  Seats  New_Price  Price  \n",
       "6014  1248 CC    74 bhp    5.0  7.88 Lakh   4.75  \n",
       "6015  1120 CC    71 bhp    5.0        NaN   4.00  \n",
       "6016  2498 CC   112 bhp    8.0        NaN   2.90  \n",
       "6017   998 CC  67.1 bhp    5.0        NaN   2.65  \n",
       "6018   936 CC  57.6 bhp    5.0        NaN   2.50  "
      ]
     },
<<<<<<< HEAD
     "execution_count": 6,
=======
     "execution_count": 30,
>>>>>>> 68ff2a08099986a13bf78c95853902c225b65205
     "metadata": {},
     "output_type": "execute_result"
    }
   ],
   "source": [
    "df.tail()"
   ]
  },
  {
   "cell_type": "markdown",
   "metadata": {},
   "source": [
    "### Now lets take a random sample from dataframe!"
   ]
  },
  {
   "cell_type": "code",
<<<<<<< HEAD
   "execution_count": 7,
=======
   "execution_count": 31,
>>>>>>> 68ff2a08099986a13bf78c95853902c225b65205
   "metadata": {},
   "outputs": [
    {
     "data": {
      "text/html": [
       "<div>\n",
       "<style scoped>\n",
       "    .dataframe tbody tr th:only-of-type {\n",
       "        vertical-align: middle;\n",
       "    }\n",
       "\n",
       "    .dataframe tbody tr th {\n",
       "        vertical-align: top;\n",
       "    }\n",
       "\n",
       "    .dataframe thead th {\n",
       "        text-align: right;\n",
       "    }\n",
       "</style>\n",
       "<table border=\"1\" class=\"dataframe\">\n",
       "  <thead>\n",
       "    <tr style=\"text-align: right;\">\n",
       "      <th></th>\n",
       "      <th>Unnamed: 0</th>\n",
       "      <th>Name</th>\n",
       "      <th>Location</th>\n",
       "      <th>Year</th>\n",
       "      <th>Kilometers_Driven</th>\n",
       "      <th>Fuel_Type</th>\n",
       "      <th>Transmission</th>\n",
       "      <th>Owner_Type</th>\n",
       "      <th>Mileage</th>\n",
       "      <th>Engine</th>\n",
       "      <th>Power</th>\n",
       "      <th>Seats</th>\n",
       "      <th>New_Price</th>\n",
       "      <th>Price</th>\n",
       "    </tr>\n",
       "  </thead>\n",
       "  <tbody>\n",
       "    <tr>\n",
<<<<<<< HEAD
       "      <th>783</th>\n",
       "      <td>783</td>\n",
       "      <td>Mercedes-Benz A Class A180 CDI</td>\n",
       "      <td>Mumbai</td>\n",
       "      <td>2013</td>\n",
       "      <td>37000</td>\n",
       "      <td>Diesel</td>\n",
       "      <td>Automatic</td>\n",
       "      <td>First</td>\n",
       "      <td>20.0 kmpl</td>\n",
       "      <td>2143 CC</td>\n",
       "      <td>107.3 bhp</td>\n",
       "      <td>5.0</td>\n",
       "      <td>NaN</td>\n",
       "      <td>14.0</td>\n",
=======
       "      <th>1871</th>\n",
       "      <td>1871</td>\n",
       "      <td>Chevrolet Optra Magnum 2.0 LT BS3</td>\n",
       "      <td>Mumbai</td>\n",
       "      <td>2010</td>\n",
       "      <td>78563</td>\n",
       "      <td>Diesel</td>\n",
       "      <td>Manual</td>\n",
       "      <td>First</td>\n",
       "      <td>16.52 kmpl</td>\n",
       "      <td>1991 CC</td>\n",
       "      <td>123.7 bhp</td>\n",
       "      <td>5.0</td>\n",
       "      <td>NaN</td>\n",
       "      <td>2.35</td>\n",
>>>>>>> 68ff2a08099986a13bf78c95853902c225b65205
       "    </tr>\n",
       "  </tbody>\n",
       "</table>\n",
       "</div>"
      ],
      "text/plain": [
<<<<<<< HEAD
       "     Unnamed: 0                            Name Location  Year  \\\n",
       "783         783  Mercedes-Benz A Class A180 CDI   Mumbai  2013   \n",
       "\n",
       "     Kilometers_Driven Fuel_Type Transmission Owner_Type    Mileage   Engine  \\\n",
       "783              37000    Diesel    Automatic      First  20.0 kmpl  2143 CC   \n",
       "\n",
       "         Power  Seats New_Price  Price  \n",
       "783  107.3 bhp    5.0       NaN   14.0  "
      ]
     },
     "execution_count": 7,
=======
       "      Unnamed: 0                               Name Location  Year  \\\n",
       "1871        1871  Chevrolet Optra Magnum 2.0 LT BS3   Mumbai  2010   \n",
       "\n",
       "      Kilometers_Driven Fuel_Type Transmission Owner_Type     Mileage  \\\n",
       "1871              78563    Diesel       Manual      First  16.52 kmpl   \n",
       "\n",
       "       Engine      Power  Seats New_Price  Price  \n",
       "1871  1991 CC  123.7 bhp    5.0       NaN   2.35  "
      ]
     },
     "execution_count": 31,
>>>>>>> 68ff2a08099986a13bf78c95853902c225b65205
     "metadata": {},
     "output_type": "execute_result"
    }
   ],
   "source": [
    "df.sample()"
   ]
  },
  {
   "cell_type": "markdown",
   "metadata": {},
   "source": [
    "#### As we can see there is a coloumn that is not usefull to us which is `Unnamed: 0`; this appears to be like an index to the dataset. This is a note we have to keep in mind, now lets check for other properities in the dataframe."
   ]
  },
  {
   "cell_type": "markdown",
   "metadata": {},
   "source": [
    "## Now lets have a look at the statistical information of the dataframe"
   ]
  },
  {
   "cell_type": "code",
<<<<<<< HEAD
   "execution_count": 8,
=======
   "execution_count": 32,
>>>>>>> 68ff2a08099986a13bf78c95853902c225b65205
   "metadata": {},
   "outputs": [
    {
     "data": {
      "text/html": [
       "<div>\n",
       "<style scoped>\n",
       "    .dataframe tbody tr th:only-of-type {\n",
       "        vertical-align: middle;\n",
       "    }\n",
       "\n",
       "    .dataframe tbody tr th {\n",
       "        vertical-align: top;\n",
       "    }\n",
       "\n",
       "    .dataframe thead th {\n",
       "        text-align: right;\n",
       "    }\n",
       "</style>\n",
       "<table border=\"1\" class=\"dataframe\">\n",
       "  <thead>\n",
       "    <tr style=\"text-align: right;\">\n",
       "      <th></th>\n",
       "      <th>Unnamed: 0</th>\n",
       "      <th>Year</th>\n",
       "      <th>Kilometers_Driven</th>\n",
       "      <th>Seats</th>\n",
       "      <th>Price</th>\n",
       "    </tr>\n",
       "  </thead>\n",
       "  <tbody>\n",
       "    <tr>\n",
       "      <th>count</th>\n",
       "      <td>6019.000000</td>\n",
       "      <td>6019.000000</td>\n",
       "      <td>6.019000e+03</td>\n",
       "      <td>5977.000000</td>\n",
       "      <td>6019.000000</td>\n",
       "    </tr>\n",
       "    <tr>\n",
       "      <th>mean</th>\n",
       "      <td>3009.000000</td>\n",
       "      <td>2013.358199</td>\n",
       "      <td>5.873838e+04</td>\n",
       "      <td>5.278735</td>\n",
       "      <td>9.479468</td>\n",
       "    </tr>\n",
       "    <tr>\n",
       "      <th>std</th>\n",
       "      <td>1737.679967</td>\n",
       "      <td>3.269742</td>\n",
       "      <td>9.126884e+04</td>\n",
       "      <td>0.808840</td>\n",
       "      <td>11.187917</td>\n",
       "    </tr>\n",
       "    <tr>\n",
       "      <th>min</th>\n",
       "      <td>0.000000</td>\n",
       "      <td>1998.000000</td>\n",
       "      <td>1.710000e+02</td>\n",
       "      <td>0.000000</td>\n",
       "      <td>0.440000</td>\n",
       "    </tr>\n",
       "    <tr>\n",
       "      <th>25%</th>\n",
       "      <td>1504.500000</td>\n",
       "      <td>2011.000000</td>\n",
       "      <td>3.400000e+04</td>\n",
       "      <td>5.000000</td>\n",
       "      <td>3.500000</td>\n",
       "    </tr>\n",
       "    <tr>\n",
       "      <th>50%</th>\n",
       "      <td>3009.000000</td>\n",
       "      <td>2014.000000</td>\n",
       "      <td>5.300000e+04</td>\n",
       "      <td>5.000000</td>\n",
       "      <td>5.640000</td>\n",
       "    </tr>\n",
       "    <tr>\n",
       "      <th>75%</th>\n",
       "      <td>4513.500000</td>\n",
       "      <td>2016.000000</td>\n",
       "      <td>7.300000e+04</td>\n",
       "      <td>5.000000</td>\n",
       "      <td>9.950000</td>\n",
       "    </tr>\n",
       "    <tr>\n",
       "      <th>max</th>\n",
       "      <td>6018.000000</td>\n",
       "      <td>2019.000000</td>\n",
       "      <td>6.500000e+06</td>\n",
       "      <td>10.000000</td>\n",
       "      <td>160.000000</td>\n",
       "    </tr>\n",
       "  </tbody>\n",
       "</table>\n",
       "</div>"
      ],
      "text/plain": [
       "        Unnamed: 0         Year  Kilometers_Driven        Seats        Price\n",
       "count  6019.000000  6019.000000       6.019000e+03  5977.000000  6019.000000\n",
       "mean   3009.000000  2013.358199       5.873838e+04     5.278735     9.479468\n",
       "std    1737.679967     3.269742       9.126884e+04     0.808840    11.187917\n",
       "min       0.000000  1998.000000       1.710000e+02     0.000000     0.440000\n",
       "25%    1504.500000  2011.000000       3.400000e+04     5.000000     3.500000\n",
       "50%    3009.000000  2014.000000       5.300000e+04     5.000000     5.640000\n",
       "75%    4513.500000  2016.000000       7.300000e+04     5.000000     9.950000\n",
       "max    6018.000000  2019.000000       6.500000e+06    10.000000   160.000000"
      ]
     },
<<<<<<< HEAD
     "execution_count": 8,
=======
     "execution_count": 32,
>>>>>>> 68ff2a08099986a13bf78c95853902c225b65205
     "metadata": {},
     "output_type": "execute_result"
    }
   ],
   "source": [
    "df.describe()"
   ]
  },
  {
   "cell_type": "markdown",
   "metadata": {},
   "source": [
    "Based on the statistical information we got, here are some insights and potential steps for data preprocessing:\n",
    "\n",
    "1. **Missing or Zero Values**:\n",
    "   - **Seats**: The minimum value is 0, which is likely incorrect, suggesting missing or erroneous data. These should be checked and possibly imputed or removed.\n",
    "   - **Kilometers_Driven and Price**: The presence of very low minimum values might indicate anomalies or errors that need further investigation.\n",
    "\n",
    "2. **Outliers**:\n",
    "   - **Kilometers_Driven**: The maximum value is 6,500,000, which is exceptionally high and could be an outlier or error. Outlier detection methods should be used to identify and handle such values.\n",
    "   - **Price**: The wide range and maximum value of 160 could also suggest outliers. Further analysis is required to determine if these are genuine or errors.\n",
    "\n",
    "3. **Distribution and Scaling**:\n",
    "   - **Kilometers_Driven and Price**: The high standard deviations suggest these variables have a wide range of values. Normalization or standardization may be necessary to ensure these variables contribute appropriately to any models.\n",
    "\n",
    "4. **Data Consistency**:\n",
    "   - **Year**: The range from 1998 to 2019 seems reasonable, but it's important to ensure the year values are consistent and correct, particularly if more recent data is expected.\n",
    "\n",
    "5. **Imputation**:\n",
    "   - **Seats**: Since there are some missing values, decide on an imputation method (mean, median, mode, or using a model-based approach) to fill in these gaps.\n",
    "\n",
    "6. **Feature Engineering**:\n",
    "   - You might want to create new features or modify existing ones to better capture the relationships in the data, such as categorizing years into age groups or creating a \"mileage per year\" feature.\n",
    "\n",
    "By addressing these issues, the data will be cleaner and more suitable for analysis or modeling tasks."
   ]
  },
  {
   "cell_type": "markdown",
   "metadata": {},
   "source": [
    "## Now lets check for the null values."
   ]
  },
  {
   "cell_type": "code",
<<<<<<< HEAD
   "execution_count": 9,
=======
   "execution_count": 33,
>>>>>>> 68ff2a08099986a13bf78c95853902c225b65205
   "metadata": {},
   "outputs": [
    {
     "data": {
      "text/plain": [
       "Unnamed: 0              0\n",
       "Name                    0\n",
       "Location                0\n",
       "Year                    0\n",
       "Kilometers_Driven       0\n",
       "Fuel_Type               0\n",
       "Transmission            0\n",
       "Owner_Type              0\n",
       "Mileage                 2\n",
       "Engine                 36\n",
       "Power                  36\n",
       "Seats                  42\n",
       "New_Price            5195\n",
       "Price                   0\n",
       "dtype: int64"
      ]
     },
<<<<<<< HEAD
     "execution_count": 9,
=======
     "execution_count": 33,
>>>>>>> 68ff2a08099986a13bf78c95853902c225b65205
     "metadata": {},
     "output_type": "execute_result"
    }
   ],
   "source": [
    "df.isna().sum()"
   ]
  },
  {
   "cell_type": "markdown",
   "metadata": {},
   "source": [
    "#### Well, thats a low price for 5,195 cars. As we can see it is the most column with null values we will try to solve this issue later."
   ]
  },
  {
   "cell_type": "markdown",
   "metadata": {},
   "source": [
    "## Now lets check for duplicate rows"
   ]
  },
  {
   "cell_type": "code",
<<<<<<< HEAD
   "execution_count": 10,
=======
   "execution_count": 34,
>>>>>>> 68ff2a08099986a13bf78c95853902c225b65205
   "metadata": {},
   "outputs": [
    {
     "data": {
      "text/plain": [
       "np.int64(0)"
      ]
     },
<<<<<<< HEAD
     "execution_count": 10,
=======
     "execution_count": 34,
>>>>>>> 68ff2a08099986a13bf78c95853902c225b65205
     "metadata": {},
     "output_type": "execute_result"
    }
   ],
   "source": [
    "df.duplicated().sum()"
   ]
  },
  {
   "cell_type": "markdown",
   "metadata": {},
   "source": [
    "#### This is great, this means less work for us. However duplicate rows some times can be healthy \n",
    "Dropping duplicate rows in a dataframe before passing it to a machine learning algorithm can be important, depending on the nature of the data and the machine learning algorithm being used.\n",
    "\n",
    "Duplicate rows can affect the performance of a machine learning algorithm in several ways.\n",
    "\n",
    "For example:\n",
    "\n",
    "1. Bias: Duplicate rows can bias the model towards certain features or outcomes, leading to overfitting and poor generalization to new data.\n",
    "\n",
    "2. Efficiency: Duplicate rows increase the computational cost of training the model, as the algorithm may need to process the same data multiple times.\n",
    "\n",
    "3. Data imbalance: Duplicate rows can also create an imbalance in the data, which can affect the accuracy of the model.\n",
    "\n",
    "Therefore, it is generally a good practice to remove duplicate rows from the data before training a machine learning algorithm. This can be done using the drop_duplicates() method in Pandas, or other similar methods in other programming languages.\n",
    "\n",
    "However, it is important to note that there may be cases where duplicate rows are actually informative and should not be removed. For example, in some time-series datasets, it is common to have multiple observations of the same event at different time points. In these cases, removing duplicate rows may actually remove important information from the dataset. So, it's always important to carefully consider the nature of the data and the goals of the analysis before deciding whether or not to remove duplicate rows.\n",
    "##### [source](https://www.kaggle.com/thabres)"
   ]
  },
  {
   "cell_type": "markdown",
   "metadata": {},
   "source": [
    "## Now we have enough information to start the preprocessing!"
   ]
  },
  {
   "cell_type": "markdown",
   "metadata": {},
   "source": [
    "# 2- Preprocessing"
   ]
  },
  {
   "cell_type": "markdown",
   "metadata": {},
   "source": [
    "### Indexing\n",
    "As you know, the `Unnamed: 0`column is and index so lets make it the index to the dataset and lets also rename it!"
   ]
  },
  {
   "cell_type": "code",
<<<<<<< HEAD
   "execution_count": 11,
=======
   "execution_count": 35,
>>>>>>> 68ff2a08099986a13bf78c95853902c225b65205
   "metadata": {},
   "outputs": [],
   "source": [
    "df = df.rename(columns={'Unnamed: 0': 'ID'})"
   ]
  },
  {
   "cell_type": "code",
<<<<<<< HEAD
   "execution_count": 12,
=======
   "execution_count": 36,
>>>>>>> 68ff2a08099986a13bf78c95853902c225b65205
   "metadata": {},
   "outputs": [],
   "source": [
    "df = df.set_index('ID')"
   ]
  },
  {
   "cell_type": "code",
<<<<<<< HEAD
   "execution_count": 13,
=======
   "execution_count": 37,
>>>>>>> 68ff2a08099986a13bf78c95853902c225b65205
   "metadata": {},
   "outputs": [
    {
     "data": {
      "text/html": [
       "<div>\n",
       "<style scoped>\n",
       "    .dataframe tbody tr th:only-of-type {\n",
       "        vertical-align: middle;\n",
       "    }\n",
       "\n",
       "    .dataframe tbody tr th {\n",
       "        vertical-align: top;\n",
       "    }\n",
       "\n",
       "    .dataframe thead th {\n",
       "        text-align: right;\n",
       "    }\n",
       "</style>\n",
       "<table border=\"1\" class=\"dataframe\">\n",
       "  <thead>\n",
       "    <tr style=\"text-align: right;\">\n",
       "      <th></th>\n",
       "      <th>Name</th>\n",
       "      <th>Location</th>\n",
       "      <th>Year</th>\n",
       "      <th>Kilometers_Driven</th>\n",
       "      <th>Fuel_Type</th>\n",
       "      <th>Transmission</th>\n",
       "      <th>Owner_Type</th>\n",
       "      <th>Mileage</th>\n",
       "      <th>Engine</th>\n",
       "      <th>Power</th>\n",
       "      <th>Seats</th>\n",
       "      <th>New_Price</th>\n",
       "      <th>Price</th>\n",
       "    </tr>\n",
       "    <tr>\n",
       "      <th>ID</th>\n",
       "      <th></th>\n",
       "      <th></th>\n",
       "      <th></th>\n",
       "      <th></th>\n",
       "      <th></th>\n",
       "      <th></th>\n",
       "      <th></th>\n",
       "      <th></th>\n",
       "      <th></th>\n",
       "      <th></th>\n",
       "      <th></th>\n",
       "      <th></th>\n",
       "      <th></th>\n",
       "    </tr>\n",
       "  </thead>\n",
       "  <tbody>\n",
       "    <tr>\n",
       "      <th>0</th>\n",
       "      <td>Maruti Wagon R LXI CNG</td>\n",
       "      <td>Mumbai</td>\n",
       "      <td>2010</td>\n",
       "      <td>72000</td>\n",
       "      <td>CNG</td>\n",
       "      <td>Manual</td>\n",
       "      <td>First</td>\n",
       "      <td>26.6 km/kg</td>\n",
       "      <td>998 CC</td>\n",
       "      <td>58.16 bhp</td>\n",
       "      <td>5.0</td>\n",
       "      <td>NaN</td>\n",
       "      <td>1.75</td>\n",
       "    </tr>\n",
       "    <tr>\n",
       "      <th>1</th>\n",
       "      <td>Hyundai Creta 1.6 CRDi SX Option</td>\n",
       "      <td>Pune</td>\n",
       "      <td>2015</td>\n",
       "      <td>41000</td>\n",
       "      <td>Diesel</td>\n",
       "      <td>Manual</td>\n",
       "      <td>First</td>\n",
       "      <td>19.67 kmpl</td>\n",
       "      <td>1582 CC</td>\n",
       "      <td>126.2 bhp</td>\n",
       "      <td>5.0</td>\n",
       "      <td>NaN</td>\n",
       "      <td>12.50</td>\n",
       "    </tr>\n",
       "    <tr>\n",
       "      <th>2</th>\n",
       "      <td>Honda Jazz V</td>\n",
       "      <td>Chennai</td>\n",
       "      <td>2011</td>\n",
       "      <td>46000</td>\n",
       "      <td>Petrol</td>\n",
       "      <td>Manual</td>\n",
       "      <td>First</td>\n",
       "      <td>18.2 kmpl</td>\n",
       "      <td>1199 CC</td>\n",
       "      <td>88.7 bhp</td>\n",
       "      <td>5.0</td>\n",
       "      <td>8.61 Lakh</td>\n",
       "      <td>4.50</td>\n",
       "    </tr>\n",
       "    <tr>\n",
       "      <th>3</th>\n",
       "      <td>Maruti Ertiga VDI</td>\n",
       "      <td>Chennai</td>\n",
       "      <td>2012</td>\n",
       "      <td>87000</td>\n",
       "      <td>Diesel</td>\n",
       "      <td>Manual</td>\n",
       "      <td>First</td>\n",
       "      <td>20.77 kmpl</td>\n",
       "      <td>1248 CC</td>\n",
       "      <td>88.76 bhp</td>\n",
       "      <td>7.0</td>\n",
       "      <td>NaN</td>\n",
       "      <td>6.00</td>\n",
       "    </tr>\n",
       "    <tr>\n",
       "      <th>4</th>\n",
       "      <td>Audi A4 New 2.0 TDI Multitronic</td>\n",
       "      <td>Coimbatore</td>\n",
       "      <td>2013</td>\n",
       "      <td>40670</td>\n",
       "      <td>Diesel</td>\n",
       "      <td>Automatic</td>\n",
       "      <td>Second</td>\n",
       "      <td>15.2 kmpl</td>\n",
       "      <td>1968 CC</td>\n",
       "      <td>140.8 bhp</td>\n",
       "      <td>5.0</td>\n",
       "      <td>NaN</td>\n",
       "      <td>17.74</td>\n",
       "    </tr>\n",
       "  </tbody>\n",
       "</table>\n",
       "</div>"
      ],
      "text/plain": [
       "                                Name    Location  Year  Kilometers_Driven  \\\n",
       "ID                                                                          \n",
       "0             Maruti Wagon R LXI CNG      Mumbai  2010              72000   \n",
       "1   Hyundai Creta 1.6 CRDi SX Option        Pune  2015              41000   \n",
       "2                       Honda Jazz V     Chennai  2011              46000   \n",
       "3                  Maruti Ertiga VDI     Chennai  2012              87000   \n",
       "4    Audi A4 New 2.0 TDI Multitronic  Coimbatore  2013              40670   \n",
       "\n",
       "   Fuel_Type Transmission Owner_Type     Mileage   Engine      Power  Seats  \\\n",
       "ID                                                                            \n",
       "0        CNG       Manual      First  26.6 km/kg   998 CC  58.16 bhp    5.0   \n",
       "1     Diesel       Manual      First  19.67 kmpl  1582 CC  126.2 bhp    5.0   \n",
       "2     Petrol       Manual      First   18.2 kmpl  1199 CC   88.7 bhp    5.0   \n",
       "3     Diesel       Manual      First  20.77 kmpl  1248 CC  88.76 bhp    7.0   \n",
       "4     Diesel    Automatic     Second   15.2 kmpl  1968 CC  140.8 bhp    5.0   \n",
       "\n",
       "    New_Price  Price  \n",
       "ID                    \n",
       "0         NaN   1.75  \n",
       "1         NaN  12.50  \n",
       "2   8.61 Lakh   4.50  \n",
       "3         NaN   6.00  \n",
       "4         NaN  17.74  "
      ]
     },
<<<<<<< HEAD
     "execution_count": 13,
=======
     "execution_count": 37,
>>>>>>> 68ff2a08099986a13bf78c95853902c225b65205
     "metadata": {},
     "output_type": "execute_result"
    }
   ],
   "source": [
    "df.head()"
   ]
  },
  {
   "cell_type": "markdown",
   "metadata": {},
   "source": [
    "### Clean numerical columns"
   ]
  },
  {
   "cell_type": "code",
<<<<<<< HEAD
   "execution_count": 14,
=======
   "execution_count": 38,
>>>>>>> 68ff2a08099986a13bf78c95853902c225b65205
   "metadata": {},
   "outputs": [
    {
     "name": "stdout",
     "output_type": "stream",
     "text": [
      "float64\n",
      "[ 998. 1582. 1199. 1248. 1968.  814. 1461. 2755. 1598. 1462. 1497. 2179.\n",
      " 2477. 1498. 2143. 1995. 1984. 1197. 2494. 1798. 2696. 2698. 1061. 1198.\n",
      " 2987.  796.  624. 1999. 1991. 2694. 1120. 2498.  799. 2393. 1399. 1796.\n",
      " 2148. 1396. 1950. 4806. 1998. 1086. 1193. 2982. 1493. 2967. 2993. 1196.\n",
      " 1799. 2497. 2354. 1373. 2996. 1591. 2894. 5461. 1595.  936. 1997.   nan\n",
      " 1896. 1390. 1364. 2199.  993.  999. 1405. 2956. 1794.  995. 2496. 1599.\n",
      " 2400. 1495. 2523.  793. 4134. 1596. 1395. 2953. 1586. 2362. 1496. 1368.\n",
      " 1298. 1956. 1299. 3498. 2835. 1150. 3198. 1343. 1499. 1186. 1590. 2609.\n",
      " 2499. 2446. 1978. 2360. 3436. 2198. 4367. 2706. 1422. 2979. 1969. 1489.\n",
      " 2489. 1242. 1388. 1172. 2495. 1194. 3200. 1781. 1341. 2773. 3597. 1985.\n",
      " 2147. 1047. 2999. 2995. 2997. 1948. 2359. 4395. 2349. 2720. 1468. 3197.\n",
      " 2487. 1597. 2771.   72. 4951.  970. 2925. 2200. 5000. 2149. 5998. 2092.\n",
      " 5204. 2112. 1797.]\n"
     ]
    }
   ],
   "source": [
    "# Remove the 'CC' from the 'Engine' column\n",
    "df['Engine'] = df['Engine'].apply(lambda x: str(x).replace(' CC', ''))\n",
    "# First lets make null value to -1 just so we can change the data type to int\n",
    "# In case it is not np.nan, we will also replace 'nan' to -1\n",
    "df['Engine'] = df['Engine'].replace('nan', np.nan)\n",
    "df['Engine'] = df['Engine'].fillna('-1')\n",
    "# Now we change the data type to int\n",
    "df['Engine'] = df['Engine'].astype(float)\n",
    "# Now lets replace -1 to np.nan\n",
    "df['Engine'] = df['Engine'].replace(-1, np.nan)\n",
    "print(df['Engine'].dtype)\n",
    "print(df['Engine'].unique())"
   ]
  },
  {
   "cell_type": "code",
<<<<<<< HEAD
   "execution_count": 15,
=======
   "execution_count": 39,
>>>>>>> 68ff2a08099986a13bf78c95853902c225b65205
   "metadata": {},
   "outputs": [
    {
     "name": "stdout",
     "output_type": "stream",
     "text": [
      "float64\n",
      "[  nan  861. 2100. 1065. 3201. 4787. 1057. 1233. 1112. 2364. 1864. 1934.\n",
      " 4914. 1181. 1665.  667.  645.  641. 2700.  513. 5443.  951.  996. 1444.\n",
      "  453. 9504. 1349.  128. 6088.  739. 6947.  878. 1274. 1052. 1198.  854.\n",
      " 3358.  912.  529. 4428. 2074. 1174. 2552. 1407. 9513.  834.  885. 2540.\n",
      " 1667. 7943.  662.  104. 5867. 2837.  448. 7264. 3615. 4459. 1200. 1465.\n",
      " 5372. 3391. 1251.  974. 9538. 6059. 1128. 1148. 1126. 4365. 6207. 8697.\n",
      "  100.  474. 1484. 4949. 4818. 1234. 1538. 1921. 2295. 1115. 1032. 2805.\n",
      " 5977. 1586. 1943. 4212. 1695. 1545.  787.  470. 1502. 1256. 1133. 2645.\n",
      " 1034.  746. 1185. 1041.  557. 4248. 1604.  910.  765. 1374.  572. 2133.\n",
      " 7876.  429. 1004. 1167.  856.  478.  614.  730.  437.  498. 1529. 2426.\n",
      " 7512.  953. 3460. 5226. 7043.  480. 1212. 1937. 1214. 3669. 2368. 5561.\n",
      " 1410. 1326. 1127. 1120.  946. 1279. 1557. 1986.  659.  654. 2656. 1505.\n",
      " 1101. 1100.  755.  782.  632. 1514. 1572. 4567. 5470. 2287.  674. 3309.\n",
      " 2325. 1927. 5277.  792.  785. 1555. 3245.  483.  713. 7182. 5097. 1073.\n",
      "  950. 5246.  607.  554.  433.  863.  668.  798. 2482.  763. 2286. 1106.\n",
      " 1939. 2177. 1835.  919.  809.  139. 1152. 1323. 1006. 1534. 2401. 1139.\n",
      "  979. 3500.  926.  868. 6639. 3645. 9138. 5341.  459. 6787.  944. 4864.\n",
      " 1169. 1111.  633.  810.  640.  759.  700.  743. 2243. 2402. 2169. 3463.\n",
      " 4331.  471.  102.  671. 3445.  858. 1267. 1189. 1048. 1359. 1102. 4194.\n",
      "  894. 2138. 1288.  827.  737.  733. 2306.  140.  558. 2246.  769.  940.\n",
      "  608.  836.  106. 7115.  682.  812.  978.  736. 3811. 1175.  844. 1606.\n",
      "  663.  127. 3960. 1091. 2575.  561.  805.  882. 1738.  569. 3751.  588.\n",
      " 6371. 1147. 3746.  788. 1137. 1130. 9250. 1506. 3957. 1370. 1116.  947.\n",
      " 1017.  817.  958.  914. 6414. 1636. 3738. 2274. 3336. 7055.  113. 4536.\n",
      " 1013. 1422. 1177.  405. 2695.  482.  717. 1358.  909.  409.  683.  504.\n",
      " 4381.  512.  571.  587.  816.  972. 1030.  469.  542. 9123.  714. 6959.\n",
      "  461.  530.  797. 5938. 6710. 1222. 3368.  696.  796. 2080.  678. 1991.\n",
      "  893. 1166.  735.  699. 2389.  727.  884. 2237. 1202.  395. 4879.  466.\n",
      " 1129.  535.  136.  623. 4716. 4198. 3529.  791.  536.  551. 2097. 3489.\n",
      " 1640.  166. 1467. 1257.  948.  895. 2319.  824.  871. 4475. 8757.  857.\n",
      "  756. 4307.  783.  600. 1376. 1411. 1247.  651.  752. 1568.  745. 2048.\n",
      " 1517.  813.  879. 1472. 2554. 1684.  828. 2394. 6937.  904. 5507. 1097.\n",
      " 2172.  490. 1010. 1253. 2087.  590. 6457. 1721.  656. 4720. 1014.  160.\n",
      "  544. 2655.  826.  450. 5697. 1119. 1333.  875. 2110. 1028. 1156. 2707.\n",
      "  436. 1081.  855. 2266.  424. 4102. 1700.  230. 1089. 4062.  754. 3019.\n",
      "  556.  443. 3717. 1290. 1918. 1099. 1223. 1163. 1227.  391. 4480. 5040.\n",
      "  404. 1196. 1144. 2463. 5026. 1372. 2314.  629.  818.  748. 8392. 3694.\n",
      " 1360. 1070.  487. 9279.  580. 6211. 1083. 1105.  999. 1432.  621. 7449.\n",
      "  803.  171. 3790. 3254. 1171.  398.  455.  880. 1113. 1158. 1063. 1268.\n",
      " 1770. 1423.  962. 5314.  891. 1026.  694. 1559. 7831. 4289.  956. 6476.\n",
      " 9992. 6922. 1845.  989.  794.  873.  869. 4240. 2337. 7978. 1660.  493.\n",
      " 1420. 1042.  955.  545.  838.  595. 1536. 1094. 1015.  983.  767.  997.\n",
      " 6767. 5368.  605. 1025.  823.  701.  680. 2527. 5730.  568.  936. 3872.\n",
      "  770.  643.  567.  396. 3927. 3351. 1594.  715. 1340. 1188. 2136.  592.\n",
      "  642.  899. 1244.  577. 1501. 4073. 3321.  445. 2046. 3922.  777. 1191.\n",
      "  993.]\n"
     ]
    }
   ],
   "source": [
    "df['New_Price'] = df['New_Price'].apply(lambda x: str(x).replace(' Lakh', ''))\n",
    "df['New_Price'] = df['New_Price'].apply(lambda x: float(str(x).replace(' Cr', ''))*100)\n",
    "\n",
    "df['New_Price'] = df['New_Price'].replace('nan', np.nan)\n",
    "df['New_Price'] = df['New_Price'].replace('null', np.nan)\n",
    "df['New_Price'] = df['New_Price'].fillna('-1')\n",
    "\n",
    "df['New_Price'] = df['New_Price'].astype(float)\n",
    "\n",
    "df['New_Price'] = df['New_Price'].replace(-1, np.nan)\n",
    "\n",
    "print(df['New_Price'].dtype)\n",
    "print(df['New_Price'].unique())"
   ]
  },
  {
   "cell_type": "code",
<<<<<<< HEAD
   "execution_count": 16,
=======
   "execution_count": 848,
>>>>>>> 68ff2a08099986a13bf78c95853902c225b65205
   "metadata": {},
   "outputs": [
    {
     "name": "stdout",
     "output_type": "stream",
     "text": [
      "float64\n",
      "[ 58.16  126.2    88.7    88.76  140.8    55.2    63.1   171.5   103.6\n",
      "  74.    103.25  116.3   187.7   115.    175.56   98.6    83.8   167.62\n",
      " 190.     88.5   177.01   80.     67.1   102.    108.45  138.1   184.\n",
      " 179.5   103.5    64.     82.    254.8    73.9    46.3    37.5    77.\n",
      "  82.9   149.92  138.03  112.2   163.7    71.    105.    174.33   75.\n",
      " 103.2    53.3    78.9   147.6   147.8    68.    186.    170.     69.\n",
      " 140.     78.    194.    500.    108.5    86.8   187.74      nan 132.\n",
      "  86.7    73.94  117.3   218.    168.5    89.84  110.     90.     82.85\n",
      "  67.    241.4    35.    270.9   126.32   73.    130.    100.6   150.\n",
      "  75.94  215.    107.3    37.48  120.    178.    152.     91.1    85.8\n",
      " 362.07  121.3   143.     81.8   171.     76.8   103.52  444.    362.9\n",
      "  67.06  120.7   258.     81.86  112.     88.73   57.6   157.75  102.5\n",
      " 201.1    83.1    68.05  106.    100.     81.83   85.     64.1   177.5\n",
      " 246.7   177.46   65.     67.04  189.08   99.     53.5   194.3    70.\n",
      " 183.    254.79   66.1    76.     60.    123.24   47.3   118.     88.8\n",
      " 177.    136.    201.15   93.7   177.6   313.    245.    125.    141.\n",
      " 227.     62.    141.1    83.14  192.     67.05   47.    235.     37.\n",
      "  87.2   203.    204.    246.74  122.    282.    181.    224.     94.\n",
      " 367.     98.79   62.1   174.3   114.    335.2   169.    191.34  108.49\n",
      " 138.02  156.    187.4    66.    103.3   164.7    79.4   198.5   154.\n",
      "  73.8   181.43  207.8   108.4    88.     63.     82.5   364.9   107.2\n",
      " 113.98  126.3   185.    237.4    99.6    66.7   160.    306.     98.59\n",
      "  92.7   147.51  197.2   167.6   165.    110.4    73.97  147.9   116.6\n",
      " 148.     34.2   155.    197.    108.62  118.3    38.4   241.38  153.86\n",
      " 163.5   226.6    84.8    53.64  158.2    69.01  181.03   58.2   104.68\n",
      " 126.24   73.75  158.    130.2    57.5    97.7   121.4    98.96  174.5\n",
      " 308.    121.36  138.    265.     84.    321.     91.72   65.3    88.2\n",
      "  93.     35.5    86.79  157.7    40.3    91.7   180.    114.4   158.8\n",
      " 157.8   123.7    56.3   189.    104.    210.    270.88  142.    255.\n",
      " 236.    167.7   148.31   80.46  138.08  250.     74.9    91.2   102.57\n",
      "  97.6   102.53  240.    254.    112.4    73.74  108.495 116.9   101.\n",
      " 320.     70.02  261.49  105.5   550.    168.7    55.23   94.68  152.88\n",
      " 163.2   203.2   241.     95.    200.    271.23   63.12   85.7   308.43\n",
      " 118.6   199.3    83.83   55.     83.    300.    201.    262.6   163.\n",
      "  58.33   86.76   76.9   174.57  301.73   68.1   162.    394.3    80.9\n",
      " 147.5   272.    340.    120.33   82.4   231.1   335.3   333.    198.25\n",
      " 224.34  402.    261.     61.    144.     71.01  271.72  134.    135.1\n",
      "  92.     64.08  261.5   123.37  175.67   53.    110.5   178.4   193.1\n",
      "  41.    395.     48.21  450.    421.     89.75  387.3   130.3   281.61\n",
      "  52.8   139.01  208.    503.    168.     98.82  139.07   83.11   74.93\n",
      " 382.     74.96  552.    127.    560.    116.4   161.6   488.1   103.\n",
      " 181.04 ]\n"
     ]
    }
   ],
   "source": [
    "\n",
    "df['Power'] = df['Power'].apply(lambda x: str(x).replace(' bhp', ''))\n",
    "\n",
    "df['Power'] = df['Power'].replace('nan', np.nan)\n",
    "df['Power'] = df['Power'].replace('null', np.nan)\n",
    "df['Power'] = df['Power'].fillna('-1')\n",
    "\n",
    "df['Power'] = df['Power'].astype(float)\n",
    "\n",
    "df['Power'] = df['Power'].replace(-1, np.nan)\n",
    "print(df['Power'].dtype)\n",
    "print(df['Power'].unique())"
   ]
  },
  {
   "cell_type": "code",
<<<<<<< HEAD
   "execution_count": 17,
=======
   "execution_count": 40,
>>>>>>> 68ff2a08099986a13bf78c95853902c225b65205
   "metadata": {},
   "outputs": [],
   "source": [
    "def convert_mileage(mileage):\n",
    "    if isinstance(mileage, str) and 'km/kg' in mileage:\n",
    "        mileage = mileage[:-6]\n",
    "        mileage = float(mileage)*1.40\n",
    "        \n",
    "        return f\"{float(mileage):.2f} kmpl\"\n",
    "    return mileage\n",
    "\n",
    "df['Mileage'] = df['Mileage'].astype(str).apply(convert_mileage)"
   ]
  },
  {
   "cell_type": "markdown",
   "metadata": {},
   "source": [
    "Now, I am not a physicist, so let's just pretend that it is the correct formula."
   ]
  },
  {
   "cell_type": "code",
<<<<<<< HEAD
   "execution_count": 18,
=======
   "execution_count": 41,
>>>>>>> 68ff2a08099986a13bf78c95853902c225b65205
   "metadata": {},
   "outputs": [
    {
     "data": {
      "text/html": [
       "<div>\n",
       "<style scoped>\n",
       "    .dataframe tbody tr th:only-of-type {\n",
       "        vertical-align: middle;\n",
       "    }\n",
       "\n",
       "    .dataframe tbody tr th {\n",
       "        vertical-align: top;\n",
       "    }\n",
       "\n",
       "    .dataframe thead th {\n",
       "        text-align: right;\n",
       "    }\n",
       "</style>\n",
       "<table border=\"1\" class=\"dataframe\">\n",
       "  <thead>\n",
       "    <tr style=\"text-align: right;\">\n",
       "      <th></th>\n",
       "      <th>Name</th>\n",
       "      <th>Location</th>\n",
       "      <th>Year</th>\n",
       "      <th>Kilometers_Driven</th>\n",
       "      <th>Fuel_Type</th>\n",
       "      <th>Transmission</th>\n",
       "      <th>Owner_Type</th>\n",
       "      <th>Mileage</th>\n",
       "      <th>Engine</th>\n",
       "      <th>Power</th>\n",
       "      <th>Seats</th>\n",
       "      <th>New_Price</th>\n",
       "      <th>Price</th>\n",
       "    </tr>\n",
       "    <tr>\n",
       "      <th>ID</th>\n",
       "      <th></th>\n",
       "      <th></th>\n",
       "      <th></th>\n",
       "      <th></th>\n",
       "      <th></th>\n",
       "      <th></th>\n",
       "      <th></th>\n",
       "      <th></th>\n",
       "      <th></th>\n",
       "      <th></th>\n",
       "      <th></th>\n",
       "      <th></th>\n",
       "      <th></th>\n",
       "    </tr>\n",
       "  </thead>\n",
       "  <tbody>\n",
       "    <tr>\n",
       "      <th>4446</th>\n",
       "      <td>Mahindra E Verito D4</td>\n",
       "      <td>Chennai</td>\n",
       "      <td>2016</td>\n",
       "      <td>50000</td>\n",
       "      <td>Electric</td>\n",
       "      <td>Automatic</td>\n",
       "      <td>First</td>\n",
       "      <td>nan</td>\n",
       "      <td>72.0</td>\n",
<<<<<<< HEAD
       "      <td>41.0</td>\n",
=======
       "      <td>41 bhp</td>\n",
>>>>>>> 68ff2a08099986a13bf78c95853902c225b65205
       "      <td>5.0</td>\n",
       "      <td>1358.0</td>\n",
       "      <td>13.00</td>\n",
       "    </tr>\n",
       "    <tr>\n",
       "      <th>4904</th>\n",
       "      <td>Toyota Prius 2009-2016 Z4</td>\n",
       "      <td>Mumbai</td>\n",
       "      <td>2011</td>\n",
       "      <td>44000</td>\n",
       "      <td>Electric</td>\n",
       "      <td>Automatic</td>\n",
       "      <td>First</td>\n",
       "      <td>nan</td>\n",
       "      <td>1798.0</td>\n",
<<<<<<< HEAD
       "      <td>73.0</td>\n",
=======
       "      <td>73 bhp</td>\n",
>>>>>>> 68ff2a08099986a13bf78c95853902c225b65205
       "      <td>5.0</td>\n",
       "      <td>NaN</td>\n",
       "      <td>12.75</td>\n",
       "    </tr>\n",
       "  </tbody>\n",
       "</table>\n",
       "</div>"
      ],
      "text/plain": [
       "                           Name Location  Year  Kilometers_Driven Fuel_Type  \\\n",
       "ID                                                                            \n",
       "4446       Mahindra E Verito D4  Chennai  2016              50000  Electric   \n",
       "4904  Toyota Prius 2009-2016 Z4   Mumbai  2011              44000  Electric   \n",
       "\n",
<<<<<<< HEAD
       "     Transmission Owner_Type Mileage  Engine  Power  Seats  New_Price  Price  \n",
       "ID                                                                            \n",
       "4446    Automatic      First     nan    72.0   41.0    5.0     1358.0  13.00  \n",
       "4904    Automatic      First     nan  1798.0   73.0    5.0        NaN  12.75  "
      ]
     },
     "execution_count": 18,
=======
       "     Transmission Owner_Type Mileage  Engine   Power  Seats  New_Price  Price  \n",
       "ID                                                                             \n",
       "4446    Automatic      First     nan    72.0  41 bhp    5.0     1358.0  13.00  \n",
       "4904    Automatic      First     nan  1798.0  73 bhp    5.0        NaN  12.75  "
      ]
     },
     "execution_count": 41,
>>>>>>> 68ff2a08099986a13bf78c95853902c225b65205
     "metadata": {},
     "output_type": "execute_result"
    }
   ],
   "source": [
    "df[~df['Mileage'].str.contains('kmpl')]"
   ]
  },
  {
   "cell_type": "markdown",
   "metadata": {},
   "source": [
    "This is great; we can now rest assured that the values are either `NaN` or `kmpl`. Lets now keep the numbers only!"
   ]
  },
  {
   "cell_type": "code",
<<<<<<< HEAD
   "execution_count": 19,
=======
   "execution_count": 42,
>>>>>>> 68ff2a08099986a13bf78c95853902c225b65205
   "metadata": {},
   "outputs": [
    {
     "name": "stdout",
     "output_type": "stream",
     "text": [
      "float64\n",
      "[37.24 19.67 18.2  20.77 15.2  29.54 23.08 11.36 20.54 22.3  21.56 16.8\n",
      " 25.2  12.7   0.   13.5  25.8  28.4  20.45 14.84 22.69 23.65 13.53 18.5\n",
      " 14.4  20.92 17.5  12.8  19.01 14.53 11.18 12.4  16.09 14.   24.3  18.15\n",
      " 11.74 22.07 19.7  25.4  25.32 14.62 14.28 14.9  11.25 24.4  16.55 17.11\n",
      " 22.9  17.8  18.9  15.04 25.17 20.36 13.29 13.68 20.   15.8  25.   16.4\n",
      " 24.52 22.1   8.5  15.1  16.95 19.64 16.5  18.53 17.57 18.   23.2  16.73\n",
      " 17.   13.   17.68 22.7  16.2  15.26 23.   19.83 14.94 17.71 14.74 16.\n",
      " 22.32 12.99 23.3  19.15 10.8  15.   22.   21.9  12.05 11.7  21.21 20.73\n",
      " 21.1  24.07 19.   20.58 19.27 11.5  18.6  21.14 11.05 21.76  7.81 21.66\n",
      " 17.2  20.63 19.4  14.8  26.   20.4  21.5  15.3  17.9  16.6  22.54 25.44\n",
      " 13.7  22.48 12.9  19.98 21.4  19.81 15.4  25.47 19.87 17.45 14.7  15.64\n",
      " 15.73 23.59 16.1  27.4  20.46 15.29 20.51 11.8  14.3  14.67 17.19 21.03\n",
      " 22.5  16.82 11.72 17.4  17.05 24.   28.09 20.5  13.1  19.91 18.7  16.38\n",
      " 11.57 17.3  22.95 18.88 23.4  22.74 12.07 17.1  18.48 16.47 23.1  14.07\n",
      " 16.02 19.3  17.7   9.52 14.75 36.82 11.3  21.12 21.02 14.45 19.33 13.8\n",
      " 24.7  11.   11.07 21.43 14.21 18.86 16.07 13.49 20.38 12.   17.01 13.2\n",
      " 20.37 15.96 14.16 13.17 27.62 25.1  15.17 11.33 17.92 12.55 12.6  17.72\n",
      " 18.16 15.68 15.5  12.1  14.83 17.6  14.6  14.66 10.93 20.68  9.9  21.13\n",
      " 20.14 19.2  27.3  16.36 26.59 12.5  13.6  15.06 10.13 17.21 15.97 10.5\n",
      " 14.69 23.9  19.1  21.27 15.9  20.7  14.1  20.89 18.12 12.3  19.71  9.43\n",
      " 13.4  13.14 18.1  22.77 14.49 12.39 10.91 20.85 15.63 27.39 18.3  16.78\n",
      " 25.5  10.   13.73 24.2  14.02 37.56 16.77 24.5  20.34 21.7   9.7  14.33\n",
      " 21.64 19.16 16.93  9.   36.68 16.3  12.62 24.22 20.64 14.24 18.06 10.2\n",
      " 10.1  18.25 13.93 25.83  8.6  13.24 17.09 23.84  8.45 19.6  19.5  20.3\n",
      " 16.05 11.2  27.03 18.78 12.35 14.59 17.32 14.95 13.22 23.03 46.82 15.6\n",
      " 19.12 10.98 46.96 16.46 18.4  11.1  13.01 18.8  16.52 18.44 19.49 23.5\n",
      " 23.8  12.65 20.65 21.72 12.19 26.1  18.33 12.81 17.06 17.67 19.34  8.3\n",
      " 16.96 11.79 20.86 16.98 11.68 15.74 15.7  18.49 10.9  19.59 11.4  13.06\n",
      " 21.   15.15 16.9  18.23 35.   17.16 17.43 19.08 18.56 11.9  34.44 21.79\n",
      " 12.95 25.6  18.83 26.21 13.58 16.25 10.4  17.44 26.88 22.71 17.54 30.94\n",
      " 15.87  9.5  11.56 14.39 19.09 17.85 44.51 18.18 21.19 21.8  15.42 14.47\n",
      " 19.69 12.83  8.   31.92 12.63 14.57 27.28 15.41 45.16 18.19 13.33 16.7\n",
      " 17.84 28.   23.19 11.49 18.51 13.44  8.7   8.77 17.97 23.57 12.37  9.1\n",
      " 12.51 19.44 21.38 16.51 24.8  14.42 26.8  24.04  9.8  19.68 29.96 21.2\n",
      " 19.72 14.2  12.98 23.01 16.12  9.3  15.85   nan 17.88 10.6  11.78  7.94\n",
      " 25.01  8.1  13.9  11.62 20.62 15.11 10.37 18.59  9.74 14.81  8.2  12.97\n",
      "  7.5  42.64  6.4  12.85 18.69 17.24]\n"
     ]
    }
   ],
   "source": [
    "\n",
    "df['Mileage'] = df['Mileage'].apply(lambda x: str(x).replace(' kmpl', ''))\n",
    "\n",
    "df['Mileage'] = df['Mileage'].replace('nan', np.nan)\n",
    "df['Mileage'] = df['Mileage'].replace('null', np.nan)\n",
    "df['Mileage'] = df['Mileage'].fillna('-1')\n",
    "\n",
    "df['Mileage'] = df['Mileage'].astype(float)\n",
    "\n",
    "df['Mileage'] = df['Mileage'].replace(-1, np.nan)\n",
    "print(df['Mileage'].dtype)\n",
    "print(df['Mileage'].unique())"
   ]
  },
  {
   "cell_type": "markdown",
   "metadata": {},
   "source": [
    "### Handle null values"
   ]
  },
  {
   "cell_type": "markdown",
   "metadata": {},
   "source": [
    "#### Why Handle Missing Values?\n",
    "\n",
    "Handling missing values is crucial in data analysis and machine learning because they can lead to inaccurate results and reduce the performance of predictive models. Missing values can arise from various sources, such as data entry errors or incomplete data collection. Properly addressing these gaps ensures the dataset's integrity, improving the accuracy and reliability of the analysis or model.\n",
    "\n",
    "#### How to Handle Missing Values\n",
    "\n",
    "There are several methods to handle missing values, depending on the dataset and the desired outcome:\n",
    "\n",
    "1. **Deletion**: <span style=\"color:red\">NOTE RECOMMENDED PLEASE DO NOT DO THIS</span>\n",
    "   - **Listwise Deletion**: Remove entire rows that contain any missing values. This method is straightforward but can lead to significant data loss if many entries are incomplete.\n",
    "   - **Pairwise Deletion**: Use available data without deleting entire rows. This method is useful for correlation or covariance calculations but can be complex to implement.\n",
    "\n",
    "2. **Imputation**:\n",
    "   - **Mean/Median/Mode Imputation**: Replace missing values with the mean, median, or mode of the column. This method is simple and preserves the data size, but it can introduce bias.\n",
    "   - **K-Nearest Neighbors (KNN) Imputation**: Use the mean or median of the nearest neighbors to fill in missing values. This method considers the similarity between instances but can be computationally expensive. (You will need to implement this once you feel confidence to do so)\n",
    "   - **Predictive Model Imputation**: Use machine learning algorithms to predict and fill in missing values based on other available features. This method can provide more accurate imputation but requires a more complex setup. (You will need to implement this once you feel confidence to do so) <span style=\"color:green\"> Best approach in our case </span>\n",
    "\n",
    "3. **Interpolation**:\n",
    "   - Use mathematical interpolation methods (linear, spline, etc.) to estimate and fill missing values. This method is effective for time-series data but may not be suitable for categorical data.\n",
    "\n",
    "4. **Using Algorithms that Support Missing Values**:\n",
    "   - Some machine learning algorithms, like decision trees, can handle missing values internally without needing explicit imputation.\n",
    "\n",
    "5. **Custom Imputation**:\n",
    "   - Develop domain-specific rules or logic to fill missing values based on expert knowledge or unique dataset characteristics.\n",
    "\n",
    "Choosing the appropriate method for handling missing values depends on the data context and the analysis or modeling goals. Each method has its advantages and limitations, so it's essential to consider the potential impact on the dataset and results.\n"
   ]
  },
  {
   "cell_type": "markdown",
   "metadata": {},
   "source": [
    "#### Lets check the columns with the null values again"
   ]
  },
  {
   "cell_type": "code",
<<<<<<< HEAD
   "execution_count": 20,
=======
   "execution_count": 43,
>>>>>>> 68ff2a08099986a13bf78c95853902c225b65205
   "metadata": {},
   "outputs": [
    {
     "data": {
      "text/plain": [
       "Name                    0\n",
       "Location                0\n",
       "Year                    0\n",
       "Kilometers_Driven       0\n",
       "Fuel_Type               0\n",
       "Transmission            0\n",
       "Owner_Type              0\n",
       "Mileage                 2\n",
       "Engine                 36\n",
<<<<<<< HEAD
       "Power                 143\n",
=======
       "Power                  36\n",
>>>>>>> 68ff2a08099986a13bf78c95853902c225b65205
       "Seats                  42\n",
       "New_Price            5195\n",
       "Price                   0\n",
       "dtype: int64"
      ]
     },
<<<<<<< HEAD
     "execution_count": 20,
=======
     "execution_count": 43,
>>>>>>> 68ff2a08099986a13bf78c95853902c225b65205
     "metadata": {},
     "output_type": "execute_result"
    }
   ],
   "source": [
    "df.isna().sum()"
   ]
  },
  {
   "cell_type": "code",
<<<<<<< HEAD
   "execution_count": 21,
=======
   "execution_count": 44,
>>>>>>> 68ff2a08099986a13bf78c95853902c225b65205
   "metadata": {},
   "outputs": [],
   "source": [
    "def fill_with_mode(series):\n",
    "    mode_value = series.mode()\n",
    "    if not mode_value.empty:\n",
    "        return series.fillna(mode_value[0])\n",
    "    return series"
   ]
  },
  {
   "cell_type": "code",
<<<<<<< HEAD
   "execution_count": 22,
=======
   "execution_count": 45,
>>>>>>> 68ff2a08099986a13bf78c95853902c225b65205
   "metadata": {},
   "outputs": [],
   "source": [
    "# Fill the 'Mileage' column with the mean of the same 'Name' and 'Year'\n",
    "df['Mileage'] = df.groupby(['Name', 'Year'])['Mileage'].transform(lambda x: x.fillna(x.mean()))\n",
    "# Fill the 'Mileage' column with the mean of the same 'Name'\n",
    "df['Mileage'] = df.groupby(['Name'])['Mileage'].transform(lambda x: x.fillna(x.mean()))\n",
    "# Fill the 'Mileage' column with the mean of the the whole column\n",
    "df['Mileage'] = df['Mileage'].transform(lambda x: x.fillna(x.mean()))"
   ]
  },
  {
   "cell_type": "code",
<<<<<<< HEAD
   "execution_count": 23,
=======
   "execution_count": 46,
>>>>>>> 68ff2a08099986a13bf78c95853902c225b65205
   "metadata": {},
   "outputs": [],
   "source": [
    "# Fill the 'Engine' column with the mode of the same 'Name' and 'Year'\n",
    "df['Engine'] = df.groupby(['Name', 'Year'])['Engine'].transform(fill_with_mode)\n",
    "# Fill the 'Engine' column with the mode of the same 'Name'\n",
    "df['Engine'] = df.groupby(['Name'])['Engine'].transform(fill_with_mode)\n",
    "# Fill the 'Engine' column with the mode of the the whole column\n",
    "df['Engine'] = df['Engine'].transform(fill_with_mode)"
   ]
  },
  {
   "cell_type": "code",
<<<<<<< HEAD
   "execution_count": 24,
=======
   "execution_count": 47,
>>>>>>> 68ff2a08099986a13bf78c95853902c225b65205
   "metadata": {},
   "outputs": [],
   "source": [
    "# Fill the 'Power' column with the mode of the same 'Name' and 'Year'\n",
    "df['Power'] = df.groupby(['Name', 'Year'])['Power'].transform(fill_with_mode)\n",
    "# Fill the 'Power' column with the mode of the same 'Name'\n",
    "df['Power'] = df.groupby(['Name'])['Power'].transform(fill_with_mode)\n",
    "# Fill the 'Power' column with the mode of the the whole column\n",
    "df['Power'] = df['Power'].transform(fill_with_mode)"
   ]
  },
  {
   "cell_type": "code",
<<<<<<< HEAD
   "execution_count": 25,
=======
   "execution_count": 48,
>>>>>>> 68ff2a08099986a13bf78c95853902c225b65205
   "metadata": {},
   "outputs": [],
   "source": [
    "# Fill the 'Seats' column with the mode of the same 'Name' and 'Year'\n",
    "df['Seats'] = df.groupby(['Name', 'Year'])['Seats'].transform(fill_with_mode)\n",
    "# Fill the 'Seats' column with the mode of the same 'Name'\n",
    "df['Seats'] = df.groupby(['Name'])['Seats'].transform(fill_with_mode)\n",
    "# Fill the 'Seats' column with the mode of the the whole column\n",
    "df['Seats'] = df['Seats'].transform(fill_with_mode)"
   ]
  },
  {
   "cell_type": "code",
<<<<<<< HEAD
   "execution_count": 26,
=======
   "execution_count": 49,
>>>>>>> 68ff2a08099986a13bf78c95853902c225b65205
   "metadata": {},
   "outputs": [],
   "source": [
    "# Fill the 'New_Price' column with the mean of the same 'Name' and 'Year'\n",
    "df['New_Price'] = df.groupby(['Name', 'Year'])['New_Price'].transform(lambda x: x.fillna(x.mean()))\n",
    "# Fill the 'New_Price' column with the mean of the same 'Name'\n",
    "df['New_Price'] = df.groupby(['Name'])['New_Price'].transform(lambda x: x.fillna(x.mean()))\n",
    "# Fill the 'New_Price' column with the mean of the the whole column\n",
    "df['New_Price'] = df['New_Price'].transform(lambda x: x.fillna(x.mean()))"
   ]
  },
  {
   "cell_type": "code",
<<<<<<< HEAD
   "execution_count": 27,
=======
   "execution_count": 50,
>>>>>>> 68ff2a08099986a13bf78c95853902c225b65205
   "metadata": {},
   "outputs": [
    {
     "data": {
      "text/plain": [
       "Name                 0\n",
       "Location             0\n",
       "Year                 0\n",
       "Kilometers_Driven    0\n",
       "Fuel_Type            0\n",
       "Transmission         0\n",
       "Owner_Type           0\n",
       "Mileage              0\n",
       "Engine               0\n",
       "Power                0\n",
       "Seats                0\n",
       "New_Price            0\n",
       "Price                0\n",
       "dtype: int64"
      ]
     },
<<<<<<< HEAD
     "execution_count": 27,
=======
     "execution_count": 50,
>>>>>>> 68ff2a08099986a13bf78c95853902c225b65205
     "metadata": {},
     "output_type": "execute_result"
    }
   ],
   "source": [
    "df.isna().sum()"
   ]
  },
  {
   "cell_type": "markdown",
   "metadata": {},
   "source": [
    "<span style=\"color: red\" >Keep in mind that these are not the best ways to fill in the missing values; this is just a tutorial on several methods. We encourage you to search for and improve upon these techniques. Please try to come up with a better approach and share it with your instructor.</span>"
   ]
  },
  {
   "cell_type": "markdown",
   "metadata": {},
   "source": [
    "<h1 style=\"color: cyan;\"> Please try to get better aproaches to deal with missing value for each column and share it in discrod!</h1>"
   ]
  },
  {
   "cell_type": "code",
<<<<<<< HEAD
   "execution_count": 33,
=======
   "execution_count": 59,
>>>>>>> 68ff2a08099986a13bf78c95853902c225b65205
   "metadata": {},
   "outputs": [
    {
     "data": {
      "text/plain": [
<<<<<<< HEAD
       "Unnamed: 0              0\n",
       "Name                    0\n",
       "Location                0\n",
       "Year                    0\n",
       "Kilometers_Driven       0\n",
       "Fuel_Type               0\n",
       "Transmission            0\n",
       "Owner_Type              0\n",
       "Mileage                 2\n",
       "Engine                 36\n",
       "Power                  36\n",
       "Seats                  42\n",
       "New_Price            5195\n",
       "Price                   0\n",
       "dtype: int64"
      ]
     },
     "execution_count": 33,
=======
       "Year                 0\n",
       "Kilometers_Driven    0\n",
       "Fuel_Type            0\n",
       "Transmission         0\n",
       "Owner_Type           0\n",
       "                    ..\n",
       "Location_Jaipur      0\n",
       "Location_Kochi       0\n",
       "Location_Kolkata     0\n",
       "Location_Mumbai      0\n",
       "Location_Pune        0\n",
       "Length: 1898, dtype: int64"
      ]
     },
     "execution_count": 59,
>>>>>>> 68ff2a08099986a13bf78c95853902c225b65205
     "metadata": {},
     "output_type": "execute_result"
    }
   ],
   "source": [
<<<<<<< HEAD
    "df = pd.read_csv('Dataset/Used_Cars.csv')\n",
=======
>>>>>>> 68ff2a08099986a13bf78c95853902c225b65205
    "df.isnull().sum()"
   ]
  },
  {
<<<<<<< HEAD
   "cell_type": "code",
   "execution_count": 53,
   "metadata": {},
   "outputs": [
    {
     "data": {
      "text/plain": [
       "ID                      0\n",
       "Name                    0\n",
       "Location                0\n",
       "Year                    0\n",
       "Kilometers_Driven       0\n",
       "Fuel_Type               0\n",
       "Transmission            0\n",
       "Owner_Type              0\n",
       "Mileage                 2\n",
       "Engine                 36\n",
       "Power                  36\n",
       "Seats                  42\n",
       "New_Price            5195\n",
       "Price                   0\n",
       "dtype: int64"
      ]
     },
     "execution_count": 53,
     "metadata": {},
     "output_type": "execute_result"
    }
   ],
   "source": [
    "df.rename(columns={'Unnamed: 0':'ID'},inplace=True)\n",
    "df.isnull().sum()\n"
   ]
  },
  {
   "cell_type": "code",
   "execution_count": 136,
   "metadata": {},
   "outputs": [
    {
     "name": "stderr",
     "output_type": "stream",
     "text": [
      "C:\\Users\\anees\\AppData\\Local\\Temp\\ipykernel_13972\\4207515253.py:4: FutureWarning: A value is trying to be set on a copy of a DataFrame or Series through chained assignment using an inplace method.\n",
      "The behavior will change in pandas 3.0. This inplace method will never work because the intermediate object on which we are setting values always behaves as a copy.\n",
      "\n",
      "For example, when doing 'df[col].method(value, inplace=True)', try using 'df.method({col: value}, inplace=True)' or df[col] = df[col].method(value) instead, to perform the operation inplace on the original object.\n",
      "\n",
      "\n",
      "  df['Mileage'].fillna(df['Mileage'].mean(),inplace=True)\n"
     ]
    }
   ],
   "source": [
    "df['Mileage'] = df['Mileage'].apply(lambda x: str(x).replace(' kmpl',''))\n",
    "df['Mileage'] = df['Mileage'].apply(lambda x: str(x).replace(' km/kg',''))\n",
    "df['Mileage'] = df['Mileage'].astype(float)\n",
    "df['Mileage'].fillna(df['Mileage'].mean(),inplace=True)"
   ]
  },
  {
   "cell_type": "code",
   "execution_count": 137,
   "metadata": {},
   "outputs": [],
   "source": [
    "\n",
    "df['Engine'] = df['Engine'].apply(lambda x: str(x).replace(' CC',''))\n",
    "df['Engine'] = df['Engine'].astype(float)\n",
    "df['Engine'] = df['Engine'].fillna(df['Engine'].mean())"
   ]
  },
  {
   "cell_type": "code",
   "execution_count": 138,
   "metadata": {},
   "outputs": [
    {
     "name": "stderr",
     "output_type": "stream",
     "text": [
      "C:\\Users\\anees\\AppData\\Local\\Temp\\ipykernel_13972\\4241378840.py:6: FutureWarning: A value is trying to be set on a copy of a DataFrame or Series through chained assignment using an inplace method.\n",
      "The behavior will change in pandas 3.0. This inplace method will never work because the intermediate object on which we are setting values always behaves as a copy.\n",
      "\n",
      "For example, when doing 'df[col].method(value, inplace=True)', try using 'df.method({col: value}, inplace=True)' or df[col] = df[col].method(value) instead, to perform the operation inplace on the original object.\n",
      "\n",
      "\n",
      "  df['Power'].fillna(df['Power'].mean(),inplace=True)\n"
     ]
    }
   ],
   "source": [
    "\n",
    "df['Power'] = df['Power'].apply(lambda x: str(x).replace(' bhp',''))\n",
    "df['Power'] = df['Power'].replace('nan', np.nan)\n",
    "df['Power'] = df['Power'].replace('null ', np.nan)\n",
    "df['Power'] = df['Power'].replace('', np.nan)\n",
    "df['Power'] = df['Power'].astype(float)\n",
    "df['Power'].fillna(df['Power'].mean(),inplace=True)"
   ]
  },
  {
   "cell_type": "code",
   "execution_count": 140,
   "metadata": {},
   "outputs": [],
   "source": [
    "df = df.drop(columns={'New_Price'})"
   ]
  },
  {
   "cell_type": "code",
   "execution_count": 141,
   "metadata": {},
   "outputs": [
    {
     "name": "stdout",
     "output_type": "stream",
     "text": [
      "<class 'pandas.core.frame.DataFrame'>\n",
      "RangeIndex: 6019 entries, 0 to 6018\n",
      "Data columns (total 13 columns):\n",
      " #   Column             Non-Null Count  Dtype  \n",
      "---  ------             --------------  -----  \n",
      " 0   ID                 6019 non-null   int64  \n",
      " 1   Name               6019 non-null   object \n",
      " 2   Location           6019 non-null   object \n",
      " 3   Year               6019 non-null   int64  \n",
      " 4   Kilometers_Driven  6019 non-null   int64  \n",
      " 5   Fuel_Type          6019 non-null   object \n",
      " 6   Transmission       6019 non-null   object \n",
      " 7   Owner_Type         6019 non-null   object \n",
      " 8   Mileage            6019 non-null   float64\n",
      " 9   Engine             6019 non-null   float64\n",
      " 10  Power              6019 non-null   float64\n",
      " 11  Seats              6019 non-null   float64\n",
      " 12  Price              6019 non-null   float64\n",
      "dtypes: float64(5), int64(3), object(5)\n",
      "memory usage: 611.4+ KB\n"
     ]
    },
    {
     "name": "stderr",
     "output_type": "stream",
     "text": [
      "C:\\Users\\anees\\AppData\\Local\\Temp\\ipykernel_13972\\919432404.py:1: FutureWarning: A value is trying to be set on a copy of a DataFrame or Series through chained assignment using an inplace method.\n",
      "The behavior will change in pandas 3.0. This inplace method will never work because the intermediate object on which we are setting values always behaves as a copy.\n",
      "\n",
      "For example, when doing 'df[col].method(value, inplace=True)', try using 'df.method({col: value}, inplace=True)' or df[col] = df[col].method(value) instead, to perform the operation inplace on the original object.\n",
      "\n",
      "\n",
      "  df['Seats'].fillna(df['Seats'].mode()[0],inplace=True)\n"
     ]
    }
   ],
   "source": [
    "\n",
    "df['Seats'].fillna(df['Seats'].mode()[0],inplace=True)\n",
    "df.info()"
   ]
  },
  {
=======
>>>>>>> 68ff2a08099986a13bf78c95853902c225b65205
   "cell_type": "markdown",
   "metadata": {},
   "source": [
    "### Convert Non-Numeric Columns"
   ]
  },
  {
   "cell_type": "markdown",
   "metadata": {},
   "source": [
    "#### Why Convert Non-Numeric Columns?\n",
    "\n",
    "In data analysis and machine learning, numerical data is often easier to work with compared to categorical or non-numeric data. Many algorithms require numerical input, so converting non-numeric columns into a numerical format is crucial for performing statistical analysis, creating visualizations, or building predictive models. This conversion process can include encoding categorical data, handling missing values, and ensuring consistency in the dataset.\n",
    "\n",
    "#### How to Convert Non-Numeric Columns\n",
    "\n",
    "You can use several techniques to convert non-numeric columns in a DataFrame, such as:\n",
    "\n",
    "- **Label Encoding**: Assigns a unique integer to each category in a categorical column.\n",
    "- **One-Hot Encoding**: Creates binary columns for each category, allowing the algorithm to treat them independently.\n",
    "- **Handling Missing Values**: Replaces missing values with a placeholder or a calculated value, ensuring no information is lost."
   ]
  },
  {
   "cell_type": "code",
<<<<<<< HEAD
   "execution_count": 29,
=======
   "execution_count": 51,
>>>>>>> 68ff2a08099986a13bf78c95853902c225b65205
   "metadata": {},
   "outputs": [
    {
     "data": {
      "text/html": [
       "<div>\n",
       "<style scoped>\n",
       "    .dataframe tbody tr th:only-of-type {\n",
       "        vertical-align: middle;\n",
       "    }\n",
       "\n",
       "    .dataframe tbody tr th {\n",
       "        vertical-align: top;\n",
       "    }\n",
       "\n",
       "    .dataframe thead th {\n",
       "        text-align: right;\n",
       "    }\n",
       "</style>\n",
       "<table border=\"1\" class=\"dataframe\">\n",
       "  <thead>\n",
       "    <tr style=\"text-align: right;\">\n",
       "      <th></th>\n",
       "      <th>Name</th>\n",
       "      <th>Location</th>\n",
       "      <th>Fuel_Type</th>\n",
       "      <th>Transmission</th>\n",
       "      <th>Owner_Type</th>\n",
<<<<<<< HEAD
=======
       "      <th>Power</th>\n",
>>>>>>> 68ff2a08099986a13bf78c95853902c225b65205
       "    </tr>\n",
       "    <tr>\n",
       "      <th>ID</th>\n",
       "      <th></th>\n",
       "      <th></th>\n",
       "      <th></th>\n",
       "      <th></th>\n",
       "      <th></th>\n",
<<<<<<< HEAD
=======
       "      <th></th>\n",
>>>>>>> 68ff2a08099986a13bf78c95853902c225b65205
       "    </tr>\n",
       "  </thead>\n",
       "  <tbody>\n",
       "    <tr>\n",
       "      <th>0</th>\n",
       "      <td>Maruti Wagon R LXI CNG</td>\n",
       "      <td>Mumbai</td>\n",
       "      <td>CNG</td>\n",
       "      <td>Manual</td>\n",
       "      <td>First</td>\n",
<<<<<<< HEAD
=======
       "      <td>58.16 bhp</td>\n",
>>>>>>> 68ff2a08099986a13bf78c95853902c225b65205
       "    </tr>\n",
       "    <tr>\n",
       "      <th>1</th>\n",
       "      <td>Hyundai Creta 1.6 CRDi SX Option</td>\n",
       "      <td>Pune</td>\n",
       "      <td>Diesel</td>\n",
       "      <td>Manual</td>\n",
       "      <td>First</td>\n",
<<<<<<< HEAD
=======
       "      <td>126.2 bhp</td>\n",
>>>>>>> 68ff2a08099986a13bf78c95853902c225b65205
       "    </tr>\n",
       "    <tr>\n",
       "      <th>2</th>\n",
       "      <td>Honda Jazz V</td>\n",
       "      <td>Chennai</td>\n",
       "      <td>Petrol</td>\n",
       "      <td>Manual</td>\n",
       "      <td>First</td>\n",
<<<<<<< HEAD
=======
       "      <td>88.7 bhp</td>\n",
>>>>>>> 68ff2a08099986a13bf78c95853902c225b65205
       "    </tr>\n",
       "    <tr>\n",
       "      <th>3</th>\n",
       "      <td>Maruti Ertiga VDI</td>\n",
       "      <td>Chennai</td>\n",
       "      <td>Diesel</td>\n",
       "      <td>Manual</td>\n",
       "      <td>First</td>\n",
<<<<<<< HEAD
=======
       "      <td>88.76 bhp</td>\n",
>>>>>>> 68ff2a08099986a13bf78c95853902c225b65205
       "    </tr>\n",
       "    <tr>\n",
       "      <th>4</th>\n",
       "      <td>Audi A4 New 2.0 TDI Multitronic</td>\n",
       "      <td>Coimbatore</td>\n",
       "      <td>Diesel</td>\n",
       "      <td>Automatic</td>\n",
       "      <td>Second</td>\n",
<<<<<<< HEAD
=======
       "      <td>140.8 bhp</td>\n",
>>>>>>> 68ff2a08099986a13bf78c95853902c225b65205
       "    </tr>\n",
       "    <tr>\n",
       "      <th>...</th>\n",
       "      <td>...</td>\n",
       "      <td>...</td>\n",
       "      <td>...</td>\n",
       "      <td>...</td>\n",
       "      <td>...</td>\n",
<<<<<<< HEAD
=======
       "      <td>...</td>\n",
>>>>>>> 68ff2a08099986a13bf78c95853902c225b65205
       "    </tr>\n",
       "    <tr>\n",
       "      <th>6014</th>\n",
       "      <td>Maruti Swift VDI</td>\n",
       "      <td>Delhi</td>\n",
       "      <td>Diesel</td>\n",
       "      <td>Manual</td>\n",
       "      <td>First</td>\n",
<<<<<<< HEAD
=======
       "      <td>74 bhp</td>\n",
>>>>>>> 68ff2a08099986a13bf78c95853902c225b65205
       "    </tr>\n",
       "    <tr>\n",
       "      <th>6015</th>\n",
       "      <td>Hyundai Xcent 1.1 CRDi S</td>\n",
       "      <td>Jaipur</td>\n",
       "      <td>Diesel</td>\n",
       "      <td>Manual</td>\n",
       "      <td>First</td>\n",
<<<<<<< HEAD
=======
       "      <td>71 bhp</td>\n",
>>>>>>> 68ff2a08099986a13bf78c95853902c225b65205
       "    </tr>\n",
       "    <tr>\n",
       "      <th>6016</th>\n",
       "      <td>Mahindra Xylo D4 BSIV</td>\n",
       "      <td>Jaipur</td>\n",
       "      <td>Diesel</td>\n",
       "      <td>Manual</td>\n",
       "      <td>Second</td>\n",
<<<<<<< HEAD
=======
       "      <td>112 bhp</td>\n",
>>>>>>> 68ff2a08099986a13bf78c95853902c225b65205
       "    </tr>\n",
       "    <tr>\n",
       "      <th>6017</th>\n",
       "      <td>Maruti Wagon R VXI</td>\n",
       "      <td>Kolkata</td>\n",
       "      <td>Petrol</td>\n",
       "      <td>Manual</td>\n",
       "      <td>First</td>\n",
<<<<<<< HEAD
=======
       "      <td>67.1 bhp</td>\n",
>>>>>>> 68ff2a08099986a13bf78c95853902c225b65205
       "    </tr>\n",
       "    <tr>\n",
       "      <th>6018</th>\n",
       "      <td>Chevrolet Beat Diesel</td>\n",
       "      <td>Hyderabad</td>\n",
       "      <td>Diesel</td>\n",
       "      <td>Manual</td>\n",
       "      <td>First</td>\n",
<<<<<<< HEAD
       "    </tr>\n",
       "  </tbody>\n",
       "</table>\n",
       "<p>6019 rows × 5 columns</p>\n",
=======
       "      <td>57.6 bhp</td>\n",
       "    </tr>\n",
       "  </tbody>\n",
       "</table>\n",
       "<p>6019 rows × 6 columns</p>\n",
>>>>>>> 68ff2a08099986a13bf78c95853902c225b65205
       "</div>"
      ],
      "text/plain": [
       "                                  Name    Location Fuel_Type Transmission  \\\n",
       "ID                                                                          \n",
       "0               Maruti Wagon R LXI CNG      Mumbai       CNG       Manual   \n",
       "1     Hyundai Creta 1.6 CRDi SX Option        Pune    Diesel       Manual   \n",
       "2                         Honda Jazz V     Chennai    Petrol       Manual   \n",
       "3                    Maruti Ertiga VDI     Chennai    Diesel       Manual   \n",
       "4      Audi A4 New 2.0 TDI Multitronic  Coimbatore    Diesel    Automatic   \n",
       "...                                ...         ...       ...          ...   \n",
       "6014                  Maruti Swift VDI       Delhi    Diesel       Manual   \n",
       "6015          Hyundai Xcent 1.1 CRDi S      Jaipur    Diesel       Manual   \n",
       "6016             Mahindra Xylo D4 BSIV      Jaipur    Diesel       Manual   \n",
       "6017                Maruti Wagon R VXI     Kolkata    Petrol       Manual   \n",
       "6018             Chevrolet Beat Diesel   Hyderabad    Diesel       Manual   \n",
       "\n",
<<<<<<< HEAD
       "     Owner_Type  \n",
       "ID               \n",
       "0         First  \n",
       "1         First  \n",
       "2         First  \n",
       "3         First  \n",
       "4        Second  \n",
       "...         ...  \n",
       "6014      First  \n",
       "6015      First  \n",
       "6016     Second  \n",
       "6017      First  \n",
       "6018      First  \n",
       "\n",
       "[6019 rows x 5 columns]"
      ]
     },
     "execution_count": 29,
=======
       "     Owner_Type      Power  \n",
       "ID                          \n",
       "0         First  58.16 bhp  \n",
       "1         First  126.2 bhp  \n",
       "2         First   88.7 bhp  \n",
       "3         First  88.76 bhp  \n",
       "4        Second  140.8 bhp  \n",
       "...         ...        ...  \n",
       "6014      First     74 bhp  \n",
       "6015      First     71 bhp  \n",
       "6016     Second    112 bhp  \n",
       "6017      First   67.1 bhp  \n",
       "6018      First   57.6 bhp  \n",
       "\n",
       "[6019 rows x 6 columns]"
      ]
     },
     "execution_count": 51,
>>>>>>> 68ff2a08099986a13bf78c95853902c225b65205
     "metadata": {},
     "output_type": "execute_result"
    }
   ],
   "source": [
    "df.select_dtypes(exclude=['number'])"
   ]
  },
  {
   "cell_type": "markdown",
   "metadata": {},
   "source": [
    "#### Using OneHotEncoder"
   ]
  },
  {
   "cell_type": "code",
<<<<<<< HEAD
   "execution_count": 30,
=======
   "execution_count": 52,
>>>>>>> 68ff2a08099986a13bf78c95853902c225b65205
   "metadata": {},
   "outputs": [],
   "source": [
    "# Initialize OneHotEncoder\n",
    "ohe = OneHotEncoder(sparse_output=False)\n",
    "\n",
    "# One-hot encode 'Name' column\n",
    "name_encoded = ohe.fit_transform(df[['Name']])\n",
    "name_encoded_df = pd.DataFrame(name_encoded, columns=ohe.get_feature_names_out(['Name']))\n",
    "\n",
    "# One-hot encode 'Location' column\n",
    "location_encoded = ohe.fit_transform(df[['Location']])\n",
    "location_encoded_df = pd.DataFrame(location_encoded, columns=ohe.get_feature_names_out(['Location']))\n",
    "\n",
    "# Concatenate the original dataframe with the new one-hot encoded dataframes\n",
    "df_one_hot = pd.concat([df, name_encoded_df, location_encoded_df], axis=1)\n",
    "\n",
    "# Drop original columns if not needed\n",
    "df_one_hot.drop(['Name', 'Location'], axis=1, inplace=True)\n",
    "\n",
    "df = df_one_hot"
   ]
  },
  {
   "cell_type": "markdown",
   "metadata": {},
   "source": [
    "#### Using LabelEncoder"
   ]
  },
  {
   "cell_type": "code",
<<<<<<< HEAD
   "execution_count": 31,
=======
   "execution_count": 53,
>>>>>>> 68ff2a08099986a13bf78c95853902c225b65205
   "metadata": {},
   "outputs": [],
   "source": [
    "# Initialize LabelEncoder\n",
    "le = LabelEncoder()\n",
    "\n",
    "# Label encode 'Fuel_Type' column\n",
    "df['Fuel_Type'] = le.fit_transform(df['Fuel_Type'])\n",
    "\n",
    "# Label encode 'Transmission' column\n",
    "df['Transmission'] = le.fit_transform(df['Transmission'])\n",
    "\n",
    "# Label encode 'Owner_Type' column\n",
    "df['Owner_Type'] = le.fit_transform(df['Owner_Type'])"
   ]
  },
  {
   "cell_type": "markdown",
   "metadata": {},
   "source": [
    "#### Justification for Encoding Methods\n",
    "\n",
    "1. **One-Hot Encoding:**\n",
    "   - **Applied to `Name` and `Location`:**\n",
    "     - **Reason:** \n",
    "       - These columns contain categorical data without any intrinsic order or ranking between the categories.\n",
    "       - One-hot encoding is ideal for converting these categorical variables into a numerical format, creating binary vectors for each category.\n",
    "       - This method is particularly useful when dealing with nominal data, as it prevents the algorithm from assuming any ordinal relationship.\n",
    "\n",
    "2. **Label Encoding:**\n",
    "   - **Applied to `Fuel_Type`, `Transmission`, and `Owner_Type`:**\n",
    "     - **Reason:**\n",
    "       - These columns have a limited number of unique categories, making them suitable for label encoding.\n",
    "       - Although they do not necessarily have a natural order, label encoding efficiently converts them into numerical values, reducing dimensionality.\n",
    "       - This approach is chosen over one-hot encoding to keep the feature space manageable, especially when the categories are few and do not imply an ordinal relationship.\n"
   ]
  },
  {
   "cell_type": "markdown",
   "metadata": {},
   "source": [
    "# 3- Visualization"
   ]
  },
  {
   "cell_type": "markdown",
   "metadata": {},
   "source": [
    "### 1. Correlation Matrix"
   ]
  },
  {
   "cell_type": "code",
<<<<<<< HEAD
   "execution_count": 32,
   "metadata": {},
   "outputs": [
    {
     "data": {
      "image/png": "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",
      "text/plain": [
       "<Figure size 720x576 with 2 Axes>"
      ]
     },
     "metadata": {
      "needs_background": "light"
     },
     "output_type": "display_data"
=======
   "execution_count": 55,
   "metadata": {},
   "outputs": [
    {
     "ename": "ValueError",
     "evalue": "could not convert string to float: '58.16 bhp'",
     "output_type": "error",
     "traceback": [
      "\u001b[1;31m---------------------------------------------------------------------------\u001b[0m",
      "\u001b[1;31mValueError\u001b[0m                                Traceback (most recent call last)",
      "Input \u001b[1;32mIn [55]\u001b[0m, in \u001b[0;36m<cell line: 1>\u001b[1;34m()\u001b[0m\n\u001b[1;32m----> 1\u001b[0m corr_matrix \u001b[38;5;241m=\u001b[39m \u001b[43mdf\u001b[49m\u001b[38;5;241;43m.\u001b[39;49m\u001b[43mcorr\u001b[49m\u001b[43m(\u001b[49m\u001b[43m)\u001b[49m\n\u001b[0;32m      3\u001b[0m selected_columns \u001b[38;5;241m=\u001b[39m [\u001b[38;5;124m'\u001b[39m\u001b[38;5;124mNew_Price\u001b[39m\u001b[38;5;124m'\u001b[39m, \u001b[38;5;124m'\u001b[39m\u001b[38;5;124mMileage\u001b[39m\u001b[38;5;124m'\u001b[39m, \u001b[38;5;124m'\u001b[39m\u001b[38;5;124mEngine\u001b[39m\u001b[38;5;124m'\u001b[39m, \u001b[38;5;124m'\u001b[39m\u001b[38;5;124mPower\u001b[39m\u001b[38;5;124m'\u001b[39m, \u001b[38;5;124m'\u001b[39m\u001b[38;5;124mYear\u001b[39m\u001b[38;5;124m'\u001b[39m, \u001b[38;5;124m'\u001b[39m\u001b[38;5;124mKilometers_Driven\u001b[39m\u001b[38;5;124m'\u001b[39m]\n\u001b[0;32m      4\u001b[0m selected_corr_matrix \u001b[38;5;241m=\u001b[39m corr_matrix\u001b[38;5;241m.\u001b[39mloc[selected_columns, selected_columns]\n",
      "File \u001b[1;32m~\\AppData\\Roaming\\Python\\Python39\\site-packages\\pandas\\core\\frame.py:11049\u001b[0m, in \u001b[0;36mDataFrame.corr\u001b[1;34m(self, method, min_periods, numeric_only)\u001b[0m\n\u001b[0;32m  11047\u001b[0m cols \u001b[38;5;241m=\u001b[39m data\u001b[38;5;241m.\u001b[39mcolumns\n\u001b[0;32m  11048\u001b[0m idx \u001b[38;5;241m=\u001b[39m cols\u001b[38;5;241m.\u001b[39mcopy()\n\u001b[1;32m> 11049\u001b[0m mat \u001b[38;5;241m=\u001b[39m \u001b[43mdata\u001b[49m\u001b[38;5;241;43m.\u001b[39;49m\u001b[43mto_numpy\u001b[49m\u001b[43m(\u001b[49m\u001b[43mdtype\u001b[49m\u001b[38;5;241;43m=\u001b[39;49m\u001b[38;5;28;43mfloat\u001b[39;49m\u001b[43m,\u001b[49m\u001b[43m \u001b[49m\u001b[43mna_value\u001b[49m\u001b[38;5;241;43m=\u001b[39;49m\u001b[43mnp\u001b[49m\u001b[38;5;241;43m.\u001b[39;49m\u001b[43mnan\u001b[49m\u001b[43m,\u001b[49m\u001b[43m \u001b[49m\u001b[43mcopy\u001b[49m\u001b[38;5;241;43m=\u001b[39;49m\u001b[38;5;28;43;01mFalse\u001b[39;49;00m\u001b[43m)\u001b[49m\n\u001b[0;32m  11051\u001b[0m \u001b[38;5;28;01mif\u001b[39;00m method \u001b[38;5;241m==\u001b[39m \u001b[38;5;124m\"\u001b[39m\u001b[38;5;124mpearson\u001b[39m\u001b[38;5;124m\"\u001b[39m:\n\u001b[0;32m  11052\u001b[0m     correl \u001b[38;5;241m=\u001b[39m libalgos\u001b[38;5;241m.\u001b[39mnancorr(mat, minp\u001b[38;5;241m=\u001b[39mmin_periods)\n",
      "File \u001b[1;32m~\\AppData\\Roaming\\Python\\Python39\\site-packages\\pandas\\core\\frame.py:1993\u001b[0m, in \u001b[0;36mDataFrame.to_numpy\u001b[1;34m(self, dtype, copy, na_value)\u001b[0m\n\u001b[0;32m   1991\u001b[0m \u001b[38;5;28;01mif\u001b[39;00m dtype \u001b[38;5;129;01mis\u001b[39;00m \u001b[38;5;129;01mnot\u001b[39;00m \u001b[38;5;28;01mNone\u001b[39;00m:\n\u001b[0;32m   1992\u001b[0m     dtype \u001b[38;5;241m=\u001b[39m np\u001b[38;5;241m.\u001b[39mdtype(dtype)\n\u001b[1;32m-> 1993\u001b[0m result \u001b[38;5;241m=\u001b[39m \u001b[38;5;28;43mself\u001b[39;49m\u001b[38;5;241;43m.\u001b[39;49m\u001b[43m_mgr\u001b[49m\u001b[38;5;241;43m.\u001b[39;49m\u001b[43mas_array\u001b[49m\u001b[43m(\u001b[49m\u001b[43mdtype\u001b[49m\u001b[38;5;241;43m=\u001b[39;49m\u001b[43mdtype\u001b[49m\u001b[43m,\u001b[49m\u001b[43m \u001b[49m\u001b[43mcopy\u001b[49m\u001b[38;5;241;43m=\u001b[39;49m\u001b[43mcopy\u001b[49m\u001b[43m,\u001b[49m\u001b[43m \u001b[49m\u001b[43mna_value\u001b[49m\u001b[38;5;241;43m=\u001b[39;49m\u001b[43mna_value\u001b[49m\u001b[43m)\u001b[49m\n\u001b[0;32m   1994\u001b[0m \u001b[38;5;28;01mif\u001b[39;00m result\u001b[38;5;241m.\u001b[39mdtype \u001b[38;5;129;01mis\u001b[39;00m \u001b[38;5;129;01mnot\u001b[39;00m dtype:\n\u001b[0;32m   1995\u001b[0m     result \u001b[38;5;241m=\u001b[39m np\u001b[38;5;241m.\u001b[39masarray(result, dtype\u001b[38;5;241m=\u001b[39mdtype)\n",
      "File \u001b[1;32m~\\AppData\\Roaming\\Python\\Python39\\site-packages\\pandas\\core\\internals\\managers.py:1694\u001b[0m, in \u001b[0;36mBlockManager.as_array\u001b[1;34m(self, dtype, copy, na_value)\u001b[0m\n\u001b[0;32m   1692\u001b[0m         arr\u001b[38;5;241m.\u001b[39mflags\u001b[38;5;241m.\u001b[39mwriteable \u001b[38;5;241m=\u001b[39m \u001b[38;5;28;01mFalse\u001b[39;00m\n\u001b[0;32m   1693\u001b[0m \u001b[38;5;28;01melse\u001b[39;00m:\n\u001b[1;32m-> 1694\u001b[0m     arr \u001b[38;5;241m=\u001b[39m \u001b[38;5;28;43mself\u001b[39;49m\u001b[38;5;241;43m.\u001b[39;49m\u001b[43m_interleave\u001b[49m\u001b[43m(\u001b[49m\u001b[43mdtype\u001b[49m\u001b[38;5;241;43m=\u001b[39;49m\u001b[43mdtype\u001b[49m\u001b[43m,\u001b[49m\u001b[43m \u001b[49m\u001b[43mna_value\u001b[49m\u001b[38;5;241;43m=\u001b[39;49m\u001b[43mna_value\u001b[49m\u001b[43m)\u001b[49m\n\u001b[0;32m   1695\u001b[0m     \u001b[38;5;66;03m# The underlying data was copied within _interleave, so no need\u001b[39;00m\n\u001b[0;32m   1696\u001b[0m     \u001b[38;5;66;03m# to further copy if copy=True or setting na_value\u001b[39;00m\n\u001b[0;32m   1698\u001b[0m \u001b[38;5;28;01mif\u001b[39;00m na_value \u001b[38;5;129;01mis\u001b[39;00m lib\u001b[38;5;241m.\u001b[39mno_default:\n",
      "File \u001b[1;32m~\\AppData\\Roaming\\Python\\Python39\\site-packages\\pandas\\core\\internals\\managers.py:1753\u001b[0m, in \u001b[0;36mBlockManager._interleave\u001b[1;34m(self, dtype, na_value)\u001b[0m\n\u001b[0;32m   1751\u001b[0m     \u001b[38;5;28;01melse\u001b[39;00m:\n\u001b[0;32m   1752\u001b[0m         arr \u001b[38;5;241m=\u001b[39m blk\u001b[38;5;241m.\u001b[39mget_values(dtype)\n\u001b[1;32m-> 1753\u001b[0m     result[rl\u001b[38;5;241m.\u001b[39mindexer] \u001b[38;5;241m=\u001b[39m arr\n\u001b[0;32m   1754\u001b[0m     itemmask[rl\u001b[38;5;241m.\u001b[39mindexer] \u001b[38;5;241m=\u001b[39m \u001b[38;5;241m1\u001b[39m\n\u001b[0;32m   1756\u001b[0m \u001b[38;5;28;01mif\u001b[39;00m \u001b[38;5;129;01mnot\u001b[39;00m itemmask\u001b[38;5;241m.\u001b[39mall():\n",
      "\u001b[1;31mValueError\u001b[0m: could not convert string to float: '58.16 bhp'"
     ]
>>>>>>> 68ff2a08099986a13bf78c95853902c225b65205
    }
   ],
   "source": [
    "corr_matrix = df.corr()\n",
    "\n",
    "selected_columns = ['New_Price', 'Mileage', 'Engine', 'Power', 'Year', 'Kilometers_Driven']\n",
    "selected_corr_matrix = corr_matrix.loc[selected_columns, selected_columns]\n",
    "\n",
    "plt.figure(figsize=(10, 8))\n",
    "sns.heatmap(selected_corr_matrix, annot=True, cmap='coolwarm', center=0)\n",
    "plt.title('Correlation Matrix of Selected Features')\n",
    "plt.show()"
   ]
  },
  {
   "cell_type": "markdown",
   "metadata": {},
   "source": [
    "### 2. Triangle Correlation Heatmap"
   ]
  },
  {
   "cell_type": "code",
<<<<<<< HEAD
   "execution_count": 33,
   "metadata": {},
   "outputs": [
    {
     "data": {
      "image/png": "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",
      "text/plain": [
       "<Figure size 720x576 with 2 Axes>"
      ]
     },
     "metadata": {
      "needs_background": "light"
     },
     "output_type": "display_data"
=======
   "execution_count": 56,
   "metadata": {},
   "outputs": [
    {
     "ename": "ValueError",
     "evalue": "could not convert string to float: '58.16 bhp'",
     "output_type": "error",
     "traceback": [
      "\u001b[1;31m---------------------------------------------------------------------------\u001b[0m",
      "\u001b[1;31mValueError\u001b[0m                                Traceback (most recent call last)",
      "Input \u001b[1;32mIn [56]\u001b[0m, in \u001b[0;36m<cell line: 1>\u001b[1;34m()\u001b[0m\n\u001b[1;32m----> 1\u001b[0m corr_matrix \u001b[38;5;241m=\u001b[39m \u001b[43mdf\u001b[49m\u001b[38;5;241;43m.\u001b[39;49m\u001b[43mcorr\u001b[49m\u001b[43m(\u001b[49m\u001b[43m)\u001b[49m\n\u001b[0;32m      3\u001b[0m selected_columns \u001b[38;5;241m=\u001b[39m [\u001b[38;5;124m'\u001b[39m\u001b[38;5;124mNew_Price\u001b[39m\u001b[38;5;124m'\u001b[39m, \u001b[38;5;124m'\u001b[39m\u001b[38;5;124mMileage\u001b[39m\u001b[38;5;124m'\u001b[39m, \u001b[38;5;124m'\u001b[39m\u001b[38;5;124mEngine\u001b[39m\u001b[38;5;124m'\u001b[39m, \u001b[38;5;124m'\u001b[39m\u001b[38;5;124mPower\u001b[39m\u001b[38;5;124m'\u001b[39m, \u001b[38;5;124m'\u001b[39m\u001b[38;5;124mYear\u001b[39m\u001b[38;5;124m'\u001b[39m, \u001b[38;5;124m'\u001b[39m\u001b[38;5;124mKilometers_Driven\u001b[39m\u001b[38;5;124m'\u001b[39m]\n\u001b[0;32m      4\u001b[0m selected_corr_matrix \u001b[38;5;241m=\u001b[39m corr_matrix\u001b[38;5;241m.\u001b[39mloc[selected_columns, selected_columns]\n",
      "File \u001b[1;32m~\\AppData\\Roaming\\Python\\Python39\\site-packages\\pandas\\core\\frame.py:11049\u001b[0m, in \u001b[0;36mDataFrame.corr\u001b[1;34m(self, method, min_periods, numeric_only)\u001b[0m\n\u001b[0;32m  11047\u001b[0m cols \u001b[38;5;241m=\u001b[39m data\u001b[38;5;241m.\u001b[39mcolumns\n\u001b[0;32m  11048\u001b[0m idx \u001b[38;5;241m=\u001b[39m cols\u001b[38;5;241m.\u001b[39mcopy()\n\u001b[1;32m> 11049\u001b[0m mat \u001b[38;5;241m=\u001b[39m \u001b[43mdata\u001b[49m\u001b[38;5;241;43m.\u001b[39;49m\u001b[43mto_numpy\u001b[49m\u001b[43m(\u001b[49m\u001b[43mdtype\u001b[49m\u001b[38;5;241;43m=\u001b[39;49m\u001b[38;5;28;43mfloat\u001b[39;49m\u001b[43m,\u001b[49m\u001b[43m \u001b[49m\u001b[43mna_value\u001b[49m\u001b[38;5;241;43m=\u001b[39;49m\u001b[43mnp\u001b[49m\u001b[38;5;241;43m.\u001b[39;49m\u001b[43mnan\u001b[49m\u001b[43m,\u001b[49m\u001b[43m \u001b[49m\u001b[43mcopy\u001b[49m\u001b[38;5;241;43m=\u001b[39;49m\u001b[38;5;28;43;01mFalse\u001b[39;49;00m\u001b[43m)\u001b[49m\n\u001b[0;32m  11051\u001b[0m \u001b[38;5;28;01mif\u001b[39;00m method \u001b[38;5;241m==\u001b[39m \u001b[38;5;124m\"\u001b[39m\u001b[38;5;124mpearson\u001b[39m\u001b[38;5;124m\"\u001b[39m:\n\u001b[0;32m  11052\u001b[0m     correl \u001b[38;5;241m=\u001b[39m libalgos\u001b[38;5;241m.\u001b[39mnancorr(mat, minp\u001b[38;5;241m=\u001b[39mmin_periods)\n",
      "File \u001b[1;32m~\\AppData\\Roaming\\Python\\Python39\\site-packages\\pandas\\core\\frame.py:1993\u001b[0m, in \u001b[0;36mDataFrame.to_numpy\u001b[1;34m(self, dtype, copy, na_value)\u001b[0m\n\u001b[0;32m   1991\u001b[0m \u001b[38;5;28;01mif\u001b[39;00m dtype \u001b[38;5;129;01mis\u001b[39;00m \u001b[38;5;129;01mnot\u001b[39;00m \u001b[38;5;28;01mNone\u001b[39;00m:\n\u001b[0;32m   1992\u001b[0m     dtype \u001b[38;5;241m=\u001b[39m np\u001b[38;5;241m.\u001b[39mdtype(dtype)\n\u001b[1;32m-> 1993\u001b[0m result \u001b[38;5;241m=\u001b[39m \u001b[38;5;28;43mself\u001b[39;49m\u001b[38;5;241;43m.\u001b[39;49m\u001b[43m_mgr\u001b[49m\u001b[38;5;241;43m.\u001b[39;49m\u001b[43mas_array\u001b[49m\u001b[43m(\u001b[49m\u001b[43mdtype\u001b[49m\u001b[38;5;241;43m=\u001b[39;49m\u001b[43mdtype\u001b[49m\u001b[43m,\u001b[49m\u001b[43m \u001b[49m\u001b[43mcopy\u001b[49m\u001b[38;5;241;43m=\u001b[39;49m\u001b[43mcopy\u001b[49m\u001b[43m,\u001b[49m\u001b[43m \u001b[49m\u001b[43mna_value\u001b[49m\u001b[38;5;241;43m=\u001b[39;49m\u001b[43mna_value\u001b[49m\u001b[43m)\u001b[49m\n\u001b[0;32m   1994\u001b[0m \u001b[38;5;28;01mif\u001b[39;00m result\u001b[38;5;241m.\u001b[39mdtype \u001b[38;5;129;01mis\u001b[39;00m \u001b[38;5;129;01mnot\u001b[39;00m dtype:\n\u001b[0;32m   1995\u001b[0m     result \u001b[38;5;241m=\u001b[39m np\u001b[38;5;241m.\u001b[39masarray(result, dtype\u001b[38;5;241m=\u001b[39mdtype)\n",
      "File \u001b[1;32m~\\AppData\\Roaming\\Python\\Python39\\site-packages\\pandas\\core\\internals\\managers.py:1694\u001b[0m, in \u001b[0;36mBlockManager.as_array\u001b[1;34m(self, dtype, copy, na_value)\u001b[0m\n\u001b[0;32m   1692\u001b[0m         arr\u001b[38;5;241m.\u001b[39mflags\u001b[38;5;241m.\u001b[39mwriteable \u001b[38;5;241m=\u001b[39m \u001b[38;5;28;01mFalse\u001b[39;00m\n\u001b[0;32m   1693\u001b[0m \u001b[38;5;28;01melse\u001b[39;00m:\n\u001b[1;32m-> 1694\u001b[0m     arr \u001b[38;5;241m=\u001b[39m \u001b[38;5;28;43mself\u001b[39;49m\u001b[38;5;241;43m.\u001b[39;49m\u001b[43m_interleave\u001b[49m\u001b[43m(\u001b[49m\u001b[43mdtype\u001b[49m\u001b[38;5;241;43m=\u001b[39;49m\u001b[43mdtype\u001b[49m\u001b[43m,\u001b[49m\u001b[43m \u001b[49m\u001b[43mna_value\u001b[49m\u001b[38;5;241;43m=\u001b[39;49m\u001b[43mna_value\u001b[49m\u001b[43m)\u001b[49m\n\u001b[0;32m   1695\u001b[0m     \u001b[38;5;66;03m# The underlying data was copied within _interleave, so no need\u001b[39;00m\n\u001b[0;32m   1696\u001b[0m     \u001b[38;5;66;03m# to further copy if copy=True or setting na_value\u001b[39;00m\n\u001b[0;32m   1698\u001b[0m \u001b[38;5;28;01mif\u001b[39;00m na_value \u001b[38;5;129;01mis\u001b[39;00m lib\u001b[38;5;241m.\u001b[39mno_default:\n",
      "File \u001b[1;32m~\\AppData\\Roaming\\Python\\Python39\\site-packages\\pandas\\core\\internals\\managers.py:1753\u001b[0m, in \u001b[0;36mBlockManager._interleave\u001b[1;34m(self, dtype, na_value)\u001b[0m\n\u001b[0;32m   1751\u001b[0m     \u001b[38;5;28;01melse\u001b[39;00m:\n\u001b[0;32m   1752\u001b[0m         arr \u001b[38;5;241m=\u001b[39m blk\u001b[38;5;241m.\u001b[39mget_values(dtype)\n\u001b[1;32m-> 1753\u001b[0m     result[rl\u001b[38;5;241m.\u001b[39mindexer] \u001b[38;5;241m=\u001b[39m arr\n\u001b[0;32m   1754\u001b[0m     itemmask[rl\u001b[38;5;241m.\u001b[39mindexer] \u001b[38;5;241m=\u001b[39m \u001b[38;5;241m1\u001b[39m\n\u001b[0;32m   1756\u001b[0m \u001b[38;5;28;01mif\u001b[39;00m \u001b[38;5;129;01mnot\u001b[39;00m itemmask\u001b[38;5;241m.\u001b[39mall():\n",
      "\u001b[1;31mValueError\u001b[0m: could not convert string to float: '58.16 bhp'"
     ]
>>>>>>> 68ff2a08099986a13bf78c95853902c225b65205
    }
   ],
   "source": [
    "corr_matrix = df.corr()\n",
    "\n",
    "selected_columns = ['New_Price', 'Mileage', 'Engine', 'Power', 'Year', 'Kilometers_Driven']\n",
    "selected_corr_matrix = corr_matrix.loc[selected_columns, selected_columns]\n",
    "\n",
    "# Plot the correlation matrix with a half mask\n",
    "plt.figure(figsize=(10, 8))\n",
    "\n",
    "# Generate a mask for the upper triangle\n",
    "mask = np.triu(np.ones_like(selected_corr_matrix, dtype=bool))\n",
    "\n",
    "# Plot the heatmap with the mask\n",
    "sns.heatmap(selected_corr_matrix, annot=True, cmap='coolwarm', center=0, mask=mask)\n",
    "plt.title('Correlation Matrix of Selected Features (Half Mask)')\n",
    "plt.show()"
   ]
  },
  {
   "cell_type": "markdown",
   "metadata": {},
   "source": [
    "#### Why Use a Half Mask in a Correlation Matrix Visualization?\n",
    "\n",
    "In visualizing correlation matrices, a half mask (or triangular mask) is often used to improve readability and reduce redundancy. Here's why and what benefits it offers:\n",
    "\n",
    "##### Why Use a Half Mask?\n",
    "\n",
    "1. **Redundancy Reduction:**\n",
    "   - A correlation matrix is symmetric, meaning that the value at position (i, j) is the same as at (j, i). Displaying the full matrix results in redundant information. A half mask removes this redundancy by displaying only one half of the matrix.\n",
    "\n",
    "2. **Improved Clarity:**\n",
    "   - By masking one half of the matrix, the visualization becomes less cluttered, making it easier to focus on the unique correlations. This is especially useful when dealing with a large number of features.\n",
    "\n",
    "3. **Aesthetic Appeal:**\n",
    "   - A half mask can make the heatmap look cleaner and more organized, improving the overall visual appeal of the plot.\n",
    "\n",
    "##### Benefits of Using a Half Mask\n",
    "\n",
    "1. **Enhanced Readability:**\n",
    "   - With fewer cells to interpret, users can more quickly identify and understand the significant correlations. This is particularly useful when presenting data to an audience unfamiliar with the dataset.\n",
    "\n",
    "2. **Focus on Important Information:**\n",
    "   - By reducing the amount of displayed information, the visualization directs the viewer's attention to the unique relationships between features, helping them draw insights more efficiently.\n",
    "\n",
    "3. **Saves Space:**\n",
    "   - In presentations or reports where space is limited, a half-mask heatmap takes up less room while still conveying all necessary information.\n",
    "\n",
    "#### Use the np.triu() numpy function to isolate the upper triangle of a matrix while turning all the values in the lower triangle into 0. (The np.tril() function would do the same, only for the lower triangle.) Using the np.ones_like() function will change all the isolated values into 1.\n",
    "```Python\n",
    "np.triu(np.ones_like(selected_corr_matrix, dtype=bool))\n",
    "```\n",
    "<img src=\"https://miro.medium.com/v2/resize:fit:1400/format:webp/1*mYMvHiyCGrN39X79gFFsNg.png\" height=\"150px\">\n",
    "\n",
    "#### Plot and use the mask\n",
    "```Python\n",
    "# Plot the correlation matrix with a half mask\n",
    "plt.figure(figsize=(10, 8))\n",
    "\n",
    "# Generate a mask for the upper triangle\n",
    "mask = np.triu(np.ones_like(selected_corr_matrix, dtype=bool))\n",
    "\n",
    "# Plot the heatmap with the mask\n",
    "sns.heatmap(selected_corr_matrix, annot=True, cmap='coolwarm', center=0, mask=mask)\n",
    "plt.title('Correlation Matrix of Selected Features (Half Mask)')\n",
    "plt.show()\n",
    "\n",
    "# define the mask to set the values in the upper triangle to True\n",
    "mask = np.triu(np.ones_like(df.corr(), dtype=np.bool))\n",
    "\n",
    "heatmap = sns.heatmap(df.corr(), mask=mask, vmin=-1, vmax=1, annot=True, cmap='BrBG')\n",
    "heatmap.set_title('Triangle Correlation Heatmap', fontdict={'fontsize':18}, pad=16)\n",
    "```\n",
    "\n",
    "<br/>\n",
    "<b><span style=\"color: red;\">Please go to this <a href = \"https://medium.com/@szabo.bibor/how-to-create-a-seaborn-correlation-heatmap-in-python-834c0686b88e\">page</a> and read more!</span></b>"
   ]
  },
  {
<<<<<<< HEAD
   "cell_type": "code",
   "execution_count": 34,
   "metadata": {},
   "outputs": [
    {
     "data": {
      "image/png": "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",
      "text/plain": [
       "<Figure size 720x576 with 2 Axes>"
      ]
     },
     "metadata": {
      "needs_background": "light"
     },
     "output_type": "display_data"
    }
   ],
   "source": [
    "# Plot the correlation matrix with a half mask\n",
    "plt.figure(figsize=(10, 8))\n",
    "\n",
    "# Generate a mask for the upper triangle\n",
    "mask = np.triu(np.ones_like(selected_corr_matrix, dtype=bool))\n",
    "\n",
    "# Plot the heatmap with the mask\n",
    "sns.heatmap(selected_corr_matrix, annot=True, cmap='coolwarm', center=0, mask=mask)\n",
    "plt.title('Correlation Matrix of Selected Features (Half Mask)')\n",
    "plt.show()\n",
    "\n",
    "# define the mask to set the values in the upper triangle to True\n",
    "mask = np.triu(np.ones_like(df.corr(), dtype=np.bool))\n",
    "\n",
    "heatmap = sns.heatmap(df.corr(), mask=mask, vmin=-1, vmax=1, annot=True, cmap='BrBG')\n",
    "heatmap.set_title('Triangle Correlation Heatmap', fontdict={'fontsize':18}, pad=16)"
   ]
  },
  {
=======
>>>>>>> 68ff2a08099986a13bf78c95853902c225b65205
   "cell_type": "markdown",
   "metadata": {},
   "source": [
    "### 3. Distribution of Car Prices\n"
   ]
  },
  {
   "cell_type": "code",
<<<<<<< HEAD
   "execution_count": null,
=======
   "execution_count": 58,
>>>>>>> 68ff2a08099986a13bf78c95853902c225b65205
   "metadata": {},
   "outputs": [
    {
     "data": {
      "image/png": "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",
      "text/plain": [
       "<Figure size 720x432 with 1 Axes>"
      ]
     },
     "metadata": {},
     "output_type": "display_data"
    }
   ],
   "source": [
    "# Set the plot style\n",
    "sns.set(style=\"whitegrid\")\n",
    "\n",
    "# Distribution of Car Prices\n",
    "plt.figure(figsize=(10, 6))\n",
    "sns.histplot(df['New_Price'].dropna(), bins=30, kde=True)\n",
    "plt.title('Distribution of Car Prices')\n",
    "plt.xlabel('Price (in lakhs)')\n",
    "plt.ylabel('Frequency')\n",
    "plt.show()"
   ]
  },
  {
   "cell_type": "markdown",
   "metadata": {},
   "source": [
    "### 4. Kilometers Driven vs. Year"
   ]
  },
  {
   "cell_type": "code",
<<<<<<< HEAD
   "execution_count": null,
=======
   "execution_count": 57,
>>>>>>> 68ff2a08099986a13bf78c95853902c225b65205
   "metadata": {},
   "outputs": [
    {
     "data": {
<<<<<<< HEAD
      "image/png": "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",
=======
      "image/png": "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",
>>>>>>> 68ff2a08099986a13bf78c95853902c225b65205
      "text/plain": [
       "<Figure size 720x432 with 1 Axes>"
      ]
     },
<<<<<<< HEAD
     "metadata": {},
=======
     "metadata": {
      "needs_background": "light"
     },
>>>>>>> 68ff2a08099986a13bf78c95853902c225b65205
     "output_type": "display_data"
    }
   ],
   "source": [
    "plt.figure(figsize=(10, 6))\n",
    "sns.scatterplot(data=df, x='Year', y='Kilometers_Driven', alpha=0.5)\n",
    "plt.title('Kilometers Driven vs. Year')\n",
    "plt.xlabel('Year')\n",
    "plt.ylabel('Kilometers Driven')\n",
    "plt.show()"
   ]
  },
  {
   "cell_type": "markdown",
   "metadata": {},
   "source": [
    "### 5. Fuel Type Distribution"
   ]
  },
  {
   "cell_type": "code",
   "execution_count": null,
   "metadata": {},
   "outputs": [
    {
     "data": {
<<<<<<< HEAD
      "image/png": "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",
      "text/plain": [
       "<Figure size 720x432 with 1 Axes>"
=======
      "image/png": "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",
      "text/plain": [
       "<Figure size 1000x600 with 1 Axes>"
>>>>>>> 68ff2a08099986a13bf78c95853902c225b65205
      ]
     },
     "metadata": {},
     "output_type": "display_data"
    }
   ],
   "source": [
    "plt.figure(figsize=(10, 6))\n",
    "sns.countplot(x='Fuel_Type', data=df)\n",
    "plt.title('Fuel Type Distribution')\n",
    "plt.xlabel('Fuel Type')\n",
    "plt.ylabel('Count')\n",
    "plt.show()"
   ]
  },
  {
   "cell_type": "markdown",
   "metadata": {},
   "source": [
    "### 6. Transmission Type Distribution"
   ]
  },
  {
   "cell_type": "code",
   "execution_count": null,
   "metadata": {},
   "outputs": [
    {
     "data": {
<<<<<<< HEAD
      "image/png": "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",
      "text/plain": [
       "<Figure size 720x432 with 1 Axes>"
=======
      "image/png": "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",
      "text/plain": [
       "<Figure size 1000x600 with 1 Axes>"
>>>>>>> 68ff2a08099986a13bf78c95853902c225b65205
      ]
     },
     "metadata": {},
     "output_type": "display_data"
    }
   ],
   "source": [
    "plt.figure(figsize=(10, 6))\n",
    "sns.countplot(x='Transmission', data=df)\n",
    "plt.title('Transmission Type Distribution')\n",
    "plt.xlabel('Transmission Type')\n",
    "plt.ylabel('Count')\n",
    "plt.show()"
   ]
  },
  {
   "cell_type": "markdown",
   "metadata": {},
   "source": [
    "### 7. Owner Type Distribution"
   ]
  },
  {
   "cell_type": "code",
   "execution_count": null,
   "metadata": {},
   "outputs": [
    {
     "data": {
<<<<<<< HEAD
      "image/png": "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",
      "text/plain": [
       "<Figure size 720x432 with 1 Axes>"
=======
      "image/png": "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",
      "text/plain": [
       "<Figure size 1000x600 with 1 Axes>"
>>>>>>> 68ff2a08099986a13bf78c95853902c225b65205
      ]
     },
     "metadata": {},
     "output_type": "display_data"
    }
   ],
   "source": [
    "plt.figure(figsize=(10, 6))\n",
    "sns.countplot(x='Owner_Type', data=df)\n",
    "plt.title('Owner Type Distribution')\n",
    "plt.xlabel('Owner Type')\n",
    "plt.ylabel('Count')\n",
    "plt.show()"
   ]
  },
  {
   "cell_type": "markdown",
   "metadata": {},
   "source": [
    "### 8. Correlation between Engine Size and Power"
   ]
  },
  {
   "cell_type": "code",
   "execution_count": null,
   "metadata": {},
   "outputs": [
    {
     "data": {
<<<<<<< HEAD
      "image/png": "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",
      "text/plain": [
       "<Figure size 720x432 with 1 Axes>"
=======
      "image/png": "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",
      "text/plain": [
       "<Figure size 1000x600 with 1 Axes>"
>>>>>>> 68ff2a08099986a13bf78c95853902c225b65205
      ]
     },
     "metadata": {},
     "output_type": "display_data"
    }
   ],
   "source": [
    "plt.figure(figsize=(10, 6))\n",
    "sns.scatterplot(data=df, x='Engine', y='Power', alpha=0.5)\n",
    "plt.title('Correlation between Engine Size and Power')\n",
    "plt.xlabel('Engine (cc)')\n",
    "plt.ylabel('Power (bhp)')\n",
    "plt.show()"
   ]
  },
  {
   "cell_type": "markdown",
   "metadata": {},
   "source": [
    "### 9. Top 10 Locations with Most Listings"
   ]
  },
  {
   "cell_type": "code",
   "execution_count": null,
   "metadata": {},
   "outputs": [
    {
     "data": {
<<<<<<< HEAD
      "image/png": "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",
      "text/plain": [
       "<Figure size 720x432 with 1 Axes>"
=======
      "image/png": "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",
      "text/plain": [
       "<Figure size 1000x600 with 1 Axes>"
>>>>>>> 68ff2a08099986a13bf78c95853902c225b65205
      ]
     },
     "metadata": {},
     "output_type": "display_data"
    }
   ],
   "source": [
    "location_columns = [col for col in df.columns if col.startswith('Location_')]\n",
    "location_counts = df[location_columns].sum().sort_values(ascending=False).head(10)\n",
    "\n",
    "plt.figure(figsize=(10, 6))\n",
    "sns.barplot(x=location_counts.values, y=location_counts.index)\n",
    "plt.title('Top 10 Locations with Most Listings')\n",
    "plt.xlabel('Number of Listings')\n",
    "plt.ylabel('Location')\n",
    "plt.show()"
   ]
  },
  {
   "cell_type": "markdown",
   "metadata": {},
   "source": [
    "<h1 style=\"color: cyan;\"> Please add more and share your visualizations on discord! with what insights do you get from your visualizations.</h1>"
   ]
  },
  {
   "cell_type": "code",
<<<<<<< HEAD
   "execution_count": 143,
   "metadata": {},
   "outputs": [
    {
     "name": "stdout",
     "output_type": "stream",
     "text": [
      "<class 'pandas.core.frame.DataFrame'>\n",
      "RangeIndex: 6019 entries, 0 to 6018\n",
      "Data columns (total 13 columns):\n",
      " #   Column             Non-Null Count  Dtype  \n",
      "---  ------             --------------  -----  \n",
      " 0   ID                 6019 non-null   int64  \n",
      " 1   Name               6019 non-null   object \n",
      " 2   Location           6019 non-null   object \n",
      " 3   Year               6019 non-null   int64  \n",
      " 4   Kilometers_Driven  6019 non-null   int64  \n",
      " 5   Fuel_Type          6019 non-null   object \n",
      " 6   Transmission       6019 non-null   object \n",
      " 7   Owner_Type         6019 non-null   object \n",
      " 8   Mileage            6019 non-null   float64\n",
      " 9   Engine             6019 non-null   float64\n",
      " 10  Power              6019 non-null   float64\n",
      " 11  Seats              6019 non-null   float64\n",
      " 12  Price              6019 non-null   float64\n",
      "dtypes: float64(5), int64(3), object(5)\n",
      "memory usage: 611.4+ KB\n"
     ]
    }
   ],
   "source": [
    "df.info()"
   ]
  },
  {
   "cell_type": "code",
   "execution_count": 150,
   "metadata": {},
   "outputs": [
    {
     "data": {
      "text/plain": [
       "<Axes: xlabel='Engine', ylabel='Kilometers_Driven'>"
      ]
     },
     "execution_count": 150,
     "metadata": {},
     "output_type": "execute_result"
    },
    {
     "data": {
      "image/png": "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",
      "text/plain": [
       "<Figure size 720x432 with 1 Axes>"
      ]
     },
     "metadata": {
      "needs_background": "light"
     },
     "output_type": "display_data"
    }
   ],
   "source": [
    "plt.figure(figsize=(10, 6))\n",
    "sns.barplot(x='Engine',y='Kilometers_Driven',data=df)"
   ]
=======
   "execution_count": null,
   "metadata": {},
   "outputs": [],
   "source": []
>>>>>>> 68ff2a08099986a13bf78c95853902c225b65205
  },
  {
   "cell_type": "markdown",
   "metadata": {},
   "source": [
    "# 4- Save the dataframe\n",
    "Never forget to save your data so you don't run the whole code again."
   ]
  },
  {
   "cell_type": "code",
<<<<<<< HEAD
   "execution_count": 29,
=======
   "execution_count": null,
>>>>>>> 68ff2a08099986a13bf78c95853902c225b65205
   "metadata": {},
   "outputs": [],
   "source": [
    "df.to_csv('cleaned_used_cars.csv', index=False)"
   ]
<<<<<<< HEAD
  },
  {
   "cell_type": "code",
   "execution_count": null,
   "metadata": {},
   "outputs": [],
   "source": []
=======
>>>>>>> 68ff2a08099986a13bf78c95853902c225b65205
  }
 ],
 "metadata": {
  "kernelspec": {
   "display_name": "base",
   "language": "python",
   "name": "python3"
  },
  "language_info": {
   "codemirror_mode": {
    "name": "ipython",
    "version": 3
   },
   "file_extension": ".py",
   "mimetype": "text/x-python",
   "name": "python",
   "nbconvert_exporter": "python",
   "pygments_lexer": "ipython3",
   "version": "3.9.9"
  }
 },
 "nbformat": 4,
 "nbformat_minor": 2
}
