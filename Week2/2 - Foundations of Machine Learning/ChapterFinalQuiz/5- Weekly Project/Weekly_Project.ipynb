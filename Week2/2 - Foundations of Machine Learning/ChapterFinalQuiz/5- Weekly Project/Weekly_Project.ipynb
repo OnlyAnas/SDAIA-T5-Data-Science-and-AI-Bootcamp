{
 "cells": [
  {
   "cell_type": "markdown",
   "id": "5749a10a",
   "metadata": {},
   "source": [
    "# Weekly Project 2!"
   ]
  },
  {
   "cell_type": "markdown",
   "id": "92d44841",
   "metadata": {},
   "source": [
    "## Introduction to Road Traffic Accidents (RTA) Dataset\n",
    "\n",
    "### Dataset Overview\n",
    "The RTA Dataset provides a detailed snapshot of road traffic accidents, capturing a range of data from accident conditions to casualty details. This dataset is essential for analyzing patterns and causes of accidents to improve road safety.\n",
    "\n",
    "### Data Characteristics\n",
    "- **Entries**: The dataset contains 12,316 entries.\n",
    "- **Features**: There are 32 features in the dataset, which include:\n",
    "  - `Time`: Time when the accident occurred.\n",
    "  - `Day_of_week`: Day of the week.\n",
    "  - `Age_band_of_driver`: Age group of the driver involved.\n",
    "  - `Sex_of_driver`: Gender of the driver.\n",
    "  - `Educational_level`: Educational level of the driver.\n",
    "  - `Type_of_vehicle`: Type of vehicle involved in the accident.\n",
    "  - `Cause_of_accident`: Reported cause of the accident.\n",
    "  - `Accident_severity`: Severity of the accident.\n",
    "- **Target Column**: `Accident_severity` is used as the target column for modeling. This feature classifies the severity of each accident.\n",
    "\n",
    "### Objective\n",
    "Students will use this dataset to apply various data visualization, modeling, and evaluation techniques learned in class. The primary goal is to build models that can accurately predict the severity of accidents and to identify the key factors that contribute to severe accidents."
   ]
  },
  {
   "cell_type": "markdown",
   "id": "177291c2",
   "metadata": {},
   "source": [
    "## Import Libraries\n",
    "Import all the necessary libraries here. Include libraries for handling data (like pandas), visualization (like matplotlib and seaborn), and modeling (like scikit-learn)."
   ]
  },
  {
   "cell_type": "code",
   "execution_count": 1,
   "id": "2ad2bd0e",
   "metadata": {},
   "outputs": [],
   "source": [
    "import pandas as pd"
   ]
  },
  {
   "cell_type": "markdown",
   "id": "5f236af2",
   "metadata": {},
   "source": [
    "## Load Data\n",
    "Load the dataset from the provided CSV file into a DataFrame."
   ]
  },
  {
   "cell_type": "code",
   "execution_count": 86,
   "id": "2d3f76e8",
   "metadata": {},
   "outputs": [
    {
     "data": {
      "text/html": [
       "<div>\n",
       "<style scoped>\n",
       "    .dataframe tbody tr th:only-of-type {\n",
       "        vertical-align: middle;\n",
       "    }\n",
       "\n",
       "    .dataframe tbody tr th {\n",
       "        vertical-align: top;\n",
       "    }\n",
       "\n",
       "    .dataframe thead th {\n",
       "        text-align: right;\n",
       "    }\n",
       "</style>\n",
       "<table border=\"1\" class=\"dataframe\">\n",
       "  <thead>\n",
       "    <tr style=\"text-align: right;\">\n",
       "      <th></th>\n",
       "      <th>Time</th>\n",
       "      <th>Day_of_week</th>\n",
       "      <th>Age_band_of_driver</th>\n",
       "      <th>Sex_of_driver</th>\n",
       "      <th>Educational_level</th>\n",
       "      <th>Vehicle_driver_relation</th>\n",
       "      <th>Driving_experience</th>\n",
       "      <th>Type_of_vehicle</th>\n",
       "      <th>Owner_of_vehicle</th>\n",
       "      <th>Service_year_of_vehicle</th>\n",
       "      <th>...</th>\n",
       "      <th>Vehicle_movement</th>\n",
       "      <th>Casualty_class</th>\n",
       "      <th>Sex_of_casualty</th>\n",
       "      <th>Age_band_of_casualty</th>\n",
       "      <th>Casualty_severity</th>\n",
       "      <th>Work_of_casuality</th>\n",
       "      <th>Fitness_of_casuality</th>\n",
       "      <th>Pedestrian_movement</th>\n",
       "      <th>Cause_of_accident</th>\n",
       "      <th>Accident_severity</th>\n",
       "    </tr>\n",
       "  </thead>\n",
       "  <tbody>\n",
       "    <tr>\n",
       "      <th>0</th>\n",
       "      <td>17:02:00</td>\n",
       "      <td>Monday</td>\n",
       "      <td>18-30</td>\n",
       "      <td>Male</td>\n",
       "      <td>Above high school</td>\n",
       "      <td>Employee</td>\n",
       "      <td>1-2yr</td>\n",
       "      <td>Automobile</td>\n",
       "      <td>Owner</td>\n",
       "      <td>Above 10yr</td>\n",
       "      <td>...</td>\n",
       "      <td>Going straight</td>\n",
       "      <td>na</td>\n",
       "      <td>na</td>\n",
       "      <td>na</td>\n",
       "      <td>na</td>\n",
       "      <td>NaN</td>\n",
       "      <td>NaN</td>\n",
       "      <td>Not a Pedestrian</td>\n",
       "      <td>Moving Backward</td>\n",
       "      <td>Slight Injury</td>\n",
       "    </tr>\n",
       "    <tr>\n",
       "      <th>1</th>\n",
       "      <td>17:02:00</td>\n",
       "      <td>Monday</td>\n",
       "      <td>31-50</td>\n",
       "      <td>Male</td>\n",
       "      <td>Junior high school</td>\n",
       "      <td>Employee</td>\n",
       "      <td>Above 10yr</td>\n",
       "      <td>Public (&gt; 45 seats)</td>\n",
       "      <td>Owner</td>\n",
       "      <td>5-10yrs</td>\n",
       "      <td>...</td>\n",
       "      <td>Going straight</td>\n",
       "      <td>na</td>\n",
       "      <td>na</td>\n",
       "      <td>na</td>\n",
       "      <td>na</td>\n",
       "      <td>NaN</td>\n",
       "      <td>NaN</td>\n",
       "      <td>Not a Pedestrian</td>\n",
       "      <td>Overtaking</td>\n",
       "      <td>Slight Injury</td>\n",
       "    </tr>\n",
       "    <tr>\n",
       "      <th>2</th>\n",
       "      <td>17:02:00</td>\n",
       "      <td>Monday</td>\n",
       "      <td>18-30</td>\n",
       "      <td>Male</td>\n",
       "      <td>Junior high school</td>\n",
       "      <td>Employee</td>\n",
       "      <td>1-2yr</td>\n",
       "      <td>Lorry (41?100Q)</td>\n",
       "      <td>Owner</td>\n",
       "      <td>NaN</td>\n",
       "      <td>...</td>\n",
       "      <td>Going straight</td>\n",
       "      <td>Driver or rider</td>\n",
       "      <td>Male</td>\n",
       "      <td>31-50</td>\n",
       "      <td>3</td>\n",
       "      <td>Driver</td>\n",
       "      <td>NaN</td>\n",
       "      <td>Not a Pedestrian</td>\n",
       "      <td>Changing lane to the left</td>\n",
       "      <td>Serious Injury</td>\n",
       "    </tr>\n",
       "    <tr>\n",
       "      <th>3</th>\n",
       "      <td>1:06:00</td>\n",
       "      <td>Sunday</td>\n",
       "      <td>18-30</td>\n",
       "      <td>Male</td>\n",
       "      <td>Junior high school</td>\n",
       "      <td>Employee</td>\n",
       "      <td>5-10yr</td>\n",
       "      <td>Public (&gt; 45 seats)</td>\n",
       "      <td>Governmental</td>\n",
       "      <td>NaN</td>\n",
       "      <td>...</td>\n",
       "      <td>Going straight</td>\n",
       "      <td>Pedestrian</td>\n",
       "      <td>Female</td>\n",
       "      <td>18-30</td>\n",
       "      <td>3</td>\n",
       "      <td>Driver</td>\n",
       "      <td>Normal</td>\n",
       "      <td>Not a Pedestrian</td>\n",
       "      <td>Changing lane to the right</td>\n",
       "      <td>Slight Injury</td>\n",
       "    </tr>\n",
       "    <tr>\n",
       "      <th>4</th>\n",
       "      <td>1:06:00</td>\n",
       "      <td>Sunday</td>\n",
       "      <td>18-30</td>\n",
       "      <td>Male</td>\n",
       "      <td>Junior high school</td>\n",
       "      <td>Employee</td>\n",
       "      <td>2-5yr</td>\n",
       "      <td>NaN</td>\n",
       "      <td>Owner</td>\n",
       "      <td>5-10yrs</td>\n",
       "      <td>...</td>\n",
       "      <td>Going straight</td>\n",
       "      <td>na</td>\n",
       "      <td>na</td>\n",
       "      <td>na</td>\n",
       "      <td>na</td>\n",
       "      <td>NaN</td>\n",
       "      <td>NaN</td>\n",
       "      <td>Not a Pedestrian</td>\n",
       "      <td>Overtaking</td>\n",
       "      <td>Slight Injury</td>\n",
       "    </tr>\n",
       "  </tbody>\n",
       "</table>\n",
       "<p>5 rows × 32 columns</p>\n",
       "</div>"
      ],
      "text/plain": [
       "       Time Day_of_week Age_band_of_driver Sex_of_driver   Educational_level  \\\n",
       "0  17:02:00      Monday              18-30          Male   Above high school   \n",
       "1  17:02:00      Monday              31-50          Male  Junior high school   \n",
       "2  17:02:00      Monday              18-30          Male  Junior high school   \n",
       "3   1:06:00      Sunday              18-30          Male  Junior high school   \n",
       "4   1:06:00      Sunday              18-30          Male  Junior high school   \n",
       "\n",
       "  Vehicle_driver_relation Driving_experience      Type_of_vehicle  \\\n",
       "0                Employee              1-2yr           Automobile   \n",
       "1                Employee         Above 10yr  Public (> 45 seats)   \n",
       "2                Employee              1-2yr      Lorry (41?100Q)   \n",
       "3                Employee             5-10yr  Public (> 45 seats)   \n",
       "4                Employee              2-5yr                  NaN   \n",
       "\n",
       "  Owner_of_vehicle Service_year_of_vehicle  ... Vehicle_movement  \\\n",
       "0            Owner              Above 10yr  ...   Going straight   \n",
       "1            Owner                 5-10yrs  ...   Going straight   \n",
       "2            Owner                     NaN  ...   Going straight   \n",
       "3     Governmental                     NaN  ...   Going straight   \n",
       "4            Owner                 5-10yrs  ...   Going straight   \n",
       "\n",
       "    Casualty_class Sex_of_casualty Age_band_of_casualty Casualty_severity  \\\n",
       "0               na              na                   na                na   \n",
       "1               na              na                   na                na   \n",
       "2  Driver or rider            Male                31-50                 3   \n",
       "3       Pedestrian          Female                18-30                 3   \n",
       "4               na              na                   na                na   \n",
       "\n",
       "  Work_of_casuality Fitness_of_casuality Pedestrian_movement  \\\n",
       "0               NaN                  NaN    Not a Pedestrian   \n",
       "1               NaN                  NaN    Not a Pedestrian   \n",
       "2            Driver                  NaN    Not a Pedestrian   \n",
       "3            Driver               Normal    Not a Pedestrian   \n",
       "4               NaN                  NaN    Not a Pedestrian   \n",
       "\n",
       "            Cause_of_accident Accident_severity  \n",
       "0             Moving Backward     Slight Injury  \n",
       "1                  Overtaking     Slight Injury  \n",
       "2   Changing lane to the left    Serious Injury  \n",
       "3  Changing lane to the right     Slight Injury  \n",
       "4                  Overtaking     Slight Injury  \n",
       "\n",
       "[5 rows x 32 columns]"
      ]
     },
     "execution_count": 86,
     "metadata": {},
     "output_type": "execute_result"
    }
   ],
   "source": [
    "df = pd.read_csv('RTA_Dataset.csv')\n",
    "df.head()"
   ]
  },
  {
   "cell_type": "markdown",
   "id": "b9215c2f",
   "metadata": {},
   "source": [
    "## Exploratory Data Analysis (EDA)\n",
    "Perform EDA to understand the data better. This involves several steps to summarize the main characteristics, uncover patterns, and establish relationships:\n",
    "* Find the dataset information and observe the datatypes.\n",
    "* Check the shape of the data to understand its structure.\n",
    "* View the the data with various functions to get an initial sense of the data.\n",
    "* Perform summary statistics on the dataset to grasp central tendencies and variability.\n",
    "* Check for duplicated data.\n",
    "* Check for null values.\n",
    "\n",
    "And apply more if needed!\n"
   ]
  },
  {
   "cell_type": "code",
   "execution_count": 87,
   "id": "b206f836",
   "metadata": {},
   "outputs": [
    {
     "name": "stdout",
     "output_type": "stream",
     "text": [
      "<class 'pandas.core.frame.DataFrame'>\n",
      "RangeIndex: 12316 entries, 0 to 12315\n",
      "Data columns (total 32 columns):\n",
      " #   Column                       Non-Null Count  Dtype \n",
      "---  ------                       --------------  ----- \n",
      " 0   Time                         12316 non-null  object\n",
      " 1   Day_of_week                  12316 non-null  object\n",
      " 2   Age_band_of_driver           12316 non-null  object\n",
      " 3   Sex_of_driver                12316 non-null  object\n",
      " 4   Educational_level            11575 non-null  object\n",
      " 5   Vehicle_driver_relation      11737 non-null  object\n",
      " 6   Driving_experience           11487 non-null  object\n",
      " 7   Type_of_vehicle              11366 non-null  object\n",
      " 8   Owner_of_vehicle             11834 non-null  object\n",
      " 9   Service_year_of_vehicle      8388 non-null   object\n",
      " 10  Defect_of_vehicle            7889 non-null   object\n",
      " 11  Area_accident_occured        12077 non-null  object\n",
      " 12  Lanes_or_Medians             11931 non-null  object\n",
      " 13  Road_allignment              12174 non-null  object\n",
      " 14  Types_of_Junction            11429 non-null  object\n",
      " 15  Road_surface_type            12144 non-null  object\n",
      " 16  Road_surface_conditions      12316 non-null  object\n",
      " 17  Light_conditions             12316 non-null  object\n",
      " 18  Weather_conditions           12316 non-null  object\n",
      " 19  Type_of_collision            12161 non-null  object\n",
      " 20  Number_of_vehicles_involved  12316 non-null  int64 \n",
      " 21  Number_of_casualties         12316 non-null  int64 \n",
      " 22  Vehicle_movement             12008 non-null  object\n",
      " 23  Casualty_class               12316 non-null  object\n",
      " 24  Sex_of_casualty              12316 non-null  object\n",
      " 25  Age_band_of_casualty         12316 non-null  object\n",
      " 26  Casualty_severity            12316 non-null  object\n",
      " 27  Work_of_casuality            9118 non-null   object\n",
      " 28  Fitness_of_casuality         9681 non-null   object\n",
      " 29  Pedestrian_movement          12316 non-null  object\n",
      " 30  Cause_of_accident            12316 non-null  object\n",
      " 31  Accident_severity            12316 non-null  object\n",
      "dtypes: int64(2), object(30)\n",
      "memory usage: 3.0+ MB\n"
     ]
    }
   ],
   "source": [
    "df.info() #print the information about each column"
   ]
  },
  {
   "cell_type": "code",
   "execution_count": 88,
   "id": "2da1462f",
   "metadata": {},
   "outputs": [
    {
     "data": {
      "text/html": [
       "<div>\n",
       "<style scoped>\n",
       "    .dataframe tbody tr th:only-of-type {\n",
       "        vertical-align: middle;\n",
       "    }\n",
       "\n",
       "    .dataframe tbody tr th {\n",
       "        vertical-align: top;\n",
       "    }\n",
       "\n",
       "    .dataframe thead th {\n",
       "        text-align: right;\n",
       "    }\n",
       "</style>\n",
       "<table border=\"1\" class=\"dataframe\">\n",
       "  <thead>\n",
       "    <tr style=\"text-align: right;\">\n",
       "      <th></th>\n",
       "      <th>Number_of_vehicles_involved</th>\n",
       "      <th>Number_of_casualties</th>\n",
       "    </tr>\n",
       "  </thead>\n",
       "  <tbody>\n",
       "    <tr>\n",
       "      <th>count</th>\n",
       "      <td>12316.000000</td>\n",
       "      <td>12316.000000</td>\n",
       "    </tr>\n",
       "    <tr>\n",
       "      <th>mean</th>\n",
       "      <td>2.040679</td>\n",
       "      <td>1.548149</td>\n",
       "    </tr>\n",
       "    <tr>\n",
       "      <th>std</th>\n",
       "      <td>0.688790</td>\n",
       "      <td>1.007179</td>\n",
       "    </tr>\n",
       "    <tr>\n",
       "      <th>min</th>\n",
       "      <td>1.000000</td>\n",
       "      <td>1.000000</td>\n",
       "    </tr>\n",
       "    <tr>\n",
       "      <th>25%</th>\n",
       "      <td>2.000000</td>\n",
       "      <td>1.000000</td>\n",
       "    </tr>\n",
       "    <tr>\n",
       "      <th>50%</th>\n",
       "      <td>2.000000</td>\n",
       "      <td>1.000000</td>\n",
       "    </tr>\n",
       "    <tr>\n",
       "      <th>75%</th>\n",
       "      <td>2.000000</td>\n",
       "      <td>2.000000</td>\n",
       "    </tr>\n",
       "    <tr>\n",
       "      <th>max</th>\n",
       "      <td>7.000000</td>\n",
       "      <td>8.000000</td>\n",
       "    </tr>\n",
       "  </tbody>\n",
       "</table>\n",
       "</div>"
      ],
      "text/plain": [
       "       Number_of_vehicles_involved  Number_of_casualties\n",
       "count                 12316.000000          12316.000000\n",
       "mean                      2.040679              1.548149\n",
       "std                       0.688790              1.007179\n",
       "min                       1.000000              1.000000\n",
       "25%                       2.000000              1.000000\n",
       "50%                       2.000000              1.000000\n",
       "75%                       2.000000              2.000000\n",
       "max                       7.000000              8.000000"
      ]
     },
     "execution_count": 88,
     "metadata": {},
     "output_type": "execute_result"
    }
   ],
   "source": [
    "df.describe() #statisics info"
   ]
  },
  {
   "cell_type": "code",
   "execution_count": 89,
   "id": "7d26f003",
   "metadata": {},
   "outputs": [
    {
     "data": {
      "text/plain": [
       "(12316, 32)"
      ]
     },
     "execution_count": 89,
     "metadata": {},
     "output_type": "execute_result"
    }
   ],
   "source": [
    "df.shape #Rows,Columns"
   ]
  },
  {
   "cell_type": "code",
   "execution_count": 90,
   "id": "c3ab3302",
   "metadata": {},
   "outputs": [
    {
     "data": {
      "text/plain": [
       "Time                              0\n",
       "Day_of_week                       0\n",
       "Age_band_of_driver                0\n",
       "Sex_of_driver                     0\n",
       "Educational_level               741\n",
       "Vehicle_driver_relation         579\n",
       "Driving_experience              829\n",
       "Type_of_vehicle                 950\n",
       "Owner_of_vehicle                482\n",
       "Service_year_of_vehicle        3928\n",
       "Defect_of_vehicle              4427\n",
       "Area_accident_occured           239\n",
       "Lanes_or_Medians                385\n",
       "Road_allignment                 142\n",
       "Types_of_Junction               887\n",
       "Road_surface_type               172\n",
       "Road_surface_conditions           0\n",
       "Light_conditions                  0\n",
       "Weather_conditions                0\n",
       "Type_of_collision               155\n",
       "Number_of_vehicles_involved       0\n",
       "Number_of_casualties              0\n",
       "Vehicle_movement                308\n",
       "Casualty_class                    0\n",
       "Sex_of_casualty                   0\n",
       "Age_band_of_casualty              0\n",
       "Casualty_severity                 0\n",
       "Work_of_casuality              3198\n",
       "Fitness_of_casuality           2635\n",
       "Pedestrian_movement               0\n",
       "Cause_of_accident                 0\n",
       "Accident_severity                 0\n",
       "dtype: int64"
      ]
     },
     "execution_count": 90,
     "metadata": {},
     "output_type": "execute_result"
    }
   ],
   "source": [
    "df.isnull().sum() #Check how many row have a null value in each column"
   ]
  },
  {
   "cell_type": "code",
   "execution_count": 91,
   "id": "57694b39",
   "metadata": {},
   "outputs": [
    {
     "data": {
      "text/plain": [
       "np.int64(0)"
      ]
     },
     "execution_count": 91,
     "metadata": {},
     "output_type": "execute_result"
    }
   ],
   "source": [
    "df.duplicated().sum() #Check the duplicated values"
   ]
  },
  {
   "cell_type": "markdown",
   "id": "bccfb706",
   "metadata": {},
   "source": [
    "## Data Preprocessing\n",
    "Data preprocessing is essential for transforming raw data into a format suitable for further analysis and modeling. Follow these steps to ensure your data is ready for predictive modeling or advanced analytics:\n",
    "- **Handling Missing Values**: Replace missing values with appropriate statistics (mean, median, mode) or use more complex imputation techniques.\n",
    "- **Normalization/Scaling**: Scale data to a small, specified range like 0 to 1, or transform it to have a mean of zero and a standard deviation of one.\n",
    "- **Label Encoding**: Convert categorical text data into model-understandable numbers where the labels are ordered.\n",
    "- **One-Hot Encoding**: Use for nominal categorical data where no ordinal relationship exists to transform the data into a binary column for each category. (Be careful not to increase the dimensionality significantly)\n",
    "- **Detection and Treatment of Outliers**: Use statistical tests, box plots, or scatter plots to identify outliers and then cap, trim, or use robust methods to reduce the effect of outliers, depending on the context.\n",
    "- **Feature Engineering**: Enhance your dataset by creating new features and transforming existing ones. This might involve combining data from different columns, applying transformations, or reducing dimensionality with techniques like PCA to improve model performance.\n",
    "\n",
    "Consider these steps as a foundation, and feel free to introduce additional preprocessing techniques as needed to address specific characteristics of your dataset."
   ]
  },
  {
   "cell_type": "code",
   "execution_count": 92,
   "id": "81c3b5eb",
   "metadata": {},
   "outputs": [
    {
     "name": "stderr",
     "output_type": "stream",
     "text": [
      "C:\\Users\\anees\\AppData\\Local\\Temp\\ipykernel_29156\\2613063510.py:3: FutureWarning: A value is trying to be set on a copy of a DataFrame or Series through chained assignment using an inplace method.\n",
      "The behavior will change in pandas 3.0. This inplace method will never work because the intermediate object on which we are setting values always behaves as a copy.\n",
      "\n",
      "For example, when doing 'df[col].method(value, inplace=True)', try using 'df.method({col: value}, inplace=True)' or df[col] = df[col].method(value) instead, to perform the operation inplace on the original object.\n",
      "\n",
      "\n",
      "  df['Educational_level'].replace('nan',np.nan,inplace=True) #\n",
      "C:\\Users\\anees\\AppData\\Local\\Temp\\ipykernel_29156\\2613063510.py:4: FutureWarning: A value is trying to be set on a copy of a DataFrame or Series through chained assignment using an inplace method.\n",
      "The behavior will change in pandas 3.0. This inplace method will never work because the intermediate object on which we are setting values always behaves as a copy.\n",
      "\n",
      "For example, when doing 'df[col].method(value, inplace=True)', try using 'df.method({col: value}, inplace=True)' or df[col] = df[col].method(value) instead, to perform the operation inplace on the original object.\n",
      "\n",
      "\n",
      "  df['Educational_level'].fillna('Unknown',inplace=True)\n",
      "C:\\Users\\anees\\AppData\\Local\\Temp\\ipykernel_29156\\2613063510.py:8: FutureWarning: A value is trying to be set on a copy of a DataFrame or Series through chained assignment using an inplace method.\n",
      "The behavior will change in pandas 3.0. This inplace method will never work because the intermediate object on which we are setting values always behaves as a copy.\n",
      "\n",
      "For example, when doing 'df[col].method(value, inplace=True)', try using 'df.method({col: value}, inplace=True)' or df[col] = df[col].method(value) instead, to perform the operation inplace on the original object.\n",
      "\n",
      "\n",
      "  df['Vehicle_driver_relation'].replace(np.nan,'Other',inplace=True)\n",
      "C:\\Users\\anees\\AppData\\Local\\Temp\\ipykernel_29156\\2613063510.py:9: FutureWarning: A value is trying to be set on a copy of a DataFrame or Series through chained assignment using an inplace method.\n",
      "The behavior will change in pandas 3.0. This inplace method will never work because the intermediate object on which we are setting values always behaves as a copy.\n",
      "\n",
      "For example, when doing 'df[col].method(value, inplace=True)', try using 'df.method({col: value}, inplace=True)' or df[col] = df[col].method(value) instead, to perform the operation inplace on the original object.\n",
      "\n",
      "\n",
      "  df['Vehicle_driver_relation'].replace('Unknown','Other',inplace=True)\n",
      "C:\\Users\\anees\\AppData\\Local\\Temp\\ipykernel_29156\\2613063510.py:13: FutureWarning: A value is trying to be set on a copy of a DataFrame or Series through chained assignment using an inplace method.\n",
      "The behavior will change in pandas 3.0. This inplace method will never work because the intermediate object on which we are setting values always behaves as a copy.\n",
      "\n",
      "For example, when doing 'df[col].method(value, inplace=True)', try using 'df.method({col: value}, inplace=True)' or df[col] = df[col].method(value) instead, to perform the operation inplace on the original object.\n",
      "\n",
      "\n",
      "  df['Driving_experience'].replace(np.nan,'unknown',inplace=True)\n",
      "C:\\Users\\anees\\AppData\\Local\\Temp\\ipykernel_29156\\2613063510.py:17: FutureWarning: A value is trying to be set on a copy of a DataFrame or Series through chained assignment using an inplace method.\n",
      "The behavior will change in pandas 3.0. This inplace method will never work because the intermediate object on which we are setting values always behaves as a copy.\n",
      "\n",
      "For example, when doing 'df[col].method(value, inplace=True)', try using 'df.method({col: value}, inplace=True)' or df[col] = df[col].method(value) instead, to perform the operation inplace on the original object.\n",
      "\n",
      "\n",
      "  df['Type_of_vehicle'].replace(np.nan,'other',inplace=True)\n",
      "C:\\Users\\anees\\AppData\\Local\\Temp\\ipykernel_29156\\2613063510.py:20: FutureWarning: A value is trying to be set on a copy of a DataFrame or Series through chained assignment using an inplace method.\n",
      "The behavior will change in pandas 3.0. This inplace method will never work because the intermediate object on which we are setting values always behaves as a copy.\n",
      "\n",
      "For example, when doing 'df[col].method(value, inplace=True)', try using 'df.method({col: value}, inplace=True)' or df[col] = df[col].method(value) instead, to perform the operation inplace on the original object.\n",
      "\n",
      "\n",
      "  df['Owner_of_vehicle'].replace(np.nan,'Other',inplace=True)\n",
      "C:\\Users\\anees\\AppData\\Local\\Temp\\ipykernel_29156\\2613063510.py:23: FutureWarning: A value is trying to be set on a copy of a DataFrame or Series through chained assignment using an inplace method.\n",
      "The behavior will change in pandas 3.0. This inplace method will never work because the intermediate object on which we are setting values always behaves as a copy.\n",
      "\n",
      "For example, when doing 'df[col].method(value, inplace=True)', try using 'df.method({col: value}, inplace=True)' or df[col] = df[col].method(value) instead, to perform the operation inplace on the original object.\n",
      "\n",
      "\n",
      "  df['Service_year_of_vehicle'].replace('Unknown',np.nan,inplace=True)\n",
      "C:\\Users\\anees\\AppData\\Local\\Temp\\ipykernel_29156\\2613063510.py:24: FutureWarning: A value is trying to be set on a copy of a DataFrame or Series through chained assignment using an inplace method.\n",
      "The behavior will change in pandas 3.0. This inplace method will never work because the intermediate object on which we are setting values always behaves as a copy.\n",
      "\n",
      "For example, when doing 'df[col].method(value, inplace=True)', try using 'df.method({col: value}, inplace=True)' or df[col] = df[col].method(value) instead, to perform the operation inplace on the original object.\n",
      "\n",
      "\n",
      "  df['Service_year_of_vehicle'].replace(np.nan,df['Service_year_of_vehicle'].mode()[0],inplace=True)\n",
      "C:\\Users\\anees\\AppData\\Local\\Temp\\ipykernel_29156\\2613063510.py:27: FutureWarning: A value is trying to be set on a copy of a DataFrame or Series through chained assignment using an inplace method.\n",
      "The behavior will change in pandas 3.0. This inplace method will never work because the intermediate object on which we are setting values always behaves as a copy.\n",
      "\n",
      "For example, when doing 'df[col].method(value, inplace=True)', try using 'df.method({col: value}, inplace=True)' or df[col] = df[col].method(value) instead, to perform the operation inplace on the original object.\n",
      "\n",
      "\n",
      "  df['Defect_of_vehicle'].replace(np.nan,df['Defect_of_vehicle'].mode()[0],inplace=True)\n",
      "C:\\Users\\anees\\AppData\\Local\\Temp\\ipykernel_29156\\2613063510.py:30: FutureWarning: A value is trying to be set on a copy of a DataFrame or Series through chained assignment using an inplace method.\n",
      "The behavior will change in pandas 3.0. This inplace method will never work because the intermediate object on which we are setting values always behaves as a copy.\n",
      "\n",
      "For example, when doing 'df[col].method(value, inplace=True)', try using 'df.method({col: value}, inplace=True)' or df[col] = df[col].method(value) instead, to perform the operation inplace on the original object.\n",
      "\n",
      "\n",
      "  df['Area_accident_occured'].replace(np.nan,'Other',inplace=True)\n",
      "C:\\Users\\anees\\AppData\\Local\\Temp\\ipykernel_29156\\2613063510.py:33: FutureWarning: A value is trying to be set on a copy of a DataFrame or Series through chained assignment using an inplace method.\n",
      "The behavior will change in pandas 3.0. This inplace method will never work because the intermediate object on which we are setting values always behaves as a copy.\n",
      "\n",
      "For example, when doing 'df[col].method(value, inplace=True)', try using 'df.method({col: value}, inplace=True)' or df[col] = df[col].method(value) instead, to perform the operation inplace on the original object.\n",
      "\n",
      "\n",
      "  df['Lanes_or_Medians'].replace(np.nan,'other',inplace=True)\n",
      "C:\\Users\\anees\\AppData\\Local\\Temp\\ipykernel_29156\\2613063510.py:34: FutureWarning: A value is trying to be set on a copy of a DataFrame or Series through chained assignment using an inplace method.\n",
      "The behavior will change in pandas 3.0. This inplace method will never work because the intermediate object on which we are setting values always behaves as a copy.\n",
      "\n",
      "For example, when doing 'df[col].method(value, inplace=True)', try using 'df.method({col: value}, inplace=True)' or df[col] = df[col].method(value) instead, to perform the operation inplace on the original object.\n",
      "\n",
      "\n",
      "  df['Lanes_or_Medians'].replace('Unknown','other',inplace=True)\n",
      "C:\\Users\\anees\\AppData\\Local\\Temp\\ipykernel_29156\\2613063510.py:37: FutureWarning: A value is trying to be set on a copy of a DataFrame or Series through chained assignment using an inplace method.\n",
      "The behavior will change in pandas 3.0. This inplace method will never work because the intermediate object on which we are setting values always behaves as a copy.\n",
      "\n",
      "For example, when doing 'df[col].method(value, inplace=True)', try using 'df.method({col: value}, inplace=True)' or df[col] = df[col].method(value) instead, to perform the operation inplace on the original object.\n",
      "\n",
      "\n",
      "  df['Road_allignment'].fillna(df['Road_allignment'].mode()[0],inplace=True)\n",
      "C:\\Users\\anees\\AppData\\Local\\Temp\\ipykernel_29156\\2613063510.py:40: FutureWarning: A value is trying to be set on a copy of a DataFrame or Series through chained assignment using an inplace method.\n",
      "The behavior will change in pandas 3.0. This inplace method will never work because the intermediate object on which we are setting values always behaves as a copy.\n",
      "\n",
      "For example, when doing 'df[col].method(value, inplace=True)', try using 'df.method({col: value}, inplace=True)' or df[col] = df[col].method(value) instead, to perform the operation inplace on the original object.\n",
      "\n",
      "\n",
      "  df['Types_of_Junction'].replace('Unknown','Other',inplace=True)\n",
      "C:\\Users\\anees\\AppData\\Local\\Temp\\ipykernel_29156\\2613063510.py:41: FutureWarning: A value is trying to be set on a copy of a DataFrame or Series through chained assignment using an inplace method.\n",
      "The behavior will change in pandas 3.0. This inplace method will never work because the intermediate object on which we are setting values always behaves as a copy.\n",
      "\n",
      "For example, when doing 'df[col].method(value, inplace=True)', try using 'df.method({col: value}, inplace=True)' or df[col] = df[col].method(value) instead, to perform the operation inplace on the original object.\n",
      "\n",
      "\n",
      "  df['Types_of_Junction'].replace(np.nan,'Other',inplace=True)\n",
      "C:\\Users\\anees\\AppData\\Local\\Temp\\ipykernel_29156\\2613063510.py:44: FutureWarning: A value is trying to be set on a copy of a DataFrame or Series through chained assignment using an inplace method.\n",
      "The behavior will change in pandas 3.0. This inplace method will never work because the intermediate object on which we are setting values always behaves as a copy.\n",
      "\n",
      "For example, when doing 'df[col].method(value, inplace=True)', try using 'df.method({col: value}, inplace=True)' or df[col] = df[col].method(value) instead, to perform the operation inplace on the original object.\n",
      "\n",
      "\n",
      "  df['Road_surface_type'].fillna('Other',inplace=True)\n",
      "C:\\Users\\anees\\AppData\\Local\\Temp\\ipykernel_29156\\2613063510.py:47: FutureWarning: A value is trying to be set on a copy of a DataFrame or Series through chained assignment using an inplace method.\n",
      "The behavior will change in pandas 3.0. This inplace method will never work because the intermediate object on which we are setting values always behaves as a copy.\n",
      "\n",
      "For example, when doing 'df[col].method(value, inplace=True)', try using 'df.method({col: value}, inplace=True)' or df[col] = df[col].method(value) instead, to perform the operation inplace on the original object.\n",
      "\n",
      "\n",
      "  df['Type_of_collision'].replace('Unknown','Other',inplace=True)\n",
      "C:\\Users\\anees\\AppData\\Local\\Temp\\ipykernel_29156\\2613063510.py:48: FutureWarning: A value is trying to be set on a copy of a DataFrame or Series through chained assignment using an inplace method.\n",
      "The behavior will change in pandas 3.0. This inplace method will never work because the intermediate object on which we are setting values always behaves as a copy.\n",
      "\n",
      "For example, when doing 'df[col].method(value, inplace=True)', try using 'df.method({col: value}, inplace=True)' or df[col] = df[col].method(value) instead, to perform the operation inplace on the original object.\n",
      "\n",
      "\n",
      "  df['Type_of_collision'].fillna(df['Type_of_collision'].mode()[0],inplace=True)\n",
      "C:\\Users\\anees\\AppData\\Local\\Temp\\ipykernel_29156\\2613063510.py:51: FutureWarning: A value is trying to be set on a copy of a DataFrame or Series through chained assignment using an inplace method.\n",
      "The behavior will change in pandas 3.0. This inplace method will never work because the intermediate object on which we are setting values always behaves as a copy.\n",
      "\n",
      "For example, when doing 'df[col].method(value, inplace=True)', try using 'df.method({col: value}, inplace=True)' or df[col] = df[col].method(value) instead, to perform the operation inplace on the original object.\n",
      "\n",
      "\n",
      "  df['Vehicle_movement'].replace('Unknown','Other',inplace=True)\n",
      "C:\\Users\\anees\\AppData\\Local\\Temp\\ipykernel_29156\\2613063510.py:55: FutureWarning: A value is trying to be set on a copy of a DataFrame or Series through chained assignment using an inplace method.\n",
      "The behavior will change in pandas 3.0. This inplace method will never work because the intermediate object on which we are setting values always behaves as a copy.\n",
      "\n",
      "For example, when doing 'df[col].method(value, inplace=True)', try using 'df.method({col: value}, inplace=True)' or df[col] = df[col].method(value) instead, to perform the operation inplace on the original object.\n",
      "\n",
      "\n",
      "  df['Fitness_of_casuality'].replace('NormalNormal','Normal',inplace=True)\n",
      "C:\\Users\\anees\\AppData\\Local\\Temp\\ipykernel_29156\\2613063510.py:56: FutureWarning: A value is trying to be set on a copy of a DataFrame or Series through chained assignment using an inplace method.\n",
      "The behavior will change in pandas 3.0. This inplace method will never work because the intermediate object on which we are setting values always behaves as a copy.\n",
      "\n",
      "For example, when doing 'df[col].method(value, inplace=True)', try using 'df.method({col: value}, inplace=True)' or df[col] = df[col].method(value) instead, to perform the operation inplace on the original object.\n",
      "\n",
      "\n",
      "  df['Fitness_of_casuality'].fillna('Other',inplace=True)\n",
      "C:\\Users\\anees\\AppData\\Local\\Temp\\ipykernel_29156\\2613063510.py:60: FutureWarning: A value is trying to be set on a copy of a DataFrame or Series through chained assignment using an inplace method.\n",
      "The behavior will change in pandas 3.0. This inplace method will never work because the intermediate object on which we are setting values always behaves as a copy.\n",
      "\n",
      "For example, when doing 'df[col].method(value, inplace=True)', try using 'df.method({col: value}, inplace=True)' or df[col] = df[col].method(value) instead, to perform the operation inplace on the original object.\n",
      "\n",
      "\n",
      "  df['Sex_of_driver'].replace('Unknown',np.nan,inplace=True)\n",
      "C:\\Users\\anees\\AppData\\Local\\Temp\\ipykernel_29156\\2613063510.py:61: FutureWarning: A value is trying to be set on a copy of a DataFrame or Series through chained assignment using an inplace method.\n",
      "The behavior will change in pandas 3.0. This inplace method will never work because the intermediate object on which we are setting values always behaves as a copy.\n",
      "\n",
      "For example, when doing 'df[col].method(value, inplace=True)', try using 'df.method({col: value}, inplace=True)' or df[col] = df[col].method(value) instead, to perform the operation inplace on the original object.\n",
      "\n",
      "\n",
      "  df['Sex_of_driver'].replace(np.nan,df['Sex_of_driver'].mode()[0],inplace=True)\n",
      "C:\\Users\\anees\\AppData\\Local\\Temp\\ipykernel_29156\\2613063510.py:64: FutureWarning: A value is trying to be set on a copy of a DataFrame or Series through chained assignment using an inplace method.\n",
      "The behavior will change in pandas 3.0. This inplace method will never work because the intermediate object on which we are setting values always behaves as a copy.\n",
      "\n",
      "For example, when doing 'df[col].method(value, inplace=True)', try using 'df.method({col: value}, inplace=True)' or df[col] = df[col].method(value) instead, to perform the operation inplace on the original object.\n",
      "\n",
      "\n",
      "  df['Age_band_of_driver'].replace('Unknown',np.nan,inplace=True)\n",
      "C:\\Users\\anees\\AppData\\Local\\Temp\\ipykernel_29156\\2613063510.py:65: FutureWarning: A value is trying to be set on a copy of a DataFrame or Series through chained assignment using an inplace method.\n",
      "The behavior will change in pandas 3.0. This inplace method will never work because the intermediate object on which we are setting values always behaves as a copy.\n",
      "\n",
      "For example, when doing 'df[col].method(value, inplace=True)', try using 'df.method({col: value}, inplace=True)' or df[col] = df[col].method(value) instead, to perform the operation inplace on the original object.\n",
      "\n",
      "\n",
      "  df['Age_band_of_driver'].fillna(df['Age_band_of_driver'].mode()[0],inplace=True)\n"
     ]
    }
   ],
   "source": [
    "import numpy as np\n",
    "df['Educational_level'].unique() \n",
    "df['Educational_level'].replace('nan',np.nan,inplace=True) #\n",
    "df['Educational_level'].fillna('Unknown',inplace=True)\n",
    "df['Educational_level'].unique()\n",
    "\n",
    "df['Vehicle_driver_relation'].unique()\n",
    "df['Vehicle_driver_relation'].replace(np.nan,'Other',inplace=True)\n",
    "df['Vehicle_driver_relation'].replace('Unknown','Other',inplace=True)\n",
    "df['Vehicle_driver_relation'].unique()\n",
    "\n",
    "df['Driving_experience'].unique()\n",
    "df['Driving_experience'].replace(np.nan,'unknown',inplace=True)\n",
    "df['Driving_experience'].unique()\n",
    "\n",
    "df['Type_of_vehicle'].unique()\n",
    "df['Type_of_vehicle'].replace(np.nan,'other',inplace=True)\n",
    "\n",
    "df['Owner_of_vehicle'].unique()\n",
    "df['Owner_of_vehicle'].replace(np.nan,'Other',inplace=True)\n",
    "\n",
    "df['Service_year_of_vehicle'].unique()\n",
    "df['Service_year_of_vehicle'].replace('Unknown',np.nan,inplace=True)\n",
    "df['Service_year_of_vehicle'].replace(np.nan,df['Service_year_of_vehicle'].mode()[0],inplace=True)\n",
    "\n",
    "df['Defect_of_vehicle'].unique()\n",
    "df['Defect_of_vehicle'].replace(np.nan,df['Defect_of_vehicle'].mode()[0],inplace=True)\n",
    "\n",
    "df['Area_accident_occured'].unique()\n",
    "df['Area_accident_occured'].replace(np.nan,'Other',inplace=True)\n",
    "\n",
    "df['Lanes_or_Medians'].unique()\n",
    "df['Lanes_or_Medians'].replace(np.nan,'other',inplace=True)\n",
    "df['Lanes_or_Medians'].replace('Unknown','other',inplace=True)\n",
    "\n",
    "df['Road_allignment'].unique()\n",
    "df['Road_allignment'].fillna(df['Road_allignment'].mode()[0],inplace=True)\n",
    "\n",
    "df['Types_of_Junction'].unique()\n",
    "df['Types_of_Junction'].replace('Unknown','Other',inplace=True)\n",
    "df['Types_of_Junction'].replace(np.nan,'Other',inplace=True)\n",
    "\n",
    "df['Road_surface_type'].unique()\n",
    "df['Road_surface_type'].fillna('Other',inplace=True)\n",
    "\n",
    "df['Type_of_collision'].unique()\n",
    "df['Type_of_collision'].replace('Unknown','Other',inplace=True)\n",
    "df['Type_of_collision'].fillna(df['Type_of_collision'].mode()[0],inplace=True)\n",
    "\n",
    "df['Vehicle_movement'].unique()\n",
    "df['Vehicle_movement'].replace('Unknown','Other',inplace=True)\n",
    "df['Vehicle_movement'].fillna(df['Vehicle_movement'].ffill,inplace=True)\n",
    "\n",
    "df['Fitness_of_casuality'].unique()\n",
    "df['Fitness_of_casuality'].replace('NormalNormal','Normal',inplace=True)\n",
    "df['Fitness_of_casuality'].fillna('Other',inplace=True)\n",
    "df['Fitness_of_casuality'].unique()\n",
    "\n",
    "df['Sex_of_driver'].unique()\n",
    "df['Sex_of_driver'].replace('Unknown',np.nan,inplace=True)\n",
    "df['Sex_of_driver'].replace(np.nan,df['Sex_of_driver'].mode()[0],inplace=True)\n",
    "\n",
    "df['Age_band_of_driver'].unique()\n",
    "df['Age_band_of_driver'].replace('Unknown',np.nan,inplace=True)\n",
    "df['Age_band_of_driver'].fillna(df['Age_band_of_driver'].mode()[0],inplace=True)\n"
   ]
  },
  {
   "cell_type": "code",
   "execution_count": 93,
   "id": "554e915c",
   "metadata": {},
   "outputs": [
    {
     "name": "stdout",
     "output_type": "stream",
     "text": [
      "<class 'pandas.core.frame.DataFrame'>\n",
      "RangeIndex: 12316 entries, 0 to 12315\n",
      "Data columns (total 32 columns):\n",
      " #   Column                       Non-Null Count  Dtype \n",
      "---  ------                       --------------  ----- \n",
      " 0   Time                         12316 non-null  object\n",
      " 1   Day_of_week                  12316 non-null  object\n",
      " 2   Age_band_of_driver           12316 non-null  object\n",
      " 3   Sex_of_driver                12316 non-null  object\n",
      " 4   Educational_level            12316 non-null  object\n",
      " 5   Vehicle_driver_relation      12316 non-null  object\n",
      " 6   Driving_experience           12316 non-null  object\n",
      " 7   Type_of_vehicle              12316 non-null  object\n",
      " 8   Owner_of_vehicle             12316 non-null  object\n",
      " 9   Service_year_of_vehicle      12316 non-null  object\n",
      " 10  Defect_of_vehicle            12316 non-null  object\n",
      " 11  Area_accident_occured        12316 non-null  object\n",
      " 12  Lanes_or_Medians             12316 non-null  object\n",
      " 13  Road_allignment              12316 non-null  object\n",
      " 14  Types_of_Junction            12316 non-null  object\n",
      " 15  Road_surface_type            12316 non-null  object\n",
      " 16  Road_surface_conditions      12316 non-null  object\n",
      " 17  Light_conditions             12316 non-null  object\n",
      " 18  Weather_conditions           12316 non-null  object\n",
      " 19  Type_of_collision            12316 non-null  object\n",
      " 20  Number_of_vehicles_involved  12316 non-null  int64 \n",
      " 21  Number_of_casualties         12316 non-null  int64 \n",
      " 22  Vehicle_movement             12316 non-null  object\n",
      " 23  Casualty_class               12316 non-null  object\n",
      " 24  Sex_of_casualty              12316 non-null  object\n",
      " 25  Age_band_of_casualty         12316 non-null  object\n",
      " 26  Casualty_severity            12316 non-null  object\n",
      " 27  Work_of_casuality            9118 non-null   object\n",
      " 28  Fitness_of_casuality         12316 non-null  object\n",
      " 29  Pedestrian_movement          12316 non-null  object\n",
      " 30  Cause_of_accident            12316 non-null  object\n",
      " 31  Accident_severity            12316 non-null  object\n",
      "dtypes: int64(2), object(30)\n",
      "memory usage: 3.0+ MB\n"
     ]
    },
    {
     "data": {
      "text/plain": [
       "Time                  0\n",
       "Day_of_week           0\n",
       "Age_band_of_driver    0\n",
       "Sex_of_driver         0\n",
       "Educational_level     0\n",
       "Type_of_vehicle       0\n",
       "Cause_of_accident     0\n",
       "Accident_severity     0\n",
       "dtype: int64"
      ]
     },
     "execution_count": 93,
     "metadata": {},
     "output_type": "execute_result"
    }
   ],
   "source": [
    "df.info()\n",
    "df[['Time','Day_of_week','Age_band_of_driver','Sex_of_driver','Educational_level','Type_of_vehicle','Cause_of_accident','Accident_severity']].isnull().sum()"
   ]
  },
  {
   "cell_type": "code",
   "execution_count": 94,
   "id": "0befbb1d",
   "metadata": {},
   "outputs": [],
   "source": [
    "from sklearn.preprocessing import LabelEncoder\n",
    "\n",
    "encoder = LabelEncoder()\n",
    "\n",
    "df['Age_Driver_Encoded'] = encoder.fit_transform(df['Age_band_of_driver'])\n",
    "\n",
    "df['Education_Encoded'] = encoder.fit_transform(df['Educational_level'])\n",
    "\n",
    "df['Sex_Driver_Encoded'] = encoder.fit_transform(df['Sex_of_driver'])\n",
    "\n",
    "df['Day_Encoded'] = encoder.fit_transform(df['Day_of_week'])\n",
    "\n",
    "df['Driving_exp_Encoded'] = encoder.fit_transform(df['Driving_experience'])\n",
    "\n",
    "df['Accident_severity_Encoded'] = encoder.fit_transform(df['Accident_severity'])\n"
   ]
  },
  {
   "cell_type": "code",
   "execution_count": 95,
   "id": "bd182d2b",
   "metadata": {},
   "outputs": [
    {
     "data": {
      "text/plain": [
       "<Axes: ylabel='Number_of_casualties'>"
      ]
     },
     "execution_count": 95,
     "metadata": {},
     "output_type": "execute_result"
    },
    {
     "data": {
      "image/png": "[encoded data removed]",
      "text/plain": [
       "<Figure size 432x288 with 1 Axes>"
      ]
     },
     "metadata": {
      "needs_background": "light"
     },
     "output_type": "display_data"
    }
   ],
   "source": [
    "import seaborn as sns\n",
    "import matplotlib as plt\n",
    "sns.boxplot(df['Number_of_casualties'])"
   ]
  },
  {
   "cell_type": "markdown",
   "id": "292ab9c9",
   "metadata": {},
   "source": [
    "## Data Visualization\n",
    "Create various plots to visualize the relationships in the data. Consider using the following to show different aspects of the data:\n",
    "\n",
    "* Heatmap of Correlation Matrix.\n",
    "* Line plots.\n",
    "* Scatter plots.\n",
    "* Histograms.\n",
    "* Boxplots.\n",
    "\n",
    "Use more if needed!"
   ]
  },
  {
   "cell_type": "code",
   "execution_count": 96,
   "id": "1f0491b7",
   "metadata": {},
   "outputs": [
    {
     "data": {
      "text/plain": [
       "<Axes: ylabel='Frequency'>"
      ]
     },
     "execution_count": 96,
     "metadata": {},
     "output_type": "execute_result"
    },
    {
     "data": {
      "image/png": "[encoded data removed]",
      "text/plain": [
       "<Figure size 432x288 with 1 Axes>"
      ]
     },
     "metadata": {
      "needs_background": "light"
     },
     "output_type": "display_data"
    }
   ],
   "source": [
    "df['Number_of_casualties'].plot.hist()"
   ]
  },
  {
   "cell_type": "code",
   "execution_count": 97,
   "id": "193bef2c",
   "metadata": {},
   "outputs": [
    {
     "data": {
      "text/plain": [
       "<Axes: xlabel='Day_of_week', ylabel='Number_of_casualties'>"
      ]
     },
     "execution_count": 97,
     "metadata": {},
     "output_type": "execute_result"
    },
    {
     "data": {
      "image/png": "[encoded data removed]",
      "text/plain": [
       "<Figure size 432x288 with 1 Axes>"
      ]
     },
     "metadata": {
      "needs_background": "light"
     },
     "output_type": "display_data"
    }
   ],
   "source": [
    "sns.barplot(x=df['Day_of_week'],y=df['Number_of_casualties'])"
   ]
  },
  {
   "cell_type": "code",
   "execution_count": 98,
   "id": "0efd60f9",
   "metadata": {},
   "outputs": [
    {
     "data": {
      "text/plain": [
       "<Axes: xlabel='Accident_severity', ylabel='Number_of_vehicles_involved'>"
      ]
     },
     "execution_count": 98,
     "metadata": {},
     "output_type": "execute_result"
    },
    {
     "data": {
      "image/png": "[encoded data removed]",
      "text/plain": [
       "<Figure size 432x288 with 1 Axes>"
      ]
     },
     "metadata": {
      "needs_background": "light"
     },
     "output_type": "display_data"
    }
   ],
   "source": [
    "sns.barplot(x=df['Accident_severity'],y=df['Number_of_vehicles_involved'])"
   ]
  },
  {
   "cell_type": "code",
   "execution_count": 99,
   "id": "b9184eca",
   "metadata": {},
   "outputs": [
    {
     "data": {
      "text/plain": [
       "<Axes: xlabel='Driving_exp_Encoded', ylabel='Number_of_casualties'>"
      ]
     },
     "execution_count": 99,
     "metadata": {},
     "output_type": "execute_result"
    },
    {
     "data": {
      "image/png": "[encoded data removed]",
      "text/plain": [
       "<Figure size 432x288 with 1 Axes>"
      ]
     },
     "metadata": {
      "needs_background": "light"
     },
     "output_type": "display_data"
    }
   ],
   "source": [
    "sns.barplot(x=df['Driving_exp_Encoded'],y=df['Number_of_casualties'])"
   ]
  },
  {
   "cell_type": "code",
   "execution_count": 100,
   "id": "5fa90623",
   "metadata": {},
   "outputs": [
    {
     "data": {
      "text/plain": [
       "<Axes: xlabel='Sex_Driver_Encoded', ylabel='Number_of_casualties'>"
      ]
     },
     "execution_count": 100,
     "metadata": {},
     "output_type": "execute_result"
    },
    {
     "data": {
      "image/png": "[encoded data removed]",
      "text/plain": [
       "<Figure size 432x288 with 1 Axes>"
      ]
     },
     "metadata": {
      "needs_background": "light"
     },
     "output_type": "display_data"
    }
   ],
   "source": [
    "sns.barplot(x=df['Sex_Driver_Encoded'],y=df['Number_of_casualties'])"
   ]
  },
  {
   "cell_type": "markdown",
   "id": "40ce1d71",
   "metadata": {},
   "source": [
    "## Feature Selection\n",
    "- Choose features that you believe will most influence the outcome based on your analysis and the insights from your visualizations. Focus on those that appear most impactful to include in your modeling.\n",
    "\n",
    "## Train-Test Split\n",
    "* Divide the dataset into training and testing sets to evaluate the performance of your models."
   ]
  },
  {
   "cell_type": "code",
   "execution_count": 101,
   "id": "44a860c3",
   "metadata": {},
   "outputs": [
    {
     "data": {
      "text/plain": [
       "np.int64(0)"
      ]
     },
     "execution_count": 101,
     "metadata": {},
     "output_type": "execute_result"
    }
   ],
   "source": [
    "# Features\n",
    "\n",
    "#Education level \n",
    "#Sex\n",
    "#Age\n",
    "#Number of casuality\n",
    "#Driving_experience \n",
    "#Day_of_week\n",
    "\n",
    "#----------\n",
    "#Target = Accident_severity\n",
    "\n",
    "df.sample(10)\n",
    "df['Age_band_of_driver'].unique()\n",
    "df['Number_of_vehicles_involved'].isnull().sum()"
   ]
  },
  {
   "cell_type": "code",
   "execution_count": 102,
   "id": "38b3bd95",
   "metadata": {},
   "outputs": [],
   "source": [
    "def remove_outliers(df, column):\n",
    "    Q1 = df[column].quantile(0.25)\n",
    "    Q3 = df[column].quantile(0.75)\n",
    "    IQR = Q3 - Q1\n",
    "    lower_bound = Q1 - 1.5 * IQR\n",
    "    upper_bound = Q3 + 1.5 * IQR\n",
    "    return df[(df[column] >= lower_bound) & (df[column] <= upper_bound)]\n",
    "\n",
    "df = remove_outliers(df,\"Number_of_casualties\")\n",
    "df = remove_outliers(df,\"Number_of_vehicles_involved\")"
   ]
  },
  {
   "cell_type": "code",
   "execution_count": 141,
   "id": "e5511773",
   "metadata": {},
   "outputs": [],
   "source": [
    "from sklearn.preprocessing import StandardScaler\n",
    "\n",
    "scaler = StandardScaler()\n",
    "\n",
    "df['Number_of_casualties_scaled'] = scaler.fit_transform(df[['Number_of_casualties']])\n",
    "df['Number_of_vehicles_involved_Scaled'] = scaler.fit_transform(df[['Number_of_vehicles_involved']])"
   ]
  },
  {
   "cell_type": "code",
   "execution_count": 146,
   "id": "f8c2add0",
   "metadata": {},
   "outputs": [],
   "source": [
    "import sklearn\n",
    "from sklearn.model_selection import train_test_split\n",
    "\n",
    "x = df[['Number_of_casualties_scaled','Number_of_vehicles_involved_Scaled','Day_Encoded','Age_Driver_Encoded']]\n",
    "y = df['Accident_severity_Encoded']\n",
    "x_train , x_test , y_train , y_test = train_test_split(x,y, test_size = 0.3)\n"
   ]
  },
  {
   "cell_type": "markdown",
   "id": "7dbd2aab",
   "metadata": {},
   "source": [
    "**Logistic Regression**"
   ]
  },
  {
   "cell_type": "code",
   "execution_count": 179,
   "id": "af6cd085",
   "metadata": {},
   "outputs": [],
   "source": [
    "from sklearn.linear_model import LogisticRegression\n",
    "\n",
    "reg = LogisticRegression(solver=\"lbfgs\", random_state=42)\n",
    "reg.fit(x_train,y_train)\n",
    "\n",
    "\n",
    "from sklearn.metrics import mean_absolute_error, mean_squared_error\n",
    "\n",
    "log_pred = reg.predict(x_test)\n"
   ]
  },
  {
   "cell_type": "markdown",
   "id": "29fa810c",
   "metadata": {},
   "source": [
    "**DecisionTree**"
   ]
  },
  {
   "cell_type": "code",
   "execution_count": 180,
   "id": "68c25488",
   "metadata": {},
   "outputs": [
    {
     "data": {
      "text/plain": [
       "array([2, 2, 2, ..., 2, 2, 2])"
      ]
     },
     "execution_count": 180,
     "metadata": {},
     "output_type": "execute_result"
    }
   ],
   "source": [
    "from sklearn.tree import DecisionTreeClassifier\n",
    "\n",
    "tree_reg = DecisionTreeClassifier()\n",
    "tree_reg.fit(x_train,y_train)\n",
    "\n",
    "tree_pred = tree_reg.predict(x_test)\n",
    "tree_pred\n"
   ]
  },
  {
   "cell_type": "markdown",
   "id": "0c55b889",
   "metadata": {},
   "source": [
    "**SVM**"
   ]
  },
  {
   "cell_type": "code",
   "execution_count": 193,
   "id": "4b2fde98",
   "metadata": {},
   "outputs": [
    {
     "data": {
      "text/plain": [
       "array([2, 2, 2, ..., 2, 2, 2])"
      ]
     },
     "execution_count": 193,
     "metadata": {},
     "output_type": "execute_result"
    }
   ],
   "source": [
    "from sklearn import svm\n",
    "\n",
    "svm_model = svm.SVC()\n",
    "svm_model.fit(x_train,y_train)\n",
    "\n",
    "svm_pred = svm_model.predict(x_test)\n",
    "svm_pred\n"
   ]
  },
  {
   "cell_type": "markdown",
   "id": "9b1c0233",
   "metadata": {},
   "source": [
    "**KNN**"
   ]
  },
  {
   "cell_type": "code",
   "execution_count": 182,
   "id": "d46d8019",
   "metadata": {},
   "outputs": [],
   "source": [
    "from sklearn.neighbors import KNeighborsClassifier\n",
    "\n",
    "knn = KNeighborsClassifier(weights='distance', n_neighbors=4)\n",
    "knn.fit(x_train,y_train)\n",
    "\n",
    "knn_pred = knn.predict(x_test)\n"
   ]
  },
  {
   "cell_type": "markdown",
   "id": "e74a5058",
   "metadata": {},
   "source": [
    "## Modeling\n",
    "\n",
    "Once the data is split into training and testing sets, the next step is to build models to make predictions. Here, we will explore several machine learning algorithms, each with its unique characteristics and suitability for different types of data and problems. You will implement the following models:\n",
    "\n",
    "### 1. Logistic Regression\n",
    "\n",
    "### 2. Decision Tree Classifier\n",
    "\n",
    "### 3. Support Vector Machine (SVM)\n",
    "\n",
    "### 4. K-Neighbors Classifier\n",
    "\n",
    "### Implementing the Models\n",
    "- For each model, use the training data you have prepared to train the model."
   ]
  },
  {
   "cell_type": "markdown",
   "id": "12057ba0",
   "metadata": {},
   "source": [
    "## Model Evaluation\n",
    "\n",
    "After training your models, it's crucial to evaluate their performance to understand their effectiveness and limitations. This section outlines various techniques and metrics to assess the performance of each model you have implemented.\n",
    "\n",
    "### Evaluation Techniques\n",
    "1. **Confusion Matrix**\n",
    "\n",
    "2. **Accuracy**\n",
    "\n",
    "3. **Precision and Recall**\n",
    "\n",
    "4. **F1 Score**\n",
    "\n",
    "5. **ROC Curve and AUC**\n",
    "\n",
    "### Implementing Evaluation\n",
    "- Calculate the metrics listed above using your test data."
   ]
  },
  {
   "cell_type": "code",
   "execution_count": 210,
   "id": "c8328067",
   "metadata": {},
   "outputs": [
    {
     "name": "stdout",
     "output_type": "stream",
     "text": [
      "TREE :  [[   0    0    0]\n",
      " [   0    0    0]\n",
      " [  18  273 2092]]\n",
      "KNN :  [[   2    0    3]\n",
      " [   2   17  112]\n",
      " [  14  256 1977]]\n",
      "LogisticRegression :  [[   0    0    0]\n",
      " [   0    0    0]\n",
      " [  18  273 2092]]\n",
      "Support victor machine :  [[   0    0    0]\n",
      " [   0    0    0]\n",
      " [  18  273 2092]]\n"
     ]
    }
   ],
   "source": [
    "from sklearn.model_selection import cross_val_predict\n",
    "from sklearn.metrics import precision_score,recall_score,f1_score,confusion_matrix,accuracy_score \n",
    "\n",
    " \n",
    "print('TREE : ',confusion_matrix(tree_pred, y_test))\n",
    "print('KNN : ',confusion_matrix(knn_pred, y_test))\n",
    "print('LogisticRegression : ',confusion_matrix(log_pred, y_test))\n",
    "print(\"Support victor machine : \",confusion_matrix(svm_pred,y_test))"
   ]
  },
  {
   "cell_type": "code",
   "execution_count": 211,
   "id": "7d2a6e5c",
   "metadata": {},
   "outputs": [
    {
     "name": "stdout",
     "output_type": "stream",
     "text": [
      "TREE :  [0.         0.         0.93497207]\n",
      "KNN :  [0.17391304 0.08415842 0.91126988]\n",
      "LogisticRegression :  [0.         0.         0.93497207]\n",
      "Support victor machine :  [0.         0.         0.93497207]\n"
     ]
    }
   ],
   "source": [
    "print('TREE : ',f1_score(tree_pred, y_test,average=None))\n",
    "print('KNN : ',f1_score(knn_pred, y_test,average=None))\n",
    "print('LogisticRegression : ',f1_score(log_pred, y_test,average=None))\n",
    "print(\"Support victor machine : \",f1_score(svm_pred,y_test,average=None))"
   ]
  },
  {
   "cell_type": "code",
   "execution_count": 213,
   "id": "e5a41806",
   "metadata": {},
   "outputs": [
    {
     "name": "stdout",
     "output_type": "stream",
     "text": [
      "TREE :  0.8778850188837599\n",
      "KNN :  0.8375996642887117\n",
      "LogisticRegression :  0.8778850188837599\n",
      "Support victor machine :  0.8778850188837599\n"
     ]
    }
   ],
   "source": [
    "print('TREE : ',accuracy_score(tree_pred, y_test))\n",
    "print('KNN : ',accuracy_score(knn_pred, y_test))\n",
    "print('LogisticRegression : ',accuracy_score(log_pred, y_test))\n",
    "print(\"Support victor machine : \",accuracy_score(svm_pred,y_test))"
   ]
  },
  {
   "cell_type": "code",
   "execution_count": 215,
   "id": "4c869566",
   "metadata": {},
   "outputs": [
    {
     "name": "stdout",
     "output_type": "stream",
     "text": [
      "TREE :  [0. 0. 1.]\n",
      "KNN :  [0.11111111 0.06227106 0.94502868]\n",
      "LogisticRegression :  [0. 0. 1.]\n",
      "Support victor machine :  [0. 0. 1.]\n"
     ]
    }
   ],
   "source": [
    "print('TREE : ',precision_score(tree_pred, y_test,average=None))\n",
    "print('KNN : ',precision_score(knn_pred, y_test,average=None))\n",
    "print('LogisticRegression : ',precision_score(log_pred, y_test,average=None))\n",
    "print(\"Support victor machine : \",precision_score(svm_pred,y_test,average=None))"
   ]
  },
  {
   "cell_type": "markdown",
   "id": "65f17c12",
   "metadata": {},
   "source": [
    "## Project Questions:\n",
    "\n",
    "### Comparative Analysis\n",
    "\n",
    "- **Compare Metrics**: Examine the performance metrics (such as accuracy, precision, and recall) of each model. Document your observations on which model performs best for your dataset and the problem you're addressing.\n",
    "- **Evaluate Trade-offs**: Discuss the trade-offs you encountered when choosing between models. Consider factors like computational efficiency, ease of implementation, and model interpretability.\n",
    "- **Justify Your Choice**: After comparing and evaluating, explain why you believe one model is the best choice. Provide a clear rationale based on the performance metrics and trade-offs discussed.\n",
    "- **Feature Importance**: Identify and discuss the most important features for the best-performing model. How do these features impact the predictions? Use the visualizations you have created to justify your answer if necessary.\n",
    "- **Model Limitations**: Discuss any limitations you encountered with the models you used. Are there any aspects of the data or the problem that these models do not handle well?\n",
    "- **Future Improvements**: Suggest potential improvements or further steps you could take to enhance model performance. This could include trying different algorithms, feature engineering techniques, or tuning hyperparameters."
   ]
  },
  {
   "cell_type": "markdown",
   "id": "76425529",
   "metadata": {},
   "source": [
    "### Answer Here:"
   ]
  }
 ],
 "metadata": {
  "kernelspec": {
   "display_name": "Python 3",
   "language": "python",
   "name": "python3"
  },
  "language_info": {
   "codemirror_mode": {
    "name": "ipython",
    "version": 3
   },
   "file_extension": ".py",
   "mimetype": "text/x-python",
   "name": "python",
   "nbconvert_exporter": "python",
   "pygments_lexer": "ipython3",
   "version": "3.9.9"
  }
 },
 "nbformat": 4,
 "nbformat_minor": 5
}
