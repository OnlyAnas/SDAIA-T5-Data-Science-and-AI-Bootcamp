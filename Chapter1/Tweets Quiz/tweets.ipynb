{
 "cells": [
  {
   "cell_type": "markdown",
   "metadata": {},
   "source": [
    "# Tweets Sentiment Analysis\n",
    "\n",
    "**Sentiment Analysis**: Social media can be a great place to connect with others and share positive thoughts and experiences. However, it can also be a breeding ground for negativity and hate speech. This project aims to develop a system to rank tweets by kindness in order to promote more positive and supportive online interactions.\n",
    "\n",
    "**Benefits:**\n",
    "\n",
    "The proposed system has the potential to provide a number of benefits, including:\n",
    "\n",
    "- Promoting more positive and supportive online interactions\n",
    "- Reducing the spread of negativity and hate speech\n",
    "- Helping people to find and connect with others who share their values\n",
    "- Making social media a more enjoyable and welcoming place for everyone\n",
    "\n",
    "**Dataset**:\n",
    "\n",
    "1. `tweets.txt` - a list of tweets (one per line)\n",
    "1. `words_positive.txt` - a list of positive words like \"love,\" \"compassion,\" and \"gratitude\"\n",
    "1. `words_negative.txt` - a list of negative words like \"hate,\" \"anger,\" and \"fear\"\n",
    "\n",
    "**Requirements:**\n",
    "\n",
    "The proposed system will use sentiment analysis to identify and rank tweets based on their level of positiveness and negativeness.\n",
    "\n",
    "The system should display the tweets sorted by their score, with the most positive tweets first."
   ]
  },
  {
   "cell_type": "code",
   "execution_count": 31,
   "metadata": {},
   "outputs": [],
   "source": [
    "def store_data(path):\n",
    "    with open(path,'r') as file: # read the data from the path \n",
    "        data = file.readlines() # open the file and store all lines in a list\n",
    "    return [line.strip() for line in data if line.strip()] # Strip lines of whitespace - newline etc.. \n",
    "\n",
    "\n",
    "    # First line.strip () = will filter the spaces in each line ---- Second if line.strip() = will filter the empty lines in all list"
   ]
  },
  {
   "cell_type": "code",
   "execution_count": 32,
   "metadata": {},
   "outputs": [],
   "source": [
    "tweets = store_data('tweets.txt')\n",
    "pos_words = store_data('words_positive.txt')\n",
    "neg_words = store_data('words_negative.txt')"
   ]
  },
  {
   "cell_type": "code",
   "execution_count": 33,
   "metadata": {},
   "outputs": [],
   "source": [
    "def score_tweet(tweet,pos_words,neg_words):\n",
    "    words = tweet.split() # Split the tweets to words \n",
    "    score = 0 # Needed to calculate the socre of the tweet\n",
    "\n",
    "    for word in words:\n",
    "        if word in pos_words:\n",
    "            score+=1 \n",
    "        elif word in neg_words:\n",
    "            score -=1\n",
    "    return score\n"
   ]
  },
  {
   "cell_type": "code",
   "execution_count": 34,
   "metadata": {},
   "outputs": [],
   "source": [
    "tweets_Score = [(tweet, score_tweet(tweet,pos_words,neg_words)) for tweet in tweets] # Calculate the score of the tweets"
   ]
  },
  {
   "cell_type": "code",
   "execution_count": 35,
   "metadata": {},
   "outputs": [],
   "source": [
    "ranking = sorted(tweets_Score, key=lambda x: x[1], reverse=True)"
   ]
  },
  {
   "cell_type": "code",
   "execution_count": 30,
   "metadata": {},
   "outputs": [
    {
     "name": "stdout",
     "output_type": "stream",
     "text": [
      "Tweet :  The intelligent and talented young woman had a bright future ahead of her. She was passionate about her work and she was determined to make a difference in the world  ---- Score =  6\n",
      "Tweet :  The kind and generous old man was always willing to help others. He was a role model for the entire community and he was loved by everyone  ---- Score =  4\n",
      "Tweet :  Grateful for the amazing people in my life who make it so wonderful  ---- Score =  3\n",
      "Tweet :  The beautiful flowers were in full bloom and the sweet scent filled the air. The birds were singing merrily and the sun was shining brightly. It was a perfect day  ---- Score =  3\n",
      "Tweet :  Sending out good vibes to everyone today! Have a beautiful day!  ---- Score =  2\n",
      "Tweet :  Went out with some friends last night but didn't have as much fun as I thought. Felt a bit lonely and left early feeling uneasy.  ---- Score =  1\n",
      "Tweet :    ---- Score =  0\n",
      "Tweet :    ---- Score =  0\n",
      "Tweet :    ---- Score =  0\n",
      "Tweet :    ---- Score =  0\n",
      "Tweet :    ---- Score =  0\n",
      "Tweet :    ---- Score =  0\n",
      "Tweet :    ---- Score =  0\n",
      "Tweet :    ---- Score =  0\n",
      "Tweet :    ---- Score =  0\n",
      "Tweet :    ---- Score =  0\n",
      "Tweet :  All the noise from the construction outside is driving me nuts. It's making working from home dreadful.  ---- Score =  -1\n",
      "Tweet :  I've been feeling so anxious and stressed lately with everything going on. Really need a break from it all.  ---- Score =  -2\n",
      "Tweet :  Traffic was the worst it's ever been today. The long commute just made me feel grumpy and drained.  ---- Score =  -2\n",
      "Tweet :  Had an awful morning - overslept and missed my first meeting. Feeling uneasy about how my boss will react.  ---- Score =  -5\n"
     ]
    }
   ],
   "source": [
    "for tweet, score in ranking: # Print each tweet & Score \n",
    "    ## print('Tweet : ', tweet , '\\n Score = ' , score)\n",
    "    print('Tweet : ' , tweet , ' ---- Score = ' , score) \n",
    "    \n",
    "# The output shows blanks with score = 0 because we didn't filter the empty lines of the tweets "
   ]
  },
  {
   "cell_type": "code",
   "execution_count": 36,
   "metadata": {},
   "outputs": [
    {
     "name": "stdout",
     "output_type": "stream",
     "text": [
      "Tweet :  The intelligent and talented young woman had a bright future ahead of her. She was passionate about her work and she was determined to make a difference in the world  ---- Score =  6\n",
      "Tweet :  The kind and generous old man was always willing to help others. He was a role model for the entire community and he was loved by everyone  ---- Score =  4\n",
      "Tweet :  Grateful for the amazing people in my life who make it so wonderful  ---- Score =  3\n",
      "Tweet :  The beautiful flowers were in full bloom and the sweet scent filled the air. The birds were singing merrily and the sun was shining brightly. It was a perfect day  ---- Score =  3\n",
      "Tweet :  Sending out good vibes to everyone today! Have a beautiful day!  ---- Score =  2\n",
      "Tweet :  Went out with some friends last night but didn't have as much fun as I thought. Felt a bit lonely and left early feeling uneasy.  ---- Score =  1\n",
      "Tweet :  All the noise from the construction outside is driving me nuts. It's making working from home dreadful.  ---- Score =  -1\n",
      "Tweet :  I've been feeling so anxious and stressed lately with everything going on. Really need a break from it all.  ---- Score =  -2\n",
      "Tweet :  Traffic was the worst it's ever been today. The long commute just made me feel grumpy and drained.  ---- Score =  -2\n",
      "Tweet :  Had an awful morning - overslept and missed my first meeting. Feeling uneasy about how my boss will react.  ---- Score =  -5\n"
     ]
    }
   ],
   "source": [
    "for tweet, score in ranking: # Print each tweet & Score \n",
    "    ## print('Tweet : ', tweet , '\\n Score = ' , score)\n",
    "    print('Tweet : ' , tweet , ' ---- Score = ' , score) \n",
    "\n",
    "# We just add line.strip() in store_data"
   ]
  },
  {
   "cell_type": "code",
   "execution_count": null,
   "metadata": {},
   "outputs": [],
   "source": []
  }
 ],
 "metadata": {
  "kernelspec": {
   "display_name": "Python 3",
   "language": "python",
   "name": "python3"
  },
  "language_info": {
   "codemirror_mode": {
    "name": "ipython",
    "version": 3
   },
   "file_extension": ".py",
   "mimetype": "text/x-python",
   "name": "python",
   "nbconvert_exporter": "python",
   "pygments_lexer": "ipython3",
   "version": "3.9.9"
  }
 },
 "nbformat": 4,
 "nbformat_minor": 2
}
