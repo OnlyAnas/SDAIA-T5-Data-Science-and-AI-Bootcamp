{
 "cells": [
  {
   "cell_type": "markdown",
   "id": "cb895b6d",
   "metadata": {},
   "source": [
    "# JSON Tutorial\n",
    "\n",
    "This tutorial will cover the basics of working with JSON in Python."
   ]
  },
  {
   "cell_type": "markdown",
   "id": "2ae2e89e",
   "metadata": {},
   "source": [
    "## What is JSON?\n",
    "\n",
    "JSON (JavaScript Object Notation) is a lightweight data interchange format that's easy for humans to read and write, and easy for machines to parse and generate. JSON is built on two structures:\n",
    "\n",
    "1. A collection of name/value pairs (often called an object, dictionary, hash table, keyed list, or associative array).\n",
    "2. An ordered list of values (often called an array, list, or sequence).\n",
    "\n",
    "JSON is language-independent but uses conventions familiar to programmers of the C-family of languages, including C, C++, Java, JavaScript, Perl, Python, and many others."
   ]
  },
  {
   "cell_type": "markdown",
   "id": "00fb7584",
   "metadata": {},
   "source": [
    "## Working with JSON in Python\n",
    "\n",
    "Python has a built-in library called `json` for working with JSON data."
   ]
  },
  {
   "cell_type": "code",
   "execution_count": 1,
   "id": "028b356c",
   "metadata": {},
   "outputs": [],
   "source": [
    "import json"
   ]
  },
  {
   "cell_type": "markdown",
   "id": "4560d198",
   "metadata": {},
   "source": [
    "### Converting Python Objects to JSON\n",
    "\n",
    "You can convert Python objects such as lists and dictionaries to JSON using the `json.dumps()` method."
   ]
  },
  {
   "cell_type": "code",
   "execution_count": 2,
   "id": "fc15f6a1",
   "metadata": {},
   "outputs": [
    {
     "name": "stdout",
     "output_type": "stream",
     "text": [
      "{\"name\": \"John\", \"age\": 30, \"city\": \"New York\"}\n"
     ]
    }
   ],
   "source": [
    "# Python dictionary\n",
    "person_dict = {\n",
    "    \"name\": \"John\",\n",
    "    \"age\": 30,\n",
    "    \"city\": \"New York\"\n",
    "}\n",
    "\n",
    "# Convert dictionary to JSON string\n",
    "person_json = json.dumps(person_dict)\n",
    "print(person_json)"
   ]
  },
  {
   "cell_type": "markdown",
   "id": "fd4b0ab1",
   "metadata": {},
   "source": [
    "### Converting JSON to Python Objects\n",
    "\n",
    "You can convert JSON data back into Python objects using the `json.loads()` method."
   ]
  },
  {
   "cell_type": "code",
   "execution_count": 3,
   "id": "a310c6e7",
   "metadata": {},
   "outputs": [
    {
     "name": "stdout",
     "output_type": "stream",
     "text": [
      "{'name': 'John', 'age': 30, 'city': 'New York'}\n"
     ]
    }
   ],
   "source": [
    "# JSON string\n",
    "person_json = '{\"name\": \"John\", \"age\": 30, \"city\": \"New York\"}'\n",
    "\n",
    "# Convert JSON string to Python dictionary\n",
    "person_dict = json.loads(person_json)\n",
    "print(person_dict)"
   ]
  },
  {
   "cell_type": "markdown",
   "id": "3937199c",
   "metadata": {},
   "source": [
    "### Reading JSON from a File\n",
    "\n",
    "You can read JSON data from a file using the `json.load()` method."
   ]
  },
  {
   "cell_type": "code",
   "execution_count": 4,
   "id": "45a26180",
   "metadata": {},
   "outputs": [
    {
     "ename": "FileNotFoundError",
     "evalue": "[Errno 2] No such file or directory: 'person.json'",
     "output_type": "error",
     "traceback": [
      "\u001b[1;31m---------------------------------------------------------------------------\u001b[0m",
      "\u001b[1;31mFileNotFoundError\u001b[0m                         Traceback (most recent call last)",
      "Input \u001b[1;32mIn [4]\u001b[0m, in \u001b[0;36m<cell line: 8>\u001b[1;34m()\u001b[0m\n\u001b[0;32m      1\u001b[0m \u001b[38;5;66;03m# Assuming we have a JSON file named 'person.json' with the following content:\u001b[39;00m\n\u001b[0;32m      2\u001b[0m \u001b[38;5;66;03m# {\u001b[39;00m\n\u001b[0;32m      3\u001b[0m \u001b[38;5;66;03m#     \"name\": \"John\",\u001b[39;00m\n\u001b[0;32m      4\u001b[0m \u001b[38;5;66;03m#     \"age\": 30,\u001b[39;00m\n\u001b[0;32m      5\u001b[0m \u001b[38;5;66;03m#     \"city\": \"New York\"\u001b[39;00m\n\u001b[0;32m      6\u001b[0m \u001b[38;5;66;03m# }\u001b[39;00m\n\u001b[1;32m----> 8\u001b[0m \u001b[38;5;28;01mwith\u001b[39;00m \u001b[38;5;28;43mopen\u001b[39;49m\u001b[43m(\u001b[49m\u001b[38;5;124;43m'\u001b[39;49m\u001b[38;5;124;43mperson.json\u001b[39;49m\u001b[38;5;124;43m'\u001b[39;49m\u001b[43m,\u001b[49m\u001b[43m \u001b[49m\u001b[38;5;124;43m'\u001b[39;49m\u001b[38;5;124;43mr\u001b[39;49m\u001b[38;5;124;43m'\u001b[39;49m\u001b[43m)\u001b[49m \u001b[38;5;28;01mas\u001b[39;00m file:\n\u001b[0;32m      9\u001b[0m     person_dict \u001b[38;5;241m=\u001b[39m json\u001b[38;5;241m.\u001b[39mload(file)\n\u001b[0;32m     10\u001b[0m     \u001b[38;5;28mprint\u001b[39m(person_dict)\n",
      "\u001b[1;31mFileNotFoundError\u001b[0m: [Errno 2] No such file or directory: 'person.json'"
     ]
    }
   ],
   "source": [
    "# Assuming we have a JSON file named 'person.json' with the following content:\n",
    "# {\n",
    "#     \"name\": \"John\",\n",
    "#     \"age\": 30,\n",
    "#     \"city\": \"New York\"\n",
    "# }\n",
    "\n",
    "with open('person.json', 'r') as file:\n",
    "    person_dict = json.load(file)\n",
    "    print(person_dict)"
   ]
  },
  {
   "cell_type": "markdown",
   "id": "8158c556",
   "metadata": {},
   "source": [
    "### Writing JSON to a File\n",
    "\n",
    "You can write JSON data to a file using the `json.dump()` method."
   ]
  },
  {
   "cell_type": "code",
   "execution_count": 5,
   "id": "60952867",
   "metadata": {},
   "outputs": [],
   "source": [
    "# Python dictionary\n",
    "person_dict = {\n",
    "    \"name\": \"John\",\n",
    "    \"age\": 30,\n",
    "    \"city\": \"New York\"\n",
    "}\n",
    "\n",
    "# Write dictionary to JSON file\n",
    "with open('person.json', 'w') as file:\n",
    "    json.dump(person_dict, file)"
   ]
  },
  {
   "cell_type": "markdown",
   "id": "26e5a744",
   "metadata": {},
   "source": [
    "### Pretty Printing JSON\n",
    "\n",
    "You can use the `json.dumps()` method with the `indent` parameter to pretty print JSON data."
   ]
  },
  {
   "cell_type": "code",
   "execution_count": 8,
   "id": "802948bd",
   "metadata": {},
   "outputs": [
    {
     "name": "stdout",
     "output_type": "stream",
     "text": [
      "{\n",
      "    \"name\": \"John\",\n",
      "    \"age\": 30,\n",
      "    \"city\": \"New York\"\n",
      "}\n"
     ]
    }
   ],
   "source": [
    "# Python dictionary\n",
    "person_dict = {\n",
    "    \"name\": \"John\",\n",
    "    \"age\": 30,\n",
    "    \"city\": \"New York\"\n",
    "}\n",
    "\n",
    "# Convert dictionary to JSON string with indentation\n",
    "person_json = json.dumps(person_dict, indent=4)\n",
    "print(person_json)"
   ]
  },
  {
   "cell_type": "markdown",
   "id": "d53b04ab",
   "metadata": {},
   "source": [
    "## Summary\n",
    "\n",
    "In this tutorial, we've covered the basics of working with JSON in Python, including converting between Python objects and JSON, reading from and writing to JSON files, and pretty printing JSON data."
   ]
  }
 ],
 "metadata": {
  "kernelspec": {
   "display_name": "Python 3",
   "language": "python",
   "name": "python3"
  },
  "language_info": {
   "codemirror_mode": {
    "name": "ipython",
    "version": 3
   },
   "file_extension": ".py",
   "mimetype": "text/x-python",
   "name": "python",
   "nbconvert_exporter": "python",
   "pygments_lexer": "ipython3",
   "version": "3.9.9"
  }
 },
 "nbformat": 4,
 "nbformat_minor": 5
}
