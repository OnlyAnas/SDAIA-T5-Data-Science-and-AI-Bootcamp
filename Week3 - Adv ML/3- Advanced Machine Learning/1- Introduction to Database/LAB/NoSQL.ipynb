{
 "cells": [
  {
   "cell_type": "code",
   "execution_count": null,
   "metadata": {},
   "outputs": [],
   "source": [
    "!pip install pymongo"
   ]
  },
  {
   "cell_type": "markdown",
   "metadata": {},
   "source": [
    "### Import libraries"
   ]
  },
  {
   "cell_type": "code",
   "execution_count": null,
   "metadata": {},
   "outputs": [],
   "source": [
    "import pymongo\n",
    "from pymongo import MongoClient\n",
    "import os"
   ]
  },
  {
   "cell_type": "markdown",
   "metadata": {},
   "source": [
    "### Establish connection to MongoDB"
   ]
  },
  {
   "cell_type": "code",
   "execution_count": null,
   "metadata": {},
   "outputs": [],
   "source": [
    "# Connect to MongoDB\n",
    "CONNECTION_STRING = os.environ.get('CONNECTION_STRING')\n",
    "client = MongoClient(CONNECTION_STRING)\n",
    "\n",
    "# Create a database\n",
    "db = client['database_name']\n",
    "\n",
    "# Create a collection\n",
    "employees_collection = db['collection_name']\n",
    "\n",
    "'''\n",
    "Example:\n",
    "\n",
    "# Connect to MongoDB\n",
    "CONNECTION_STRING = os.environ.get('CONNECTION_STRING')\n",
    "client = MongoClient(CONNECTION_STRING)\n",
    "\n",
    "# Create a database\n",
    "db = client['test']\n",
    "\n",
    "# Create a collection\n",
    "employees_collection = db['employees']\n",
    "'''"
   ]
  },
  {
   "cell_type": "markdown",
   "metadata": {},
   "source": [
    "### Insert documents"
   ]
  },
  {
   "cell_type": "code",
   "execution_count": null,
   "metadata": {},
   "outputs": [],
   "source": [
    "# Insert single documetn\n",
    "employees_collection.insert_one({'name': 'John', 'age': 25, 'country': 'USA'})\n",
    "employees_collection.insert_one({'name': 'John', 'age': 28, 'country': 'UK'})\n",
    "employees_collection.insert_one({'name': 'Jane', 'age': 22, 'country': 'UK'})\n",
    "employees_collection.insert_one({'name': 'Ahmed', 'age': 30, 'country': 'Egypt'})\n",
    "# Insert multiple documents\n",
    "employees_collection.insert_many([\n",
    "    {'name': 'Ali', 'age': 35, 'country': 'Saudi Arabia'},\n",
    "    {'name': 'Mohammed', 'age': 40, 'country': 'Kuwait'},\n",
    "    {'name': 'Sara', 'age': 20, 'country': 'UAE'}\n",
    "])"
   ]
  },
  {
   "cell_type": "markdown",
   "metadata": {},
   "source": [
    "### Query"
   ]
  },
  {
   "cell_type": "code",
   "execution_count": null,
   "metadata": {},
   "outputs": [],
   "source": [
    "# Find documents\n",
    "first_jhon = employees_collection.find_one({'name': 'John'})\n",
    "print(first_jhon)\n",
    "# Find all the documents in the collection with the name 'John'\n",
    "results = employees_collection.find({'name': 'John'})\n",
    "for employee in results:\n",
    "    print(employee)\n",
    "    print(f'Age: {employee['age']}')\n",
    "    print(f'Country: {employee['country']}')\n",
    "    print('-----------------')"
   ]
  },
  {
   "cell_type": "markdown",
   "metadata": {},
   "source": [
    "### Update"
   ]
  },
  {
   "cell_type": "code",
   "execution_count": null,
   "metadata": {},
   "outputs": [],
   "source": [
    "# Update single document\n",
    "employees_collection.update_one({'name': 'John'}, {'$set': {'age': 30}})\n",
    "\n",
    "# Update multiple documents\n",
    "employees_collection.update_many({'name': 'John'}, {'$set': {'country': 'China'}})"
   ]
  },
  {
   "cell_type": "markdown",
   "metadata": {},
   "source": [
    "### Delete"
   ]
  },
  {
   "cell_type": "code",
   "execution_count": null,
   "metadata": {},
   "outputs": [],
   "source": [
    "# Delete single document\n",
    "employees_collection.delete_one({'name': 'Jane'})\n",
    "\n",
    "# Delete multiple documents\n",
    "employees_collection.delete_many({'name': 'John'})"
   ]
  }
 ],
 "metadata": {
  "kernelspec": {
   "display_name": "venv",
   "language": "python",
   "name": "python3"
  },
  "language_info": {
   "codemirror_mode": {
    "name": "ipython",
    "version": 3
   },
   "file_extension": ".py",
   "mimetype": "text/x-python",
   "name": "python",
   "nbconvert_exporter": "python",
   "pygments_lexer": "ipython3",
   "version": "3.12.4"
  }
 },
 "nbformat": 4,
 "nbformat_minor": 2
}
