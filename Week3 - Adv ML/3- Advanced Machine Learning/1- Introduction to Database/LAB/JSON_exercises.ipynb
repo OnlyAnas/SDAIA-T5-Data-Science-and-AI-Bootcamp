{
 "cells": [
  {
   "cell_type": "markdown",
   "id": "6b5c524a",
   "metadata": {},
   "source": [
    "# JSON Practice Exercises\n",
    "\n",
    "These exercises will help you practice working with JSON in Python."
   ]
  },
  {
   "cell_type": "markdown",
   "id": "530fc65c",
   "metadata": {},
   "source": [
    "## Exercise 1: Converting Python Objects to JSON\n",
    "\n",
    "Create a Python dictionary representing a book with the following attributes:\n",
    "- title\n",
    "- author\n",
    "- year\n",
    "\n",
    "Convert this dictionary to a JSON string using `json.dumps()` and print the result."
   ]
  },
  {
   "cell_type": "code",
   "execution_count": 4,
   "id": "f74a5ed5",
   "metadata": {},
   "outputs": [
    {
     "data": {
      "text/plain": [
       "'{\"Name\": \"Anas\", \"Age\": 23}'"
      ]
     },
     "execution_count": 4,
     "metadata": {},
     "output_type": "execute_result"
    }
   ],
   "source": [
    "import json\n",
    "# Your code here\n",
    "p_dict = {'Name':'Anas', \"Age\":23}\n",
    "\n",
    "p_json = json.dumps(p_dict)\n",
    "\n",
    "p_json"
   ]
  },
  {
   "cell_type": "markdown",
   "id": "84799d52",
   "metadata": {},
   "source": [
    "## Exercise 2: Converting JSON to Python Objects\n",
    "\n",
    "Given the following JSON string:\n",
    "```json\n",
    "'{\"name\": \"Alice\", \"age\": 25, \"city\": \"Wonderland\"}'\n",
    "```\n",
    "Convert this JSON string to a Python dictionary using `json.loads()` and print the result."
   ]
  },
  {
   "cell_type": "code",
   "execution_count": 8,
   "id": "a2ba7ced",
   "metadata": {},
   "outputs": [
    {
     "name": "stdout",
     "output_type": "stream",
     "text": [
      "<class 'str'>\n",
      "{'name': 'Alice', 'age': 25, 'city': 'Wonderland'}\n"
     ]
    },
    {
     "data": {
      "text/plain": [
       "dict"
      ]
     },
     "execution_count": 8,
     "metadata": {},
     "output_type": "execute_result"
    }
   ],
   "source": [
    "# Your code here\n",
    "p_json1 = '{\"name\": \"Alice\", \"age\": 25, \"city\": \"Wonderland\"}'\n",
    "\n",
    "print(type(p_json1))\n",
    "\n",
    "p_dict1 = json.loads(p_json1)\n",
    "\n",
    "print(p_dict1)\n",
    "type(p_dict1)"
   ]
  },
  {
   "cell_type": "markdown",
   "id": "e291d203",
   "metadata": {},
   "source": [
    "## Exercise 3: Reading JSON from a File\n",
    "\n",
    "Write a Python script to read the following JSON data from a file named `data.json` and print it:\n",
    "```json\n",
    "{\n",
    "    \"name\": \"Bob\",\n",
    "    \"age\": 22,\n",
    "    \"city\": \"Paris\"\n",
    "}\n",
    "```"
   ]
  },
  {
   "cell_type": "code",
   "execution_count": 9,
   "id": "a5655d4b",
   "metadata": {},
   "outputs": [
    {
     "ename": "FileNotFoundError",
     "evalue": "[Errno 2] No such file or directory: 'data.json'",
     "output_type": "error",
     "traceback": [
      "\u001b[1;31m---------------------------------------------------------------------------\u001b[0m",
      "\u001b[1;31mFileNotFoundError\u001b[0m                         Traceback (most recent call last)",
      "Input \u001b[1;32mIn [9]\u001b[0m, in \u001b[0;36m<cell line: 2>\u001b[1;34m()\u001b[0m\n\u001b[0;32m      1\u001b[0m \u001b[38;5;66;03m# Your code here\u001b[39;00m\n\u001b[1;32m----> 2\u001b[0m \u001b[38;5;28;01mwith\u001b[39;00m \u001b[38;5;28;43mopen\u001b[39;49m\u001b[43m(\u001b[49m\u001b[38;5;124;43m'\u001b[39;49m\u001b[38;5;124;43mdata.json\u001b[39;49m\u001b[38;5;124;43m'\u001b[39;49m\u001b[43m,\u001b[49m\u001b[38;5;124;43m'\u001b[39;49m\u001b[38;5;124;43mr\u001b[39;49m\u001b[38;5;124;43m'\u001b[39;49m\u001b[43m)\u001b[49m \u001b[38;5;28;01mas\u001b[39;00m file:\n\u001b[0;32m      3\u001b[0m     py_dict3 \u001b[38;5;241m=\u001b[39m json\u001b[38;5;241m.\u001b[39mloads(file)\n",
      "\u001b[1;31mFileNotFoundError\u001b[0m: [Errno 2] No such file or directory: 'data.json'"
     ]
    }
   ],
   "source": [
    "# Your code here\n",
    "with open('data.json','r') as file:\n",
    "    py_dict3 = json.loads(file)\n"
   ]
  },
  {
   "cell_type": "markdown",
   "id": "7b83b8f8",
   "metadata": {},
   "source": [
    "## Exercise 4: Writing JSON to a File\n",
    "\n",
    "Create a Python dictionary representing a student with the following attributes:\n",
    "- name\n",
    "- grade\n",
    "- subjects (a list of subjects)\n",
    "\n",
    "Write this dictionary to a JSON file named `student.json` using `json.dump()`."
   ]
  },
  {
   "cell_type": "code",
   "execution_count": 12,
   "id": "96c1b087",
   "metadata": {},
   "outputs": [
    {
     "data": {
      "text/plain": [
       "'{\"name\": \"Anas\", \"grade\": \"99\", \"subject\": [\"A\", \"B\"]}'"
      ]
     },
     "execution_count": 12,
     "metadata": {},
     "output_type": "execute_result"
    }
   ],
   "source": [
    "# Your code here\n",
    "py_dict4 = {'name':'Anas','grade':'99',\"subject\": ['A','B']}\n",
    "\n",
    "p_json3 = json.dumps(py_dict4)\n",
    "p_json3"
   ]
  },
  {
   "cell_type": "markdown",
   "id": "7d9b3849",
   "metadata": {},
   "source": [
    "## Exercise 5: Pretty Printing JSON\n",
    "\n",
    "Given a Python dictionary representing a movie with the following attributes:\n",
    "- title\n",
    "- director\n",
    "- year\n",
    "- genre\n",
    "\n",
    "Convert this dictionary to a JSON string with indentation using `json.dumps()` and print the result."
   ]
  },
  {
   "cell_type": "code",
   "execution_count": 16,
   "id": "cfe017d4",
   "metadata": {},
   "outputs": [
    {
     "name": "stdout",
     "output_type": "stream",
     "text": [
      "{\n",
      "    \"name\": \"Anas\",\n",
      "    \"grade\": \"99\",\n",
      "    \"subject\": [\n",
      "        \"A\",\n",
      "        \"B\"\n",
      "    ]\n",
      "}\n"
     ]
    }
   ],
   "source": [
    "# Your code here\n",
    "print(json.dumps(py_dict4, indent=4))"
   ]
  },
  {
   "cell_type": "code",
   "execution_count": null,
   "id": "8992e0a1",
   "metadata": {},
   "outputs": [],
   "source": []
  }
 ],
 "metadata": {
  "kernelspec": {
   "display_name": "Python 3",
   "language": "python",
   "name": "python3"
  },
  "language_info": {
   "codemirror_mode": {
    "name": "ipython",
    "version": 3
   },
   "file_extension": ".py",
   "mimetype": "text/x-python",
   "name": "python",
   "nbconvert_exporter": "python",
   "pygments_lexer": "ipython3",
   "version": "3.9.9"
  }
 },
 "nbformat": 4,
 "nbformat_minor": 5
}
