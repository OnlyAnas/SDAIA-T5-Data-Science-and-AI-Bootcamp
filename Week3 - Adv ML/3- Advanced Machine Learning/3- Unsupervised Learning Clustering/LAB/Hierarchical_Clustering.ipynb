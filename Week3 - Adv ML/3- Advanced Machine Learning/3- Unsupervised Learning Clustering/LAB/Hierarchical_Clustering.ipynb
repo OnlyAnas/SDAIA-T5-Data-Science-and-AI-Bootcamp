{
  "cells": [
    {
      "cell_type": "markdown",
      "metadata": {
        "id": "4e6V-qSMAXvS"
      },
      "source": [
        "#**Python Implementation using the scikit-learn library**"
      ]
    },
    {
      "cell_type": "markdown",
      "metadata": {
        "id": "Sgm2w_pxAg9T"
      },
      "source": [
        "#Step 1 : import libraries"
      ]
    },
    {
      "cell_type": "code",
      "execution_count": 1,
      "metadata": {
        "id": "u_JngPINAVKr"
      },
      "outputs": [],
      "source": [
        "import numpy as np\n",
        "from scipy.cluster.hierarchy import dendrogram, linkage\n",
        "import matplotlib.pyplot as plt\n"
      ]
    },
    {
      "cell_type": "markdown",
      "metadata": {
        "id": "MhY9ICWhA0Pa"
      },
      "source": [
        "#Step 2 : randomly chosen dataset"
      ]
    },
    {
      "cell_type": "code",
      "execution_count": 2,
      "metadata": {
        "id": "VYbzzX4IApVo"
      },
      "outputs": [],
      "source": [
        "X = np.array([[1, 2], [1, 4], [1, 0],\n",
        "              [4, 2], [4, 4], [4, 0]])\n"
      ]
    },
    {
      "cell_type": "markdown",
      "metadata": {
        "id": "DQMzE7CyA7zp"
      },
      "source": [
        "#Step 3 : Perform hierarchical clustering  + Ploting\n"
      ]
    },
    {
      "cell_type": "code",
      "execution_count": 3,
      "metadata": {
        "colab": {
          "base_uri": "https://localhost:8080/",
          "height": 476
        },
        "id": "K5KNTRWYBIJH",
        "outputId": "e251ded1-23d1-4c7b-c95d-821d33db254f"
      },
      "outputs": [
        {
          "data": {
            "image/png": "[encoded data removed]",
            "text/plain": [
              "<Figure size 432x288 with 1 Axes>"
            ]
          },
          "metadata": {
            "needs_background": "light"
          },
          "output_type": "display_data"
        }
      ],
      "source": [
        "Z = linkage(X, 'ward')\n",
        "\n",
        "# Plot dendrogram\n",
        "dendrogram(Z)\n",
        "\n",
        "plt.title('Hierarchical Clustering Dendrogram')\n",
        "plt.xlabel('Data point')\n",
        "plt.ylabel('Distance')\n",
        "plt.show()\n"
      ]
    }
  ],
  "metadata": {
    "colab": {
      "provenance": []
    },
    "kernelspec": {
      "display_name": "Python 3",
      "name": "python3"
    },
    "language_info": {
      "codemirror_mode": {
        "name": "ipython",
        "version": 3
      },
      "file_extension": ".py",
      "mimetype": "text/x-python",
      "name": "python",
      "nbconvert_exporter": "python",
      "pygments_lexer": "ipython3",
      "version": "3.9.9"
    }
  },
  "nbformat": 4,
  "nbformat_minor": 0
}
