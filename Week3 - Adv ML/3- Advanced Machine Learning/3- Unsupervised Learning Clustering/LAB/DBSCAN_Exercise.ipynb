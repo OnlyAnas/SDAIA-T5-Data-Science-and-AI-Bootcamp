{
  "cells": [
    {
      "cell_type": "markdown",
      "metadata": {
        "id": "WLQzuoxi9Nfq"
      },
      "source": [
        "#**DBSCAN**\n"
      ]
    },
    {
      "cell_type": "markdown",
      "metadata": {
        "id": "_3zW-i7I9O_b"
      },
      "source": [
        "#Step 1 : Import Libraries\n",
        "\n"
      ]
    },
    {
      "cell_type": "code",
      "execution_count": 1,
      "metadata": {
        "id": "cAhG72k89JCs"
      },
      "outputs": [],
      "source": [
        "import matplotlib.pyplot as plt\n",
        "import numpy as np\n",
        "from sklearn.cluster import DBSCAN\n",
        "from sklearn import metrics\n",
        "from sklearn.datasets import make_blobs\n",
        "from sklearn.preprocessing import StandardScaler\n",
        "from sklearn import datasets\n"
      ]
    },
    {
      "cell_type": "markdown",
      "metadata": {
        "id": "5Knv40zd9TeJ"
      },
      "source": [
        "#Step 2 : Prepare dataset\n",
        "###**use make blobs with different numbers**\n",
        "\n"
      ]
    },
    {
      "cell_type": "code",
      "execution_count": 340,
      "metadata": {
        "id": "NqEujM0J9TCn"
      },
      "outputs": [],
      "source": [
        "# Load data in X\n",
        "x, y = make_blobs(n_samples=1000, centers=4,cluster_std=0.50, random_state=0)\n"
      ]
    },
    {
      "cell_type": "markdown",
      "metadata": {
        "id": "8GtmnKoI9kNm"
      },
      "source": [
        "#Step 3 : Modeling The Data Using DBSCAN\n",
        "\n"
      ]
    },
    {
      "cell_type": "code",
      "execution_count": 341,
      "metadata": {
        "id": "fOTAfBFA9i_y"
      },
      "outputs": [],
      "source": [
        "db = DBSCAN(eps=0.4,min_samples=10).fit(x)"
      ]
    },
    {
      "cell_type": "code",
      "execution_count": 342,
      "metadata": {},
      "outputs": [],
      "source": [
        "core_samples_mask = np.zeros_like(db.labels_, dtype=bool)\n",
        "core_samples_mask[db.core_sample_indices_] = True\n",
        "labels = db.labels_\n",
        "#labels"
      ]
    },
    {
      "cell_type": "code",
      "execution_count": 343,
      "metadata": {},
      "outputs": [],
      "source": [
        "n_clusters_ = len(set(labels)) - (1 if -1 in labels else 0)"
      ]
    },
    {
      "cell_type": "code",
      "execution_count": 344,
      "metadata": {},
      "outputs": [
        {
          "name": "stdout",
          "output_type": "stream",
          "text": [
            "['y', 'b', 'g', 'r']\n"
          ]
        },
        {
          "data": {
            "image/png": "[encoded data removed]",
            "text/plain": [
              "<Figure size 432x288 with 1 Axes>"
            ]
          },
          "metadata": {
            "needs_background": "light"
          },
          "output_type": "display_data"
        }
      ],
      "source": [
        "# Black removed and is used for noise instead.\n",
        "unique_labels = set(labels)\n",
        "colors = ['y', 'b', 'g', 'r']\n",
        "print(colors)\n",
        "for k, col in zip(unique_labels, colors):\n",
        "    if k == -1:\n",
        "        # Black used for noise.\n",
        "        col = 'k'\n",
        "\n",
        "    class_member_mask = (labels == k)\n",
        "\n",
        "    xy = x[class_member_mask & core_samples_mask]\n",
        "    plt.plot(xy[:, 0], xy[:, 1], 'o', markerfacecolor=col,\n",
        "             markeredgecolor='k',\n",
        "             markersize=6)\n",
        "\n",
        "    xy = x[class_member_mask & ~core_samples_mask]\n",
        "    plt.plot(xy[:, 0], xy[:, 1], 'o', markerfacecolor=col,\n",
        "             markeredgecolor='k',\n",
        "             markersize=6)\n",
        "\n",
        "plt.title('number of clusters: %d' % n_clusters_)\n",
        "plt.show()\n"
      ]
    },
    {
      "cell_type": "markdown",
      "metadata": {
        "id": "ijz9iIqa9u3g"
      },
      "source": [
        "#Step 4 : Evaluation Metrics For DBSCAN Algorithm In Machine Learning\n"
      ]
    },
    {
      "cell_type": "code",
      "execution_count": 345,
      "metadata": {
        "id": "PFmYeD5U9x2S"
      },
      "outputs": [
        {
          "name": "stdout",
          "output_type": "stream",
          "text": [
            "Silhouette Coefficient:0.71\n",
            "Adjusted Rand Index: 0.97\n"
          ]
        }
      ],
      "source": [
        "from sklearn import metrics\n",
        "sc = metrics.silhouette_score(x, labels)\n",
        "print(\"Silhouette Coefficient:%0.2f\" % sc)\n",
        "ari = metrics.adjusted_rand_score(y, labels)\n",
        "print(\"Adjusted Rand Index: %0.2f\" % ari)"
      ]
    },
    {
      "cell_type": "markdown",
      "metadata": {
        "id": "ZzXNoxfh9-y9"
      },
      "source": [
        "#**Well Done :)**"
      ]
    },
    {
      "cell_type": "markdown",
      "metadata": {},
      "source": []
    }
  ],
  "metadata": {
    "colab": {
      "provenance": []
    },
    "kernelspec": {
      "display_name": "Python 3",
      "name": "python3"
    },
    "language_info": {
      "codemirror_mode": {
        "name": "ipython",
        "version": 3
      },
      "file_extension": ".py",
      "mimetype": "text/x-python",
      "name": "python",
      "nbconvert_exporter": "python",
      "pygments_lexer": "ipython3",
      "version": "3.9.9"
    }
  },
  "nbformat": 4,
  "nbformat_minor": 0
}
