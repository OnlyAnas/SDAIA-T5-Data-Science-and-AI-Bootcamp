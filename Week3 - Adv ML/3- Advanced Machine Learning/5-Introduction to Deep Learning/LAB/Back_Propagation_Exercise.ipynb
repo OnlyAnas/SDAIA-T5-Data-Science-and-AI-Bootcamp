{
  "cells": [
    {
      "cell_type": "markdown",
      "metadata": {
        "id": "E9uCkFiBGnWc"
      },
      "source": [
        "#**Back Propagation**"
      ]
    },
    {
      "cell_type": "markdown",
      "metadata": {
        "id": "U02xjPIyG1cZ"
      },
      "source": [
        "#Step 1 : import libraries"
      ]
    },
    {
      "cell_type": "code",
      "execution_count": 39,
      "metadata": {
        "id": "Fx3E4_efG5Do"
      },
      "outputs": [],
      "source": [
        "import pandas as pd\n",
        "import numpy as np"
      ]
    },
    {
      "cell_type": "markdown",
      "metadata": {
        "id": "eHvhfU6MGtpk"
      },
      "source": [
        "#Step 2 :Load the Dataset\n",
        "###Upload palmer penguins dataset \" / LAB/ Dataset/ penguins.csv\n",
        "\n",
        "\n",
        "\n"
      ]
    },
    {
      "cell_type": "code",
      "execution_count": 52,
      "metadata": {
        "id": "btqadzfLGmQD"
      },
      "outputs": [],
      "source": [
        "# Loading dataset\n",
        "df = pd.read_csv('Datasets\\penguins_size.csv')\n",
        "\n",
        "# Dividing the dataset into target variable and features\n",
        "\n",
        "x = df[['species','island','culmen_length_mm','culmen_depth_mm','flipper_length_mm','body_mass_g']]\n",
        "y = df[['sex']]\n"
      ]
    },
    {
      "cell_type": "markdown",
      "metadata": {
        "id": "cuyxnZAWHIGk"
      },
      "source": [
        "#Step 3: Split Dataset in Training and Testing\n"
      ]
    },
    {
      "cell_type": "code",
      "execution_count": 53,
      "metadata": {
        "id": "TMNbaJekHCid"
      },
      "outputs": [],
      "source": [
        "# Split dataset into training and test sets\n",
        "\n",
        "from sklearn.model_selection import train_test_split\n",
        "\n",
        "x_train, x_test , y_train , y_test = train_test_split(x,y,test_size=0.2,random_state=23)\n"
      ]
    },
    {
      "cell_type": "markdown",
      "metadata": {
        "id": "yfoa5GAXHhUD"
      },
      "source": [
        "# Step 4 : initializing the hyperparameters"
      ]
    },
    {
      "cell_type": "code",
      "execution_count": 54,
      "metadata": {
        "id": "gCYVcC4THc7i"
      },
      "outputs": [],
      "source": [
        "\n",
        "# Input features\n",
        "input = 6\n",
        "# Hidden layers\n",
        "hidden = 3\n",
        "# Output layer\n",
        "output = 2"
      ]
    },
    {
      "cell_type": "markdown",
      "metadata": {
        "id": "IHrgBvH7HtCr"
      },
      "source": [
        "#Step 5 : Initialize Weights"
      ]
    },
    {
      "cell_type": "code",
      "execution_count": 55,
      "metadata": {
        "id": "RAba9ZSXHwvm"
      },
      "outputs": [],
      "source": [
        "\n",
        "# Hidden layer\n",
        "w1 = np.random.normal(scale=0.5, size=(input , hidden))\n",
        "\n",
        "w2 = np.random.normal(scale=0.5, size=(hidden,hidden))\n",
        "\n",
        "#output layer\n",
        "w3 = np.random.normal(scale=0.5, size=(hidden,output))\n"
      ]
    },
    {
      "cell_type": "markdown",
      "metadata": {
        "id": "IE37VIICH1QA"
      },
      "source": [
        "#Step 6 : mean squared error, accuracy and sigmoid.\n",
        "\n"
      ]
    },
    {
      "cell_type": "code",
      "execution_count": 56,
      "metadata": {
        "id": "sLYRpQ-HH0ms"
      },
      "outputs": [],
      "source": [
        "# Helper functions\n",
        "def sigmoid(x):\n",
        "    return 1 / (1 + np.exp(-x))\n",
        "\n",
        "def mean_squared_error(y_pred, y_true):\n",
        "    # One-hot encode y_true (i.e., convert [0, 1, 2] into [[1, 0, 0], [0, 1, 0], [0, 0, 1]])\n",
        "    y_true_one_hot = np.eye(output)[y_true]\n",
        "\n",
        "    # Reshape y_true_one_hot to match y_pred shape\n",
        "    y_true_reshaped = y_true_one_hot.reshape(y_pred.shape)\n",
        "\n",
        "    # Compute the mean squared error between y_pred and y_true_reshaped\n",
        "    error = ((y_pred - y_true_reshaped)**2).sum() / (2*y_pred.size)\n",
        "\n",
        "    return error\n",
        "\n",
        "def accuracy(y_pred, y_true):\n",
        "    acc = y_pred.argmax(axis=1) ==  y_true.argmax(axis=1)\n",
        "    return acc.mean()\n"
      ]
    },
    {
      "cell_type": "code",
      "execution_count": 59,
      "metadata": {},
      "outputs": [],
      "source": [
        "\n",
        "from sklearn.preprocessing import LabelEncoder\n",
        "encoder = LabelEncoder()\n"
      ]
    },
    {
      "cell_type": "markdown",
      "metadata": {
        "id": "g1AZMCfcIqMi"
      },
      "source": [
        "#Step 7 : Building the Backpropogation Model in Python\n",
        "###We will create a for loop for a given number of iterations and will update the weights in each iteration. The model will go through three phases feedforward propagation, the error calculation phase, and the backpropagation phase.\n"
      ]
    },
    {
      "cell_type": "code",
      "execution_count": 60,
      "metadata": {
        "id": "B-bjwuX2ILsm"
      },
      "outputs": [
        {
          "ename": "TypeError",
          "evalue": "can't multiply sequence by non-int of type 'float'",
          "output_type": "error",
          "traceback": [
            "\u001b[1;31m---------------------------------------------------------------------------\u001b[0m",
            "\u001b[1;31mTypeError\u001b[0m                                 Traceback (most recent call last)",
            "Input \u001b[1;32mIn [60]\u001b[0m, in \u001b[0;36m<cell line: 6>\u001b[1;34m()\u001b[0m\n\u001b[0;32m      5\u001b[0m \u001b[38;5;66;03m# Training loop\u001b[39;00m\n\u001b[0;32m      6\u001b[0m \u001b[38;5;28;01mfor\u001b[39;00m i \u001b[38;5;129;01min\u001b[39;00m \u001b[38;5;28mrange\u001b[39m(iterations):\n\u001b[0;32m      7\u001b[0m     \u001b[38;5;66;03m# Feedforward propagation\u001b[39;00m\n\u001b[1;32m----> 8\u001b[0m     Z1 \u001b[38;5;241m=\u001b[39m \u001b[43mnp\u001b[49m\u001b[38;5;241;43m.\u001b[39;49m\u001b[43mdot\u001b[49m\u001b[43m(\u001b[49m\u001b[43mx_train\u001b[49m\u001b[43m,\u001b[49m\u001b[43m \u001b[49m\u001b[43mw1\u001b[49m\u001b[43m)\u001b[49m\n\u001b[0;32m      9\u001b[0m     A1 \u001b[38;5;241m=\u001b[39m sigmoid(Z1)\n\u001b[0;32m     10\u001b[0m     Z2 \u001b[38;5;241m=\u001b[39m np\u001b[38;5;241m.\u001b[39mdot(A1, w2)\n",
            "\u001b[1;31mTypeError\u001b[0m: can't multiply sequence by non-int of type 'float'"
          ]
        }
      ],
      "source": [
        "learning_rate = 0.1\n",
        "iterations = 1000\n",
        "N = y_train.size\n",
        "\n",
        "# Training loop\n",
        "for i in range(iterations):\n",
        "    # Feedforward propagation\n",
        "    Z1 = np.dot(x_train, w1)\n",
        "    A1 = sigmoid(Z1)\n",
        "    Z2 = np.dot(A1, w2)\n",
        "    A2 = sigmoid(Z2)\n",
        "\n",
        "    # Calculate error\n",
        "    mse = mean_squared_error(A2, y_train)\n",
        "    acc = accuracy(np.eye(output)[y_train], A2)\n",
        "    new_row = pd.DataFrame({\"mse\": [mse], \"accuracy\": [acc]})\n",
        "    results = pd.concat([results, new_row], ignore_index=True)\n",
        "\n",
        "    # Backpropagation\n",
        "    E1 = A2 - np.eye(output)[y_train]\n",
        "    dW1 = E1 * A2 * (1 - A2)\n",
        "    E2 = np.dot(dW1, w2.T)\n",
        "    dW2 = E2 * A1 * (1 - A1)\n",
        "\n",
        "    # Update weights\n",
        "    W2_update = np.dot(A1.T, dW1) / N\n",
        "    W1_update = np.dot(x_train.T, dW2) / N\n",
        "    W2 = W2 - learning_rate * W2_update\n",
        "    W1 = W1 - learning_rate * W1_update\n",
        "\n",
        "# Need to use encoder to be numerical"
      ]
    },
    {
      "cell_type": "markdown",
      "metadata": {
        "id": "ByknpjOWJVBv"
      },
      "source": []
    },
    {
      "cell_type": "markdown",
      "metadata": {
        "id": "NZitfndrLnI8"
      },
      "source": [
        "# Step 8 : Plot the mean squared error and accuracy using the pandas plot() function.\n",
        "\n"
      ]
    },
    {
      "cell_type": "code",
      "execution_count": 6,
      "metadata": {
        "id": "1f6f-aMMLsfa"
      },
      "outputs": [],
      "source": []
    },
    {
      "cell_type": "markdown",
      "metadata": {
        "id": "M1ES5bR_Lzy1"
      },
      "source": [
        "###Now we will calculate the accuracy of the model.\n",
        "\n"
      ]
    },
    {
      "cell_type": "code",
      "execution_count": 7,
      "metadata": {
        "id": "_YvQLRVRLzK9"
      },
      "outputs": [],
      "source": [
        "# Test the model\n",
        "\n"
      ]
    },
    {
      "cell_type": "markdown",
      "metadata": {
        "id": "b0uAIhZlLx6h"
      },
      "source": [
        "#**Well Done :)**"
      ]
    }
  ],
  "metadata": {
    "colab": {
      "provenance": []
    },
    "kernelspec": {
      "display_name": "Python 3",
      "name": "python3"
    },
    "language_info": {
      "codemirror_mode": {
        "name": "ipython",
        "version": 3
      },
      "file_extension": ".py",
      "mimetype": "text/x-python",
      "name": "python",
      "nbconvert_exporter": "python",
      "pygments_lexer": "ipython3",
      "version": "3.9.9"
    }
  },
  "nbformat": 4,
  "nbformat_minor": 0
}
