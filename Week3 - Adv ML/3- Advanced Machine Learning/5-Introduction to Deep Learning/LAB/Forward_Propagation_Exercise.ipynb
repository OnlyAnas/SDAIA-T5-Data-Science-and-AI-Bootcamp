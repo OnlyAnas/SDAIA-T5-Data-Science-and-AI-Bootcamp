{
  "cells": [
    {
      "cell_type": "markdown",
      "metadata": {
        "id": "d7Zr2TUm7ma1"
      },
      "source": [
        "# **Forward Propagation**"
      ]
    },
    {
      "cell_type": "markdown",
      "metadata": {
        "id": "2ekenUWc7qGF"
      },
      "source": [
        "#Step 1 : import libraries"
      ]
    },
    {
      "cell_type": "code",
      "execution_count": 5,
      "metadata": {
        "id": "cu0RHYxn7dHX"
      },
      "outputs": [],
      "source": [
        "import numpy as np\n",
        "import pandas as pd"
      ]
    },
    {
      "cell_type": "markdown",
      "metadata": {
        "id": "oS9BUiVS78wj"
      },
      "source": [
        "# Step 2 : Creating Dataset:\n",
        "###It creates a DataFrame df with columns ' num of cars', 'model of care', and ‘driver gender while 0 Woman and 1 MAN’."
      ]
    },
    {
      "cell_type": "code",
      "execution_count": 18,
      "metadata": {
        "id": "qaH3xp1w78cC"
      },
      "outputs": [
        {
          "data": {
            "text/html": [
              "<div>\n",
              "<style scoped>\n",
              "    .dataframe tbody tr th:only-of-type {\n",
              "        vertical-align: middle;\n",
              "    }\n",
              "\n",
              "    .dataframe tbody tr th {\n",
              "        vertical-align: top;\n",
              "    }\n",
              "\n",
              "    .dataframe thead th {\n",
              "        text-align: right;\n",
              "    }\n",
              "</style>\n",
              "<table border=\"1\" class=\"dataframe\">\n",
              "  <thead>\n",
              "    <tr style=\"text-align: right;\">\n",
              "      <th></th>\n",
              "      <th>NoCars</th>\n",
              "      <th>model</th>\n",
              "      <th>gender</th>\n",
              "    </tr>\n",
              "  </thead>\n",
              "  <tbody>\n",
              "    <tr>\n",
              "      <th>0</th>\n",
              "      <td>9</td>\n",
              "      <td>2008</td>\n",
              "      <td>0</td>\n",
              "    </tr>\n",
              "    <tr>\n",
              "      <th>1</th>\n",
              "      <td>12</td>\n",
              "      <td>2010</td>\n",
              "      <td>1</td>\n",
              "    </tr>\n",
              "    <tr>\n",
              "      <th>2</th>\n",
              "      <td>21</td>\n",
              "      <td>2015</td>\n",
              "      <td>1</td>\n",
              "    </tr>\n",
              "  </tbody>\n",
              "</table>\n",
              "</div>"
            ],
            "text/plain": [
              "   NoCars  model  gender\n",
              "0       9   2008       0\n",
              "1      12   2010       1\n",
              "2      21   2015       1"
            ]
          },
          "execution_count": 18,
          "metadata": {},
          "output_type": "execute_result"
        }
      ],
      "source": [
        "# Creating a dataset\n",
        "\n",
        "df = pd.DataFrame([[9, 2008, 0], [12, 2010, 1], [21, 2015, 1]], columns=['NoCars', 'model', 'gender'])\n",
        "df"
      ]
    },
    {
      "cell_type": "markdown",
      "metadata": {
        "id": "mmjNGOXi8Jf6"
      },
      "source": [
        "#Step 3 :Initialize Parameters Function (initialize_parameters):\n",
        "###This function initializes the weights W and biases b for each layer of the neural network. It returns a dictionary containing the initialized parameters."
      ]
    },
    {
      "cell_type": "code",
      "execution_count": 30,
      "metadata": {
        "id": "t6-0Di278GZj"
      },
      "outputs": [],
      "source": [
        "# Initializing parameters\n",
        "def Initializing_parameters(layer_dim):\n",
        "    np.random.seed(3)\n",
        "    parameters = {}\n",
        "    L = len(layer_dim)\n",
        "    for i in range(1, L):\n",
        "        parameters['W' + str(i)] = np.ones((layer_dim[i-1], layer_dim[i])) * 0.1\n",
        "        parameters['b' + str(i)] = np.zeros((layer_dim[i], 1))\n",
        "    return parameters"
      ]
    },
    {
      "cell_type": "markdown",
      "metadata": {
        "id": "YW7asuG_8Q9x"
      },
      "source": [
        "#Step 4 : Forward Propagation Functions (linear_forward, L_layer_forward):\n",
        "### These functions perform the forward pass through the neural network. linear_forward computes the linear transformation 𝑍=𝑊𝑇⋅𝐴prev+𝑏, while **L_layer_forward** iterates through the layers, applying the linear transformation and activation function to compute the output of the network."
      ]
    },
    {
      "cell_type": "code",
      "execution_count": 31,
      "metadata": {
        "id": "4q5yykoz8Qh6"
      },
      "outputs": [],
      "source": [
        "# Forward propagation\n",
        "def linear_forward(a_prev,w,b):\n",
        "    Z = np.dot(w.T, a_prev) + b\n",
        "    return Z\n",
        "\n",
        "def relU(Z):\n",
        "    return np.maximum(0,Z)\n",
        "\n",
        "def L_layer_forward(X, parameters):\n",
        "    A = X\n",
        "    caches = []\n",
        "    L = len(parameters) // 2\n",
        "    for i in range(1, L):\n",
        "        A_prev = A\n",
        "        W = parameters['W' + str(i)]\n",
        "        b = parameters['b' + str(i)]\n",
        "        Z = linear_forward(A_prev, W, b)\n",
        "        A = relU(Z)\n",
        "        cache = (A_prev, W, b, Z)\n",
        "        caches.append(cache)\n",
        "\n",
        "\n",
        "    W_out = parameters['W' + str(L)]\n",
        "    b_out = parameters['b' + str(L)]\n",
        "    Z_out = linear_forward(A, W_out, b_out)\n",
        "    AL = Z_out\n",
        "\n",
        "    return AL, caches"
      ]
    },
    {
      "cell_type": "markdown",
      "metadata": {
        "id": "c3stEx898-tG"
      },
      "source": [
        "#Step 5 : Example Execution\n",
        "\n",
        "###It demonstrates an example execution of the forward pass for the first row of the dataset df, using the initialized parameters."
      ]
    },
    {
      "cell_type": "code",
      "execution_count": 32,
      "metadata": {
        "colab": {
          "base_uri": "https://localhost:8080/"
        },
        "id": "oA0cFFSO896Y",
        "outputId": "127c8252-4850-4a00-8ae9-b2522e376300"
      },
      "outputs": [
        {
          "name": "stdout",
          "output_type": "stream",
          "text": [
            "Final output:\n",
            "[[40.34]]\n"
          ]
        }
      ],
      "source": [
        "# Example execution\n",
        "# Example execution\n",
        "X = df[['NoCars', 'model']].values[0].reshape(2, 1)\n",
        "parameters = Initializing_parameters([2, 2, 1])\n",
        "y_hat, caches = L_layer_forward(X, parameters)\n",
        "print(\"Final output:\")\n",
        "print(y_hat)\n"
      ]
    },
    {
      "cell_type": "markdown",
      "metadata": {
        "id": "ZWTnuk3x9SF6"
      },
      "source": [
        "#**Well Done :)**"
      ]
    }
  ],
  "metadata": {
    "colab": {
      "provenance": []
    },
    "kernelspec": {
      "display_name": "Python 3",
      "name": "python3"
    },
    "language_info": {
      "codemirror_mode": {
        "name": "ipython",
        "version": 3
      },
      "file_extension": ".py",
      "mimetype": "text/x-python",
      "name": "python",
      "nbconvert_exporter": "python",
      "pygments_lexer": "ipython3",
      "version": "3.9.9"
    }
  },
  "nbformat": 4,
  "nbformat_minor": 0
}
